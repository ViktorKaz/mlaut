{
 "cells": [
  {
   "cell_type": "code",
   "execution_count": 1,
   "metadata": {
    "scrolled": false
   },
   "outputs": [
    {
     "name": "stderr",
     "output_type": "stream",
     "text": [
      "/media/viktor/Data/PhD/mleap/py36/lib/python3.6/site-packages/h5py/__init__.py:36: FutureWarning: Conversion of the second argument of issubdtype from `float` to `np.floating` is deprecated. In future, it will be treated as `np.float64 == np.dtype(float).type`.\n",
      "  from ._conv import register_converters as _register_converters\n",
      "/usr/lib/python3.6/importlib/_bootstrap.py:219: RuntimeWarning: compiletime version 3.5 of module 'tensorflow.python.framework.fast_tensor_util' does not match runtime version 3.6\n",
      "  return f(*args, **kwds)\n"
     ]
    }
   ],
   "source": [
    "from download_delgado.delgado_datasets import DownloadAndConvertDelgadoDatasets\n",
    "from mleap.data import Data\n",
    "from mleap.estimators.estimators import instantiate_default_estimators\n",
    "from mleap.experiments import Orchestrator\n",
    "from mleap.analyze_results import AnalyseResults\n",
    "from download_delgado.delgado_datasets import DownloadAndConvertDelgadoDatasets\n"
   ]
  },
  {
   "cell_type": "markdown",
   "metadata": {},
   "source": [
    "### Step 1: Download the datasets"
   ]
  },
  {
   "cell_type": "code",
   "execution_count": null,
   "metadata": {},
   "outputs": [],
   "source": [
    "delgado = DownloadAndConvertDelgadoDatasets()\n",
    "datasets, metadata = delgado.download_and_extract_datasets(verbose = False)"
   ]
  },
  {
   "cell_type": "markdown",
   "metadata": {},
   "source": [
    "### Step 2: Define Input and Output HDF5 objects"
   ]
  },
  {
   "cell_type": "code",
   "execution_count": 2,
   "metadata": {},
   "outputs": [],
   "source": [
    "data = Data()\n",
    "input_io = data.open_hdf5('data/delgado.hdf5', mode='a')\n",
    "out_io = data.open_hdf5('data/classification.hdf5', mode='a')"
   ]
  },
  {
   "cell_type": "markdown",
   "metadata": {},
   "source": [
    "### Step 3: Save the datasets in HDF5 database"
   ]
  },
  {
   "cell_type": "code",
   "execution_count": null,
   "metadata": {
    "scrolled": true
   },
   "outputs": [],
   "source": [
    "# files io object needs to be used in test orch\n",
    "# returned object needs to be integrated in code\n",
    "\n",
    "data.pandas_to_db(save_loc_hdf5='delgado_datasets/', datasets=datasets, \n",
    "                  dts_metadata=metadata, input_io=input_io)"
   ]
  },
  {
   "cell_type": "markdown",
   "metadata": {},
   "source": [
    "### Step 4: Split datasets"
   ]
  },
  {
   "cell_type": "code",
   "execution_count": 3,
   "metadata": {
    "scrolled": true
   },
   "outputs": [
    {
     "name": "stderr",
     "output_type": "stream",
     "text": [
      "2018-03-08 20:39:25,281 [MainThread  ] [WARNI]  Skipping abalone as test/train split already exists in output h5 file.\n",
      "2018-03-08 20:39:25,295 [MainThread  ] [WARNI]  Skipping acute_inflammation as test/train split already exists in output h5 file.\n",
      "2018-03-08 20:39:25,313 [MainThread  ] [WARNI]  Skipping acute_nephritis as test/train split already exists in output h5 file.\n",
      "2018-03-08 20:39:25,346 [MainThread  ] [WARNI]  Skipping adult as test/train split already exists in output h5 file.\n",
      "2018-03-08 20:39:25,366 [MainThread  ] [WARNI]  Skipping annealing as test/train split already exists in output h5 file.\n",
      "2018-03-08 20:39:25,390 [MainThread  ] [WARNI]  Skipping arrhythmia as test/train split already exists in output h5 file.\n",
      "2018-03-08 20:39:25,409 [MainThread  ] [WARNI]  Skipping audiology_std as test/train split already exists in output h5 file.\n",
      "2018-03-08 20:39:25,430 [MainThread  ] [WARNI]  Skipping balance_scale as test/train split already exists in output h5 file.\n",
      "2018-03-08 20:39:25,449 [MainThread  ] [WARNI]  Skipping balloons as test/train split already exists in output h5 file.\n",
      "2018-03-08 20:39:25,467 [MainThread  ] [WARNI]  Skipping bank as test/train split already exists in output h5 file.\n",
      "2018-03-08 20:39:25,487 [MainThread  ] [WARNI]  Skipping blood as test/train split already exists in output h5 file.\n",
      "2018-03-08 20:39:25,513 [MainThread  ] [WARNI]  Skipping breast_cancer as test/train split already exists in output h5 file.\n",
      "2018-03-08 20:39:25,536 [MainThread  ] [WARNI]  Skipping breast_cancer_wisc as test/train split already exists in output h5 file.\n",
      "2018-03-08 20:39:25,557 [MainThread  ] [WARNI]  Skipping breast_cancer_wisc_diag as test/train split already exists in output h5 file.\n",
      "2018-03-08 20:39:25,585 [MainThread  ] [WARNI]  Skipping breast_cancer_wisc_prog as test/train split already exists in output h5 file.\n",
      "2018-03-08 20:39:25,610 [MainThread  ] [WARNI]  Skipping breast_tissue as test/train split already exists in output h5 file.\n",
      "2018-03-08 20:39:25,630 [MainThread  ] [WARNI]  Skipping car as test/train split already exists in output h5 file.\n",
      "2018-03-08 20:39:25,650 [MainThread  ] [WARNI]  Skipping cardiotocography_10clases as test/train split already exists in output h5 file.\n",
      "2018-03-08 20:39:25,673 [MainThread  ] [WARNI]  Skipping cardiotocography_3clases as test/train split already exists in output h5 file.\n",
      "2018-03-08 20:39:25,693 [MainThread  ] [WARNI]  Skipping chess_krvk as test/train split already exists in output h5 file.\n",
      "2018-03-08 20:39:25,718 [MainThread  ] [WARNI]  Skipping chess_krvkp as test/train split already exists in output h5 file.\n",
      "2018-03-08 20:39:25,743 [MainThread  ] [WARNI]  Skipping congressional_voting as test/train split already exists in output h5 file.\n",
      "2018-03-08 20:39:25,763 [MainThread  ] [WARNI]  Skipping conn_bench_sonar_mines_rocks as test/train split already exists in output h5 file.\n",
      "2018-03-08 20:39:25,782 [MainThread  ] [WARNI]  Skipping conn_bench_vowel_deterding as test/train split already exists in output h5 file.\n",
      "2018-03-08 20:39:25,846 [MainThread  ] [WARNI]  Skipping connect_4 as test/train split already exists in output h5 file.\n",
      "2018-03-08 20:39:25,860 [MainThread  ] [WARNI]  Skipping contrac as test/train split already exists in output h5 file.\n",
      "2018-03-08 20:39:25,877 [MainThread  ] [WARNI]  Skipping credit_approval as test/train split already exists in output h5 file.\n",
      "2018-03-08 20:39:25,895 [MainThread  ] [WARNI]  Skipping cylinder_bands as test/train split already exists in output h5 file.\n",
      "2018-03-08 20:39:25,913 [MainThread  ] [WARNI]  Skipping dermatology as test/train split already exists in output h5 file.\n",
      "2018-03-08 20:39:25,935 [MainThread  ] [WARNI]  Skipping echocardiogram as test/train split already exists in output h5 file.\n",
      "2018-03-08 20:39:25,955 [MainThread  ] [WARNI]  Skipping ecoli as test/train split already exists in output h5 file.\n",
      "2018-03-08 20:39:25,977 [MainThread  ] [WARNI]  Skipping energy_y1 as test/train split already exists in output h5 file.\n",
      "2018-03-08 20:39:25,996 [MainThread  ] [WARNI]  Skipping energy_y2 as test/train split already exists in output h5 file.\n",
      "2018-03-08 20:39:26,014 [MainThread  ] [WARNI]  Skipping fertility as test/train split already exists in output h5 file.\n",
      "2018-03-08 20:39:26,030 [MainThread  ] [WARNI]  Skipping flags as test/train split already exists in output h5 file.\n",
      "2018-03-08 20:39:26,050 [MainThread  ] [WARNI]  Skipping glass as test/train split already exists in output h5 file.\n",
      "2018-03-08 20:39:26,075 [MainThread  ] [WARNI]  Skipping haberman_survival as test/train split already exists in output h5 file.\n",
      "2018-03-08 20:39:26,095 [MainThread  ] [WARNI]  Skipping hayes_roth as test/train split already exists in output h5 file.\n",
      "2018-03-08 20:39:26,111 [MainThread  ] [WARNI]  Skipping heart_cleveland as test/train split already exists in output h5 file.\n",
      "2018-03-08 20:39:26,127 [MainThread  ] [WARNI]  Skipping heart_hungarian as test/train split already exists in output h5 file.\n",
      "2018-03-08 20:39:26,150 [MainThread  ] [WARNI]  Skipping heart_switzerland as test/train split already exists in output h5 file.\n",
      "2018-03-08 20:39:26,175 [MainThread  ] [WARNI]  Skipping heart_va as test/train split already exists in output h5 file.\n",
      "2018-03-08 20:39:26,202 [MainThread  ] [WARNI]  Skipping hepatitis as test/train split already exists in output h5 file.\n",
      "2018-03-08 20:39:26,223 [MainThread  ] [WARNI]  Skipping hill_valley as test/train split already exists in output h5 file.\n",
      "2018-03-08 20:39:26,242 [MainThread  ] [WARNI]  Skipping horse_colic as test/train split already exists in output h5 file.\n",
      "2018-03-08 20:39:26,261 [MainThread  ] [WARNI]  Skipping ilpd_indian_liver as test/train split already exists in output h5 file.\n",
      "2018-03-08 20:39:26,283 [MainThread  ] [WARNI]  Skipping image_segmentation as test/train split already exists in output h5 file.\n",
      "2018-03-08 20:39:26,301 [MainThread  ] [WARNI]  Skipping ionosphere as test/train split already exists in output h5 file.\n",
      "2018-03-08 20:39:26,331 [MainThread  ] [WARNI]  Skipping iris as test/train split already exists in output h5 file.\n",
      "2018-03-08 20:39:26,349 [MainThread  ] [WARNI]  Skipping led_display as test/train split already exists in output h5 file.\n",
      "2018-03-08 20:39:26,369 [MainThread  ] [WARNI]  Skipping lenses as test/train split already exists in output h5 file.\n",
      "2018-03-08 20:39:26,395 [MainThread  ] [WARNI]  Skipping letter as test/train split already exists in output h5 file.\n",
      "2018-03-08 20:39:26,418 [MainThread  ] [WARNI]  Skipping libras as test/train split already exists in output h5 file.\n",
      "2018-03-08 20:39:26,435 [MainThread  ] [WARNI]  Skipping low_res_spect as test/train split already exists in output h5 file.\n",
      "2018-03-08 20:39:26,461 [MainThread  ] [WARNI]  Skipping lung_cancer as test/train split already exists in output h5 file.\n",
      "2018-03-08 20:39:26,482 [MainThread  ] [WARNI]  Skipping lymphography as test/train split already exists in output h5 file.\n",
      "2018-03-08 20:39:26,504 [MainThread  ] [WARNI]  Skipping magic as test/train split already exists in output h5 file.\n",
      "2018-03-08 20:39:26,524 [MainThread  ] [WARNI]  Skipping mammographic as test/train split already exists in output h5 file.\n",
      "2018-03-08 20:39:26,641 [MainThread  ] [WARNI]  Skipping miniboone as test/train split already exists in output h5 file.\n",
      "2018-03-08 20:39:26,660 [MainThread  ] [WARNI]  Skipping molec_biol_promoter as test/train split already exists in output h5 file.\n",
      "2018-03-08 20:39:26,684 [MainThread  ] [WARNI]  Skipping molec_biol_splice as test/train split already exists in output h5 file.\n",
      "2018-03-08 20:39:26,712 [MainThread  ] [WARNI]  Skipping monks_1 as test/train split already exists in output h5 file.\n",
      "2018-03-08 20:39:26,730 [MainThread  ] [WARNI]  Skipping monks_2 as test/train split already exists in output h5 file.\n",
      "2018-03-08 20:39:26,752 [MainThread  ] [WARNI]  Skipping monks_3 as test/train split already exists in output h5 file.\n",
      "2018-03-08 20:39:26,772 [MainThread  ] [WARNI]  Skipping mushroom as test/train split already exists in output h5 file.\n",
      "2018-03-08 20:39:26,794 [MainThread  ] [WARNI]  Skipping musk_1 as test/train split already exists in output h5 file.\n",
      "2018-03-08 20:39:26,832 [MainThread  ] [WARNI]  Skipping musk_2 as test/train split already exists in output h5 file.\n"
     ]
    },
    {
     "name": "stderr",
     "output_type": "stream",
     "text": [
      "2018-03-08 20:39:26,852 [MainThread  ] [WARNI]  Skipping nursery as test/train split already exists in output h5 file.\n",
      "2018-03-08 20:39:26,870 [MainThread  ] [WARNI]  Skipping oocytes_merluccius_nucleus_4d as test/train split already exists in output h5 file.\n",
      "2018-03-08 20:39:26,888 [MainThread  ] [WARNI]  Skipping oocytes_merluccius_states_2f as test/train split already exists in output h5 file.\n",
      "2018-03-08 20:39:26,904 [MainThread  ] [WARNI]  Skipping oocytes_trisopterus_nucleus_2f as test/train split already exists in output h5 file.\n",
      "2018-03-08 20:39:26,919 [MainThread  ] [WARNI]  Skipping oocytes_trisopterus_states_5b as test/train split already exists in output h5 file.\n",
      "2018-03-08 20:39:26,943 [MainThread  ] [WARNI]  Skipping optical as test/train split already exists in output h5 file.\n",
      "2018-03-08 20:39:26,965 [MainThread  ] [WARNI]  Skipping ozone as test/train split already exists in output h5 file.\n",
      "2018-03-08 20:39:26,985 [MainThread  ] [WARNI]  Skipping page_blocks as test/train split already exists in output h5 file.\n",
      "2018-03-08 20:39:27,013 [MainThread  ] [WARNI]  Skipping parkinsons as test/train split already exists in output h5 file.\n",
      "2018-03-08 20:39:27,042 [MainThread  ] [WARNI]  Skipping pendigits as test/train split already exists in output h5 file.\n",
      "2018-03-08 20:39:27,062 [MainThread  ] [WARNI]  Skipping pima as test/train split already exists in output h5 file.\n",
      "2018-03-08 20:39:27,082 [MainThread  ] [WARNI]  Skipping pittsburg_bridges_MATERIAL as test/train split already exists in output h5 file.\n",
      "2018-03-08 20:39:27,106 [MainThread  ] [WARNI]  Skipping pittsburg_bridges_REL_L as test/train split already exists in output h5 file.\n",
      "2018-03-08 20:39:27,121 [MainThread  ] [WARNI]  Skipping pittsburg_bridges_SPAN as test/train split already exists in output h5 file.\n",
      "2018-03-08 20:39:27,134 [MainThread  ] [WARNI]  Skipping pittsburg_bridges_TYPE as test/train split already exists in output h5 file.\n",
      "2018-03-08 20:39:27,150 [MainThread  ] [WARNI]  Skipping pittsburg_bridges_T_OR_D as test/train split already exists in output h5 file.\n",
      "2018-03-08 20:39:27,172 [MainThread  ] [WARNI]  Skipping planning as test/train split already exists in output h5 file.\n",
      "2018-03-08 20:39:27,199 [MainThread  ] [WARNI]  Skipping plant_margin as test/train split already exists in output h5 file.\n",
      "2018-03-08 20:39:27,220 [MainThread  ] [WARNI]  Skipping plant_shape as test/train split already exists in output h5 file.\n",
      "2018-03-08 20:39:27,242 [MainThread  ] [WARNI]  Skipping plant_texture as test/train split already exists in output h5 file.\n",
      "2018-03-08 20:39:27,261 [MainThread  ] [WARNI]  Skipping post_operative as test/train split already exists in output h5 file.\n",
      "2018-03-08 20:39:27,280 [MainThread  ] [WARNI]  Skipping primary_tumor as test/train split already exists in output h5 file.\n",
      "2018-03-08 20:39:27,300 [MainThread  ] [WARNI]  Skipping ringnorm as test/train split already exists in output h5 file.\n",
      "2018-03-08 20:39:27,321 [MainThread  ] [WARNI]  Skipping seeds as test/train split already exists in output h5 file.\n",
      "2018-03-08 20:39:27,345 [MainThread  ] [WARNI]  Skipping semeion as test/train split already exists in output h5 file.\n",
      "2018-03-08 20:39:27,363 [MainThread  ] [WARNI]  Skipping soybean as test/train split already exists in output h5 file.\n",
      "2018-03-08 20:39:27,388 [MainThread  ] [WARNI]  Skipping spambase as test/train split already exists in output h5 file.\n",
      "2018-03-08 20:39:27,410 [MainThread  ] [WARNI]  Skipping spect as test/train split already exists in output h5 file.\n",
      "2018-03-08 20:39:27,430 [MainThread  ] [WARNI]  Skipping spectf as test/train split already exists in output h5 file.\n",
      "2018-03-08 20:39:27,456 [MainThread  ] [WARNI]  Skipping statlog_australian_credit as test/train split already exists in output h5 file.\n",
      "2018-03-08 20:39:27,474 [MainThread  ] [WARNI]  Skipping statlog_german_credit as test/train split already exists in output h5 file.\n",
      "2018-03-08 20:39:27,496 [MainThread  ] [WARNI]  Skipping statlog_heart as test/train split already exists in output h5 file.\n",
      "2018-03-08 20:39:27,517 [MainThread  ] [WARNI]  Skipping statlog_image as test/train split already exists in output h5 file.\n",
      "2018-03-08 20:39:27,540 [MainThread  ] [WARNI]  Skipping statlog_landsat as test/train split already exists in output h5 file.\n",
      "2018-03-08 20:39:27,564 [MainThread  ] [WARNI]  Skipping statlog_shuttle as test/train split already exists in output h5 file.\n",
      "2018-03-08 20:39:27,582 [MainThread  ] [WARNI]  Skipping statlog_vehicle as test/train split already exists in output h5 file.\n",
      "2018-03-08 20:39:27,600 [MainThread  ] [WARNI]  Skipping steel_plates as test/train split already exists in output h5 file.\n",
      "2018-03-08 20:39:27,616 [MainThread  ] [WARNI]  Skipping synthetic_control as test/train split already exists in output h5 file.\n",
      "2018-03-08 20:39:27,635 [MainThread  ] [WARNI]  Skipping teaching as test/train split already exists in output h5 file.\n",
      "2018-03-08 20:39:27,658 [MainThread  ] [WARNI]  Skipping thyroid as test/train split already exists in output h5 file.\n",
      "2018-03-08 20:39:27,674 [MainThread  ] [WARNI]  Skipping tic_tac_toe as test/train split already exists in output h5 file.\n",
      "2018-03-08 20:39:27,691 [MainThread  ] [WARNI]  Skipping titanic as test/train split already exists in output h5 file.\n",
      "2018-03-08 20:39:27,706 [MainThread  ] [WARNI]  Skipping trains as test/train split already exists in output h5 file.\n",
      "2018-03-08 20:39:27,723 [MainThread  ] [WARNI]  Skipping twonorm as test/train split already exists in output h5 file.\n",
      "2018-03-08 20:39:27,738 [MainThread  ] [WARNI]  Skipping vertebral_column_2clases as test/train split already exists in output h5 file.\n",
      "2018-03-08 20:39:27,761 [MainThread  ] [WARNI]  Skipping vertebral_column_3clases as test/train split already exists in output h5 file.\n",
      "2018-03-08 20:39:27,784 [MainThread  ] [WARNI]  Skipping wall_following as test/train split already exists in output h5 file.\n",
      "2018-03-08 20:39:27,809 [MainThread  ] [WARNI]  Skipping waveform as test/train split already exists in output h5 file.\n",
      "2018-03-08 20:39:27,833 [MainThread  ] [WARNI]  Skipping waveform_noise as test/train split already exists in output h5 file.\n",
      "2018-03-08 20:39:27,853 [MainThread  ] [WARNI]  Skipping wine as test/train split already exists in output h5 file.\n",
      "2018-03-08 20:39:27,871 [MainThread  ] [WARNI]  Skipping wine_quality_red as test/train split already exists in output h5 file.\n",
      "2018-03-08 20:39:27,890 [MainThread  ] [WARNI]  Skipping wine_quality_white as test/train split already exists in output h5 file.\n",
      "2018-03-08 20:39:27,911 [MainThread  ] [WARNI]  Skipping yeast as test/train split already exists in output h5 file.\n",
      "2018-03-08 20:39:27,932 [MainThread  ] [WARNI]  Skipping zoo as test/train split already exists in output h5 file.\n"
     ]
    }
   ],
   "source": [
    "dts_names_list, dts_names_list_full_path = data.list_datasets(hdf5_io=input_io, hdf5_group='delgado_datasets/')\n",
    "split_dts_list = data.split_datasets(hdf5_in=input_io, hdf5_out=out_io, dataset_paths=dts_names_list_full_path)"
   ]
  },
  {
   "cell_type": "markdown",
   "metadata": {},
   "source": [
    "### Step 5: Instantiate estimator objects and the experiments orchestrator class."
   ]
  },
  {
   "cell_type": "code",
   "execution_count": 4,
   "metadata": {},
   "outputs": [],
   "source": [
    "instantiated_models = instantiate_default_estimators(estimators=['SVC'])\n",
    "\n",
    "test_o = Orchestrator(hdf5_input_io=input_io, hdf5_output_io=out_io, dts_names=dts_names_list,\n",
    "                 original_datasets_group_h5_path='delgado_datasets/')"
   ]
  },
  {
   "cell_type": "markdown",
   "metadata": {},
   "source": [
    "### Step 6: Run the experiments"
   ]
  },
  {
   "cell_type": "code",
   "execution_count": 5,
   "metadata": {
    "scrolled": false
   },
   "outputs": [
    {
     "name": "stdout",
     "output_type": "stream",
     "text": [
      "*** Training models on dataset: abalone. Total datasets processed: 1/121 ***\n",
      "*** Training models on dataset: acute_inflammation. Total datasets processed: 2/121 ***\n",
      "*** Training models on dataset: acute_nephritis. Total datasets processed: 3/121 ***\n",
      "*** Training models on dataset: adult. Total datasets processed: 4/121 ***\n",
      "***************************\n",
      "********  EXITING  ********\n",
      "***************************\n"
     ]
    },
    {
     "ename": "SystemExit",
     "evalue": "",
     "output_type": "error",
     "traceback": [
      "An exception has occurred, use %tb to see the full traceback.\n",
      "\u001b[0;31mSystemExit\u001b[0m\n"
     ]
    },
    {
     "name": "stderr",
     "output_type": "stream",
     "text": [
      "/media/viktor/Data/PhD/mleap/py36/lib/python3.6/site-packages/IPython/core/interactiveshell.py:2918: UserWarning: To exit: use 'exit', 'quit', or Ctrl-D.\n",
      "  warn(\"To exit: use 'exit', 'quit', or Ctrl-D.\", stacklevel=1)\n"
     ]
    }
   ],
   "source": [
    "test_o.run(modelling_strategies=instantiated_models)"
   ]
  },
  {
   "cell_type": "markdown",
   "metadata": {},
   "source": [
    "### Step 6: Analyze the results"
   ]
  },
  {
   "cell_type": "code",
   "execution_count": null,
   "metadata": {},
   "outputs": [],
   "source": [
    "analyze = AnalyseResults(hdf5_output_io=out_io, hdf5_input_io=input_io)\n",
    "observations = analyze.calculate_loss_all_datasets(input_h5_original_datasets_group='delgado_datasets/', \n",
    "                                    output_h5_predictions_group='experiments/predictions/', \n",
    "                                    metric='mean_squared_error')"
   ]
  },
  {
   "cell_type": "markdown",
   "metadata": {},
   "source": [
    "#### t-test"
   ]
  },
  {
   "cell_type": "code",
   "execution_count": null,
   "metadata": {},
   "outputs": [],
   "source": [
    "t_test, t_test_df = analyze.t_test(observations)\n",
    "t_test_df"
   ]
  },
  {
   "cell_type": "markdown",
   "metadata": {},
   "source": [
    "#### sign test"
   ]
  },
  {
   "cell_type": "code",
   "execution_count": null,
   "metadata": {},
   "outputs": [],
   "source": [
    "sign_test, sign_test_df = analyze.sign_test(observations)\n",
    "sign_test_df"
   ]
  },
  {
   "cell_type": "markdown",
   "metadata": {},
   "source": [
    "#### t-test with bonferroni correction"
   ]
  },
  {
   "cell_type": "code",
   "execution_count": null,
   "metadata": {},
   "outputs": [],
   "source": [
    "t_test_bonferroni, t_test_bonferroni_df = analyze.t_test_with_bonferroni_correction(observations)\n",
    "t_test_bonferroni_df"
   ]
  },
  {
   "cell_type": "markdown",
   "metadata": {},
   "source": [
    "#### Wilcoxon test"
   ]
  },
  {
   "cell_type": "code",
   "execution_count": null,
   "metadata": {},
   "outputs": [],
   "source": [
    "wilcoxon_test, wilcoxon_test_df = analyze.wilcoxon_test(observations)\n",
    "wilcoxon_test_df"
   ]
  },
  {
   "cell_type": "markdown",
   "metadata": {},
   "source": [
    "#### Friedman test"
   ]
  },
  {
   "cell_type": "code",
   "execution_count": null,
   "metadata": {},
   "outputs": [],
   "source": [
    "friedman_test, friedman_test_df = analyze.friedman_test(observations)\n",
    "friedman_test_df"
   ]
  },
  {
   "cell_type": "markdown",
   "metadata": {},
   "source": [
    "#### Nemenyi test"
   ]
  },
  {
   "cell_type": "code",
   "execution_count": null,
   "metadata": {},
   "outputs": [],
   "source": [
    "nemeniy_test = analyze.nemenyi(observations)\n",
    "nemeniy_test"
   ]
  }
 ],
 "metadata": {
  "kernelspec": {
   "display_name": "Python 3",
   "language": "python",
   "name": "python3"
  },
  "language_info": {
   "codemirror_mode": {
    "name": "ipython",
    "version": 3
   },
   "file_extension": ".py",
   "mimetype": "text/x-python",
   "name": "python",
   "nbconvert_exporter": "python",
   "pygments_lexer": "ipython3",
   "version": "3.6.3"
  }
 },
 "nbformat": 4,
 "nbformat_minor": 2
}
