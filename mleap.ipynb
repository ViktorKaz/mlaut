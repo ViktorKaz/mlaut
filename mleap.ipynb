{
 "cells": [
  {
   "cell_type": "code",
   "execution_count": 1,
   "metadata": {
    "scrolled": false
   },
   "outputs": [
    {
     "name": "stderr",
     "output_type": "stream",
     "text": [
      "/media/viktor/Data/PhD/mleap/py36/lib/python3.6/site-packages/h5py/__init__.py:36: FutureWarning: Conversion of the second argument of issubdtype from `float` to `np.floating` is deprecated. In future, it will be treated as `np.float64 == np.dtype(float).type`.\n",
      "  from ._conv import register_converters as _register_converters\n",
      "/usr/lib/python3.6/importlib/_bootstrap.py:219: RuntimeWarning: compiletime version 3.5 of module 'tensorflow.python.framework.fast_tensor_util' does not match runtime version 3.6\n",
      "  return f(*args, **kwds)\n"
     ]
    }
   ],
   "source": [
    "from download_delgado.delgado_datasets import DownloadAndConvertDelgadoDatasets\n",
    "from mleap.data import Data\n",
    "from mleap.estimators.estimators import instantiate_default_estimators\n",
    "from mleap.experiments import Orchestrator\n",
    "from mleap.analyze_results import AnalyseResults\n",
    "from download_delgado.delgado_datasets import DownloadAndConvertDelgadoDatasets\n"
   ]
  },
  {
   "cell_type": "markdown",
   "metadata": {},
   "source": [
    "### Step 1: Download the datasets"
   ]
  },
  {
   "cell_type": "code",
   "execution_count": null,
   "metadata": {},
   "outputs": [],
   "source": [
    "delgado = DownloadAndConvertDelgadoDatasets()\n",
    "datasets, metadata = delgado.download_and_extract_datasets(verbose = False)"
   ]
  },
  {
   "cell_type": "markdown",
   "metadata": {},
   "source": [
    "### Step 2: Define Input and Output HDF5 objects"
   ]
  },
  {
   "cell_type": "code",
   "execution_count": 2,
   "metadata": {},
   "outputs": [],
   "source": [
    "data = Data()\n",
    "input_io = data.open_hdf5('data/delgado.hdf5', mode='a')\n",
    "out_io = data.open_hdf5('data/classification.hdf5', mode='a')"
   ]
  },
  {
   "cell_type": "markdown",
   "metadata": {},
   "source": [
    "### Step 3: Save the datasets in HDF5 database"
   ]
  },
  {
   "cell_type": "code",
   "execution_count": null,
   "metadata": {
    "scrolled": true
   },
   "outputs": [],
   "source": [
    "# files io object needs to be used in test orch\n",
    "# returned object needs to be integrated in code\n",
    "\n",
    "data.pandas_to_db(save_loc_hdf5='delgado_datasets/', datasets=datasets, \n",
    "                  dts_metadata=metadata, input_io=input_io)"
   ]
  },
  {
   "cell_type": "markdown",
   "metadata": {},
   "source": [
    "### Step 4: Split datasets"
   ]
  },
  {
   "cell_type": "code",
   "execution_count": 3,
   "metadata": {
    "scrolled": true
   },
   "outputs": [
    {
     "name": "stderr",
     "output_type": "stream",
     "text": [
      "2018-03-07 22:51:22,551 [MainThread  ] [WARNI]  Skipping abalone as test/train split already exists in output h5 file.\n",
      "2018-03-07 22:51:22,561 [MainThread  ] [WARNI]  Skipping acute_inflammation as test/train split already exists in output h5 file.\n",
      "2018-03-07 22:51:22,585 [MainThread  ] [WARNI]  Skipping acute_nephritis as test/train split already exists in output h5 file.\n",
      "2018-03-07 22:51:22,612 [MainThread  ] [WARNI]  Skipping adult as test/train split already exists in output h5 file.\n",
      "2018-03-07 22:51:22,639 [MainThread  ] [WARNI]  Skipping annealing as test/train split already exists in output h5 file.\n",
      "2018-03-07 22:51:22,658 [MainThread  ] [WARNI]  Skipping arrhythmia as test/train split already exists in output h5 file.\n",
      "2018-03-07 22:51:22,684 [MainThread  ] [WARNI]  Skipping audiology_std as test/train split already exists in output h5 file.\n",
      "2018-03-07 22:51:22,710 [MainThread  ] [WARNI]  Skipping balance_scale as test/train split already exists in output h5 file.\n",
      "2018-03-07 22:51:22,733 [MainThread  ] [WARNI]  Skipping balloons as test/train split already exists in output h5 file.\n",
      "2018-03-07 22:51:22,754 [MainThread  ] [WARNI]  Skipping bank as test/train split already exists in output h5 file.\n",
      "2018-03-07 22:51:22,773 [MainThread  ] [WARNI]  Skipping blood as test/train split already exists in output h5 file.\n",
      "2018-03-07 22:51:22,792 [MainThread  ] [WARNI]  Skipping breast_cancer as test/train split already exists in output h5 file.\n",
      "2018-03-07 22:51:22,810 [MainThread  ] [WARNI]  Skipping breast_cancer_wisc as test/train split already exists in output h5 file.\n",
      "2018-03-07 22:51:22,831 [MainThread  ] [WARNI]  Skipping breast_cancer_wisc_diag as test/train split already exists in output h5 file.\n",
      "2018-03-07 22:51:22,852 [MainThread  ] [WARNI]  Skipping breast_cancer_wisc_prog as test/train split already exists in output h5 file.\n",
      "2018-03-07 22:51:22,879 [MainThread  ] [WARNI]  Skipping breast_tissue as test/train split already exists in output h5 file.\n",
      "2018-03-07 22:51:22,902 [MainThread  ] [WARNI]  Skipping car as test/train split already exists in output h5 file.\n",
      "2018-03-07 22:51:22,922 [MainThread  ] [WARNI]  Skipping cardiotocography_10clases as test/train split already exists in output h5 file.\n",
      "2018-03-07 22:51:22,944 [MainThread  ] [WARNI]  Skipping cardiotocography_3clases as test/train split already exists in output h5 file.\n",
      "2018-03-07 22:51:22,971 [MainThread  ] [WARNI]  Skipping chess_krvk as test/train split already exists in output h5 file.\n",
      "2018-03-07 22:51:22,987 [MainThread  ] [WARNI]  Skipping chess_krvkp as test/train split already exists in output h5 file.\n",
      "2018-03-07 22:51:23,007 [MainThread  ] [WARNI]  Skipping congressional_voting as test/train split already exists in output h5 file.\n",
      "2018-03-07 22:51:23,030 [MainThread  ] [WARNI]  Skipping conn_bench_sonar_mines_rocks as test/train split already exists in output h5 file.\n",
      "2018-03-07 22:51:23,042 [MainThread  ] [WARNI]  Skipping conn_bench_vowel_deterding as test/train split already exists in output h5 file.\n",
      "2018-03-07 22:51:23,073 [MainThread  ] [WARNI]  Skipping connect_4 as test/train split already exists in output h5 file.\n",
      "2018-03-07 22:51:23,092 [MainThread  ] [WARNI]  Skipping contrac as test/train split already exists in output h5 file.\n",
      "2018-03-07 22:51:23,111 [MainThread  ] [WARNI]  Skipping credit_approval as test/train split already exists in output h5 file.\n",
      "2018-03-07 22:51:23,124 [MainThread  ] [WARNI]  Skipping cylinder_bands as test/train split already exists in output h5 file.\n",
      "2018-03-07 22:51:23,143 [MainThread  ] [WARNI]  Skipping dermatology as test/train split already exists in output h5 file.\n",
      "2018-03-07 22:51:23,160 [MainThread  ] [WARNI]  Skipping echocardiogram as test/train split already exists in output h5 file.\n",
      "2018-03-07 22:51:23,184 [MainThread  ] [WARNI]  Skipping ecoli as test/train split already exists in output h5 file.\n",
      "2018-03-07 22:51:23,209 [MainThread  ] [WARNI]  Skipping energy_y1 as test/train split already exists in output h5 file.\n",
      "2018-03-07 22:51:23,230 [MainThread  ] [WARNI]  Skipping energy_y2 as test/train split already exists in output h5 file.\n",
      "2018-03-07 22:51:23,245 [MainThread  ] [WARNI]  Skipping fertility as test/train split already exists in output h5 file.\n",
      "2018-03-07 22:51:23,264 [MainThread  ] [WARNI]  Skipping flags as test/train split already exists in output h5 file.\n",
      "2018-03-07 22:51:23,282 [MainThread  ] [WARNI]  Skipping glass as test/train split already exists in output h5 file.\n",
      "2018-03-07 22:51:23,308 [MainThread  ] [WARNI]  Skipping haberman_survival as test/train split already exists in output h5 file.\n",
      "2018-03-07 22:51:23,325 [MainThread  ] [WARNI]  Skipping hayes_roth as test/train split already exists in output h5 file.\n",
      "2018-03-07 22:51:23,343 [MainThread  ] [WARNI]  Skipping heart_cleveland as test/train split already exists in output h5 file.\n",
      "2018-03-07 22:51:23,356 [MainThread  ] [WARNI]  Skipping heart_hungarian as test/train split already exists in output h5 file.\n",
      "2018-03-07 22:51:23,375 [MainThread  ] [WARNI]  Skipping heart_switzerland as test/train split already exists in output h5 file.\n",
      "2018-03-07 22:51:23,390 [MainThread  ] [WARNI]  Skipping heart_va as test/train split already exists in output h5 file.\n",
      "2018-03-07 22:51:23,408 [MainThread  ] [WARNI]  Skipping hepatitis as test/train split already exists in output h5 file.\n",
      "2018-03-07 22:51:23,430 [MainThread  ] [WARNI]  Skipping hill_valley as test/train split already exists in output h5 file.\n",
      "2018-03-07 22:51:23,444 [MainThread  ] [WARNI]  Skipping horse_colic as test/train split already exists in output h5 file.\n",
      "2018-03-07 22:51:23,468 [MainThread  ] [WARNI]  Skipping ilpd_indian_liver as test/train split already exists in output h5 file.\n",
      "2018-03-07 22:51:23,485 [MainThread  ] [WARNI]  Skipping image_segmentation as test/train split already exists in output h5 file.\n",
      "2018-03-07 22:51:23,503 [MainThread  ] [WARNI]  Skipping ionosphere as test/train split already exists in output h5 file.\n",
      "2018-03-07 22:51:23,522 [MainThread  ] [WARNI]  Skipping iris as test/train split already exists in output h5 file.\n",
      "2018-03-07 22:51:23,544 [MainThread  ] [WARNI]  Skipping led_display as test/train split already exists in output h5 file.\n",
      "2018-03-07 22:51:23,561 [MainThread  ] [WARNI]  Skipping lenses as test/train split already exists in output h5 file.\n",
      "2018-03-07 22:51:23,577 [MainThread  ] [WARNI]  Skipping letter as test/train split already exists in output h5 file.\n",
      "2018-03-07 22:51:23,594 [MainThread  ] [WARNI]  Skipping libras as test/train split already exists in output h5 file.\n",
      "2018-03-07 22:51:23,617 [MainThread  ] [WARNI]  Skipping low_res_spect as test/train split already exists in output h5 file.\n",
      "2018-03-07 22:51:23,635 [MainThread  ] [WARNI]  Skipping lung_cancer as test/train split already exists in output h5 file.\n",
      "2018-03-07 22:51:23,656 [MainThread  ] [WARNI]  Skipping lymphography as test/train split already exists in output h5 file.\n",
      "2018-03-07 22:51:23,675 [MainThread  ] [WARNI]  Skipping magic as test/train split already exists in output h5 file.\n",
      "2018-03-07 22:51:23,689 [MainThread  ] [WARNI]  Skipping mammographic as test/train split already exists in output h5 file.\n",
      "2018-03-07 22:51:23,741 [MainThread  ] [WARNI]  Skipping miniboone as test/train split already exists in output h5 file.\n",
      "2018-03-07 22:51:23,762 [MainThread  ] [WARNI]  Skipping molec_biol_promoter as test/train split already exists in output h5 file.\n",
      "2018-03-07 22:51:23,776 [MainThread  ] [WARNI]  Skipping molec_biol_splice as test/train split already exists in output h5 file.\n",
      "2018-03-07 22:51:23,794 [MainThread  ] [WARNI]  Skipping monks_1 as test/train split already exists in output h5 file.\n",
      "2018-03-07 22:51:23,816 [MainThread  ] [WARNI]  Skipping monks_2 as test/train split already exists in output h5 file.\n",
      "2018-03-07 22:51:23,834 [MainThread  ] [WARNI]  Skipping monks_3 as test/train split already exists in output h5 file.\n",
      "2018-03-07 22:51:23,857 [MainThread  ] [WARNI]  Skipping mushroom as test/train split already exists in output h5 file.\n",
      "2018-03-07 22:51:23,874 [MainThread  ] [WARNI]  Skipping musk_1 as test/train split already exists in output h5 file.\n",
      "2018-03-07 22:51:23,905 [MainThread  ] [WARNI]  Skipping musk_2 as test/train split already exists in output h5 file.\n"
     ]
    },
    {
     "name": "stderr",
     "output_type": "stream",
     "text": [
      "2018-03-07 22:51:23,929 [MainThread  ] [WARNI]  Skipping nursery as test/train split already exists in output h5 file.\n",
      "2018-03-07 22:51:23,958 [MainThread  ] [WARNI]  Skipping oocytes_merluccius_nucleus_4d as test/train split already exists in output h5 file.\n",
      "2018-03-07 22:51:23,976 [MainThread  ] [WARNI]  Skipping oocytes_merluccius_states_2f as test/train split already exists in output h5 file.\n",
      "2018-03-07 22:51:23,996 [MainThread  ] [WARNI]  Skipping oocytes_trisopterus_nucleus_2f as test/train split already exists in output h5 file.\n",
      "2018-03-07 22:51:24,010 [MainThread  ] [WARNI]  Skipping oocytes_trisopterus_states_5b as test/train split already exists in output h5 file.\n",
      "2018-03-07 22:51:24,025 [MainThread  ] [WARNI]  Skipping optical as test/train split already exists in output h5 file.\n",
      "2018-03-07 22:51:24,045 [MainThread  ] [WARNI]  Skipping ozone as test/train split already exists in output h5 file.\n",
      "2018-03-07 22:51:24,057 [MainThread  ] [WARNI]  Skipping page_blocks as test/train split already exists in output h5 file.\n",
      "2018-03-07 22:51:24,071 [MainThread  ] [WARNI]  Skipping parkinsons as test/train split already exists in output h5 file.\n",
      "2018-03-07 22:51:24,092 [MainThread  ] [WARNI]  Skipping pendigits as test/train split already exists in output h5 file.\n",
      "2018-03-07 22:51:24,106 [MainThread  ] [WARNI]  Skipping pima as test/train split already exists in output h5 file.\n",
      "2018-03-07 22:51:24,121 [MainThread  ] [WARNI]  Skipping pittsburg_bridges_MATERIAL as test/train split already exists in output h5 file.\n",
      "2018-03-07 22:51:24,138 [MainThread  ] [WARNI]  Skipping pittsburg_bridges_REL_L as test/train split already exists in output h5 file.\n",
      "2018-03-07 22:51:24,156 [MainThread  ] [WARNI]  Skipping pittsburg_bridges_SPAN as test/train split already exists in output h5 file.\n",
      "2018-03-07 22:51:24,172 [MainThread  ] [WARNI]  Skipping pittsburg_bridges_TYPE as test/train split already exists in output h5 file.\n",
      "2018-03-07 22:51:24,190 [MainThread  ] [WARNI]  Skipping pittsburg_bridges_T_OR_D as test/train split already exists in output h5 file.\n",
      "2018-03-07 22:51:24,218 [MainThread  ] [WARNI]  Skipping planning as test/train split already exists in output h5 file.\n",
      "2018-03-07 22:51:24,237 [MainThread  ] [WARNI]  Skipping plant_margin as test/train split already exists in output h5 file.\n",
      "2018-03-07 22:51:24,252 [MainThread  ] [WARNI]  Skipping plant_shape as test/train split already exists in output h5 file.\n",
      "2018-03-07 22:51:24,264 [MainThread  ] [WARNI]  Skipping plant_texture as test/train split already exists in output h5 file.\n",
      "2018-03-07 22:51:24,289 [MainThread  ] [WARNI]  Skipping post_operative as test/train split already exists in output h5 file.\n",
      "2018-03-07 22:51:24,308 [MainThread  ] [WARNI]  Skipping primary_tumor as test/train split already exists in output h5 file.\n",
      "2018-03-07 22:51:24,321 [MainThread  ] [WARNI]  Skipping ringnorm as test/train split already exists in output h5 file.\n",
      "2018-03-07 22:51:24,340 [MainThread  ] [WARNI]  Skipping seeds as test/train split already exists in output h5 file.\n",
      "2018-03-07 22:51:24,369 [MainThread  ] [WARNI]  Skipping semeion as test/train split already exists in output h5 file.\n",
      "2018-03-07 22:51:24,388 [MainThread  ] [WARNI]  Skipping soybean as test/train split already exists in output h5 file.\n",
      "2018-03-07 22:51:24,407 [MainThread  ] [WARNI]  Skipping spambase as test/train split already exists in output h5 file.\n",
      "2018-03-07 22:51:24,423 [MainThread  ] [WARNI]  Skipping spect as test/train split already exists in output h5 file.\n",
      "2018-03-07 22:51:24,436 [MainThread  ] [WARNI]  Skipping spectf as test/train split already exists in output h5 file.\n",
      "2018-03-07 22:51:24,455 [MainThread  ] [WARNI]  Skipping statlog_australian_credit as test/train split already exists in output h5 file.\n",
      "2018-03-07 22:51:24,469 [MainThread  ] [WARNI]  Skipping statlog_german_credit as test/train split already exists in output h5 file.\n",
      "2018-03-07 22:51:24,484 [MainThread  ] [WARNI]  Skipping statlog_heart as test/train split already exists in output h5 file.\n",
      "2018-03-07 22:51:24,496 [MainThread  ] [WARNI]  Skipping statlog_image as test/train split already exists in output h5 file.\n",
      "2018-03-07 22:51:24,509 [MainThread  ] [WARNI]  Skipping statlog_landsat as test/train split already exists in output h5 file.\n",
      "2018-03-07 22:51:24,522 [MainThread  ] [WARNI]  Skipping statlog_shuttle as test/train split already exists in output h5 file.\n",
      "2018-03-07 22:51:24,546 [MainThread  ] [WARNI]  Skipping statlog_vehicle as test/train split already exists in output h5 file.\n",
      "2018-03-07 22:51:24,564 [MainThread  ] [WARNI]  Skipping steel_plates as test/train split already exists in output h5 file.\n",
      "2018-03-07 22:51:24,583 [MainThread  ] [WARNI]  Skipping synthetic_control as test/train split already exists in output h5 file.\n",
      "2018-03-07 22:51:24,601 [MainThread  ] [WARNI]  Skipping teaching as test/train split already exists in output h5 file.\n",
      "2018-03-07 22:51:24,622 [MainThread  ] [WARNI]  Skipping thyroid as test/train split already exists in output h5 file.\n",
      "2018-03-07 22:51:24,643 [MainThread  ] [WARNI]  Skipping tic_tac_toe as test/train split already exists in output h5 file.\n",
      "2018-03-07 22:51:24,664 [MainThread  ] [WARNI]  Skipping titanic as test/train split already exists in output h5 file.\n",
      "2018-03-07 22:51:24,687 [MainThread  ] [WARNI]  Skipping trains as test/train split already exists in output h5 file.\n",
      "2018-03-07 22:51:24,707 [MainThread  ] [WARNI]  Skipping twonorm as test/train split already exists in output h5 file.\n",
      "2018-03-07 22:51:24,727 [MainThread  ] [WARNI]  Skipping vertebral_column_2clases as test/train split already exists in output h5 file.\n",
      "2018-03-07 22:51:24,748 [MainThread  ] [WARNI]  Skipping vertebral_column_3clases as test/train split already exists in output h5 file.\n",
      "2018-03-07 22:51:24,770 [MainThread  ] [WARNI]  Skipping wall_following as test/train split already exists in output h5 file.\n",
      "2018-03-07 22:51:24,787 [MainThread  ] [WARNI]  Skipping waveform as test/train split already exists in output h5 file.\n",
      "2018-03-07 22:51:24,810 [MainThread  ] [WARNI]  Skipping waveform_noise as test/train split already exists in output h5 file.\n",
      "2018-03-07 22:51:24,855 [MainThread  ] [WARNI]  Skipping wine as test/train split already exists in output h5 file.\n",
      "2018-03-07 22:51:24,881 [MainThread  ] [WARNI]  Skipping wine_quality_red as test/train split already exists in output h5 file.\n",
      "2018-03-07 22:51:24,901 [MainThread  ] [WARNI]  Skipping wine_quality_white as test/train split already exists in output h5 file.\n",
      "2018-03-07 22:51:24,923 [MainThread  ] [WARNI]  Skipping yeast as test/train split already exists in output h5 file.\n",
      "2018-03-07 22:51:24,949 [MainThread  ] [WARNI]  Skipping zoo as test/train split already exists in output h5 file.\n"
     ]
    }
   ],
   "source": [
    "dts_names_list, dts_names_list_full_path = data.list_datasets(hdf5_io=input_io, hdf5_group='delgado_datasets/')\n",
    "split_dts_list = data.split_datasets(hdf5_in=input_io, hdf5_out=out_io, dataset_paths=dts_names_list_full_path)"
   ]
  },
  {
   "cell_type": "markdown",
   "metadata": {},
   "source": [
    "### Step 5: Instantiate estimator objects and the experiments orchestrator class."
   ]
  },
  {
   "cell_type": "code",
   "execution_count": 4,
   "metadata": {},
   "outputs": [],
   "source": [
    "instantiated_models = instantiate_default_estimators(estimators=['SVC'])\n",
    "\n",
    "test_o = Orchestrator(hdf5_input_io=input_io, hdf5_output_io=out_io, dts_names=dts_names_list,\n",
    "                 original_datasets_group_h5_path='delgado_datasets/')"
   ]
  },
  {
   "cell_type": "markdown",
   "metadata": {},
   "source": [
    "### Step 6: Run the experiments"
   ]
  },
  {
   "cell_type": "code",
   "execution_count": 6,
   "metadata": {
    "scrolled": false
   },
   "outputs": [
    {
     "name": "stdout",
     "output_type": "stream",
     "text": [
      "*** Training models on dataset: abalone. Total datasets processed: 1/121 ***\n",
      "*** Training models on dataset: acute_inflammation. Total datasets processed: 2/121 ***\n",
      "*** Training models on dataset: acute_nephritis. Total datasets processed: 3/121 ***\n",
      "*** Training models on dataset: adult. Total datasets processed: 4/121 ***\n",
      "***************************\n",
      "********  EXITING  ********\n",
      "***************************\n"
     ]
    },
    {
     "ename": "SystemExit",
     "evalue": "",
     "output_type": "error",
     "traceback": [
      "An exception has occurred, use %tb to see the full traceback.\n",
      "\u001b[0;31mSystemExit\u001b[0m\n"
     ]
    },
    {
     "name": "stderr",
     "output_type": "stream",
     "text": [
      "/media/viktor/Data/PhD/mleap/py36/lib/python3.6/site-packages/IPython/core/interactiveshell.py:2918: UserWarning: To exit: use 'exit', 'quit', or Ctrl-D.\n",
      "  warn(\"To exit: use 'exit', 'quit', or Ctrl-D.\", stacklevel=1)\n"
     ]
    }
   ],
   "source": [
    "test_o.run(modelling_strategies=instantiated_models)"
   ]
  },
  {
   "cell_type": "markdown",
   "metadata": {},
   "source": [
    "### Step 6: Analyze the results"
   ]
  },
  {
   "cell_type": "code",
   "execution_count": null,
   "metadata": {},
   "outputs": [],
   "source": [
    "analyze = AnalyseResults(hdf5_output_io=out_io, hdf5_input_io=input_io)\n",
    "observations = analyze.calculate_loss_all_datasets(input_h5_original_datasets_group='delgado_datasets/', \n",
    "                                    output_h5_predictions_group='experiments/predictions/', \n",
    "                                    metric='mean_squared_error')"
   ]
  },
  {
   "cell_type": "markdown",
   "metadata": {},
   "source": [
    "#### t-test"
   ]
  },
  {
   "cell_type": "code",
   "execution_count": null,
   "metadata": {},
   "outputs": [],
   "source": [
    "t_test, t_test_df = analyze.t_test(observations)\n",
    "t_test_df"
   ]
  },
  {
   "cell_type": "markdown",
   "metadata": {},
   "source": [
    "#### sign test"
   ]
  },
  {
   "cell_type": "code",
   "execution_count": null,
   "metadata": {},
   "outputs": [],
   "source": [
    "sign_test, sign_test_df = analyze.sign_test(observations)\n",
    "sign_test_df"
   ]
  },
  {
   "cell_type": "markdown",
   "metadata": {},
   "source": [
    "#### t-test with bonferroni correction"
   ]
  },
  {
   "cell_type": "code",
   "execution_count": null,
   "metadata": {},
   "outputs": [],
   "source": [
    "t_test_bonferroni, t_test_bonferroni_df = analyze.t_test_with_bonferroni_correction(observations)\n",
    "t_test_bonferroni_df"
   ]
  },
  {
   "cell_type": "markdown",
   "metadata": {},
   "source": [
    "#### Wilcoxon test"
   ]
  },
  {
   "cell_type": "code",
   "execution_count": null,
   "metadata": {},
   "outputs": [],
   "source": [
    "wilcoxon_test, wilcoxon_test_df = analyze.wilcoxon_test(observations)\n",
    "wilcoxon_test_df"
   ]
  },
  {
   "cell_type": "markdown",
   "metadata": {},
   "source": [
    "#### Friedman test"
   ]
  },
  {
   "cell_type": "code",
   "execution_count": null,
   "metadata": {},
   "outputs": [],
   "source": [
    "friedman_test, friedman_test_df = analyze.friedman_test(observations)\n",
    "friedman_test_df"
   ]
  },
  {
   "cell_type": "markdown",
   "metadata": {},
   "source": [
    "#### Nemenyi test"
   ]
  },
  {
   "cell_type": "code",
   "execution_count": null,
   "metadata": {},
   "outputs": [],
   "source": [
    "nemeniy_test = analyze.nemenyi(observations)\n",
    "nemeniy_test"
   ]
  }
 ],
 "metadata": {
  "kernelspec": {
   "display_name": "Python 3",
   "language": "python",
   "name": "python3"
  },
  "language_info": {
   "codemirror_mode": {
    "name": "ipython",
    "version": 3
   },
   "file_extension": ".py",
   "mimetype": "text/x-python",
   "name": "python",
   "nbconvert_exporter": "python",
   "pygments_lexer": "ipython3",
   "version": "3.6.3"
  }
 },
 "nbformat": 4,
 "nbformat_minor": 2
}
