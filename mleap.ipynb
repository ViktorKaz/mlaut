{
 "cells": [
  {
   "cell_type": "code",
   "execution_count": 1,
   "metadata": {
    "scrolled": false
   },
   "outputs": [
    {
     "name": "stderr",
     "output_type": "stream",
     "text": [
      "/media/viktor/Data/PhD/mlaut/py36/lib/python3.6/site-packages/h5py/__init__.py:36: FutureWarning: Conversion of the second argument of issubdtype from `float` to `np.floating` is deprecated. In future, it will be treated as `np.float64 == np.dtype(float).type`.\n",
      "  from ._conv import register_converters as _register_converters\n",
      "/usr/lib/python3.6/importlib/_bootstrap.py:219: RuntimeWarning: compiletime version 3.5 of module 'tensorflow.python.framework.fast_tensor_util' does not match runtime version 3.6\n",
      "  return f(*args, **kwds)\n"
     ]
    }
   ],
   "source": [
    "from download_delgado.delgado_datasets import DownloadAndConvertDelgadoDatasets\n",
    "from mlaut.data import Data\n",
    "from mlaut.estimators.estimators import instantiate_default_estimators\n",
    "from mlaut.experiments import Orchestrator\n",
    "from mlaut.analyze_results import AnalyseResults\n",
    "from download_delgado.delgado_datasets import DownloadAndConvertDelgadoDatasets\n"
   ]
  },
  {
   "cell_type": "markdown",
   "metadata": {},
   "source": [
    "### Step 1: Download the datasets"
   ]
  },
  {
   "cell_type": "code",
   "execution_count": 2,
   "metadata": {},
   "outputs": [
    {
     "name": "stdout",
     "output_type": "stream",
     "text": [
      "Error: Dataset Delgado_data/molec-biol-protein-second has a different number of arff files\n"
     ]
    }
   ],
   "source": [
    "delgado = DownloadAndConvertDelgadoDatasets()\n",
    "datasets, metadata = delgado.download_and_extract_datasets(verbose = False)"
   ]
  },
  {
   "cell_type": "markdown",
   "metadata": {},
   "source": [
    "### Step 2: Define Input and Output HDF5 objects"
   ]
  },
  {
   "cell_type": "code",
   "execution_count": 3,
   "metadata": {},
   "outputs": [],
   "source": [
    "data = Data()\n",
    "input_io = data.open_hdf5('data/delgado.hdf5', mode='a')\n",
    "out_io = data.open_hdf5('data/classification.hdf5', mode='a')"
   ]
  },
  {
   "cell_type": "markdown",
   "metadata": {},
   "source": [
    "### Step 3: Save the datasets in HDF5 database"
   ]
  },
  {
   "cell_type": "code",
   "execution_count": 4,
   "metadata": {
    "scrolled": true
   },
   "outputs": [],
   "source": [
    "# files io object needs to be used in test orch\n",
    "# returned object needs to be integrated in code\n",
    "\n",
    "data.pandas_to_db(save_loc_hdf5='delgado_datasets/', datasets=datasets, \n",
    "                  dts_metadata=metadata, input_io=input_io)"
   ]
  },
  {
   "cell_type": "markdown",
   "metadata": {},
   "source": [
    "### Step 4: Split datasets"
   ]
  },
  {
   "cell_type": "code",
   "execution_count": 5,
   "metadata": {
    "scrolled": true
   },
   "outputs": [
    {
     "name": "stderr",
     "output_type": "stream",
     "text": [
      "2018-03-18 21:42:41,313 [MainThread  ] [WARNI]  Skipping abalone as test/train split already exists in output h5 file.\n",
      "2018-03-18 21:42:41,327 [MainThread  ] [WARNI]  Skipping acute_inflammation as test/train split already exists in output h5 file.\n",
      "2018-03-18 21:42:41,343 [MainThread  ] [WARNI]  Skipping acute_nephritis as test/train split already exists in output h5 file.\n",
      "2018-03-18 21:42:41,361 [MainThread  ] [WARNI]  Skipping adult as test/train split already exists in output h5 file.\n",
      "2018-03-18 21:42:41,381 [MainThread  ] [WARNI]  Skipping annealing as test/train split already exists in output h5 file.\n",
      "2018-03-18 21:42:41,394 [MainThread  ] [WARNI]  Skipping arrhythmia as test/train split already exists in output h5 file.\n",
      "2018-03-18 21:42:41,415 [MainThread  ] [WARNI]  Skipping audiology_std as test/train split already exists in output h5 file.\n",
      "2018-03-18 21:42:41,431 [MainThread  ] [WARNI]  Skipping balance_scale as test/train split already exists in output h5 file.\n",
      "2018-03-18 21:42:41,451 [MainThread  ] [WARNI]  Skipping balloons as test/train split already exists in output h5 file.\n",
      "2018-03-18 21:42:41,469 [MainThread  ] [WARNI]  Skipping bank as test/train split already exists in output h5 file.\n",
      "2018-03-18 21:42:41,493 [MainThread  ] [WARNI]  Skipping blood as test/train split already exists in output h5 file.\n",
      "2018-03-18 21:42:41,513 [MainThread  ] [WARNI]  Skipping breast_cancer as test/train split already exists in output h5 file.\n",
      "2018-03-18 21:42:41,532 [MainThread  ] [WARNI]  Skipping breast_cancer_wisc as test/train split already exists in output h5 file.\n",
      "2018-03-18 21:42:41,556 [MainThread  ] [WARNI]  Skipping breast_cancer_wisc_diag as test/train split already exists in output h5 file.\n",
      "2018-03-18 21:42:41,574 [MainThread  ] [WARNI]  Skipping breast_cancer_wisc_prog as test/train split already exists in output h5 file.\n",
      "2018-03-18 21:42:41,592 [MainThread  ] [WARNI]  Skipping breast_tissue as test/train split already exists in output h5 file.\n",
      "2018-03-18 21:42:41,606 [MainThread  ] [WARNI]  Skipping car as test/train split already exists in output h5 file.\n",
      "2018-03-18 21:42:41,624 [MainThread  ] [WARNI]  Skipping cardiotocography_10clases as test/train split already exists in output h5 file.\n",
      "2018-03-18 21:42:41,638 [MainThread  ] [WARNI]  Skipping cardiotocography_3clases as test/train split already exists in output h5 file.\n",
      "2018-03-18 21:42:41,660 [MainThread  ] [WARNI]  Skipping chess_krvk as test/train split already exists in output h5 file.\n",
      "2018-03-18 21:42:41,674 [MainThread  ] [WARNI]  Skipping chess_krvkp as test/train split already exists in output h5 file.\n",
      "2018-03-18 21:42:41,690 [MainThread  ] [WARNI]  Skipping congressional_voting as test/train split already exists in output h5 file.\n",
      "2018-03-18 21:42:41,707 [MainThread  ] [WARNI]  Skipping conn_bench_sonar_mines_rocks as test/train split already exists in output h5 file.\n",
      "2018-03-18 21:42:41,724 [MainThread  ] [WARNI]  Skipping conn_bench_vowel_deterding as test/train split already exists in output h5 file.\n",
      "2018-03-18 21:42:41,750 [MainThread  ] [WARNI]  Skipping connect_4 as test/train split already exists in output h5 file.\n",
      "2018-03-18 21:42:41,765 [MainThread  ] [WARNI]  Skipping contrac as test/train split already exists in output h5 file.\n",
      "2018-03-18 21:42:41,784 [MainThread  ] [WARNI]  Skipping credit_approval as test/train split already exists in output h5 file.\n",
      "2018-03-18 21:42:41,801 [MainThread  ] [WARNI]  Skipping cylinder_bands as test/train split already exists in output h5 file.\n",
      "2018-03-18 21:42:41,818 [MainThread  ] [WARNI]  Skipping dermatology as test/train split already exists in output h5 file.\n",
      "2018-03-18 21:42:41,840 [MainThread  ] [WARNI]  Skipping echocardiogram as test/train split already exists in output h5 file.\n",
      "2018-03-18 21:42:41,861 [MainThread  ] [WARNI]  Skipping ecoli as test/train split already exists in output h5 file.\n",
      "2018-03-18 21:42:41,878 [MainThread  ] [WARNI]  Skipping energy_y1 as test/train split already exists in output h5 file.\n",
      "2018-03-18 21:42:41,895 [MainThread  ] [WARNI]  Skipping energy_y2 as test/train split already exists in output h5 file.\n",
      "2018-03-18 21:42:41,908 [MainThread  ] [WARNI]  Skipping fertility as test/train split already exists in output h5 file.\n",
      "2018-03-18 21:42:41,931 [MainThread  ] [WARNI]  Skipping flags as test/train split already exists in output h5 file.\n",
      "2018-03-18 21:42:41,946 [MainThread  ] [WARNI]  Skipping glass as test/train split already exists in output h5 file.\n",
      "2018-03-18 21:42:41,966 [MainThread  ] [WARNI]  Skipping haberman_survival as test/train split already exists in output h5 file.\n",
      "2018-03-18 21:42:41,982 [MainThread  ] [WARNI]  Skipping hayes_roth as test/train split already exists in output h5 file.\n",
      "2018-03-18 21:42:41,997 [MainThread  ] [WARNI]  Skipping heart_cleveland as test/train split already exists in output h5 file.\n",
      "2018-03-18 21:42:42,015 [MainThread  ] [WARNI]  Skipping heart_hungarian as test/train split already exists in output h5 file.\n",
      "2018-03-18 21:42:42,032 [MainThread  ] [WARNI]  Skipping heart_switzerland as test/train split already exists in output h5 file.\n",
      "2018-03-18 21:42:42,048 [MainThread  ] [WARNI]  Skipping heart_va as test/train split already exists in output h5 file.\n",
      "2018-03-18 21:42:42,065 [MainThread  ] [WARNI]  Skipping hepatitis as test/train split already exists in output h5 file.\n",
      "2018-03-18 21:42:42,083 [MainThread  ] [WARNI]  Skipping hill_valley as test/train split already exists in output h5 file.\n",
      "2018-03-18 21:42:42,099 [MainThread  ] [WARNI]  Skipping horse_colic as test/train split already exists in output h5 file.\n",
      "2018-03-18 21:42:42,118 [MainThread  ] [WARNI]  Skipping ilpd_indian_liver as test/train split already exists in output h5 file.\n",
      "2018-03-18 21:42:42,135 [MainThread  ] [WARNI]  Skipping image_segmentation as test/train split already exists in output h5 file.\n",
      "2018-03-18 21:42:42,155 [MainThread  ] [WARNI]  Skipping ionosphere as test/train split already exists in output h5 file.\n",
      "2018-03-18 21:42:42,178 [MainThread  ] [WARNI]  Skipping iris as test/train split already exists in output h5 file.\n",
      "2018-03-18 21:42:42,199 [MainThread  ] [WARNI]  Skipping led_display as test/train split already exists in output h5 file.\n",
      "2018-03-18 21:42:42,217 [MainThread  ] [WARNI]  Skipping lenses as test/train split already exists in output h5 file.\n",
      "2018-03-18 21:42:42,236 [MainThread  ] [WARNI]  Skipping letter as test/train split already exists in output h5 file.\n",
      "2018-03-18 21:42:42,254 [MainThread  ] [WARNI]  Skipping libras as test/train split already exists in output h5 file.\n",
      "2018-03-18 21:42:42,274 [MainThread  ] [WARNI]  Skipping low_res_spect as test/train split already exists in output h5 file.\n",
      "2018-03-18 21:42:42,289 [MainThread  ] [WARNI]  Skipping lung_cancer as test/train split already exists in output h5 file.\n",
      "2018-03-18 21:42:42,308 [MainThread  ] [WARNI]  Skipping lymphography as test/train split already exists in output h5 file.\n",
      "2018-03-18 21:42:42,329 [MainThread  ] [WARNI]  Skipping magic as test/train split already exists in output h5 file.\n",
      "2018-03-18 21:42:42,342 [MainThread  ] [WARNI]  Skipping mammographic as test/train split already exists in output h5 file.\n",
      "2018-03-18 21:42:42,391 [MainThread  ] [WARNI]  Skipping miniboone as test/train split already exists in output h5 file.\n",
      "2018-03-18 21:42:42,409 [MainThread  ] [WARNI]  Skipping molec_biol_promoter as test/train split already exists in output h5 file.\n",
      "2018-03-18 21:42:42,425 [MainThread  ] [WARNI]  Skipping molec_biol_splice as test/train split already exists in output h5 file.\n",
      "2018-03-18 21:42:42,441 [MainThread  ] [WARNI]  Skipping monks_1 as test/train split already exists in output h5 file.\n",
      "2018-03-18 21:42:42,459 [MainThread  ] [WARNI]  Skipping monks_2 as test/train split already exists in output h5 file.\n",
      "2018-03-18 21:42:42,476 [MainThread  ] [WARNI]  Skipping monks_3 as test/train split already exists in output h5 file.\n",
      "2018-03-18 21:42:42,494 [MainThread  ] [WARNI]  Skipping mushroom as test/train split already exists in output h5 file.\n",
      "2018-03-18 21:42:42,514 [MainThread  ] [WARNI]  Skipping musk_1 as test/train split already exists in output h5 file.\n",
      "2018-03-18 21:42:42,540 [MainThread  ] [WARNI]  Skipping musk_2 as test/train split already exists in output h5 file.\n"
     ]
    },
    {
     "name": "stderr",
     "output_type": "stream",
     "text": [
      "2018-03-18 21:42:42,557 [MainThread  ] [WARNI]  Skipping nursery as test/train split already exists in output h5 file.\n",
      "2018-03-18 21:42:42,572 [MainThread  ] [WARNI]  Skipping oocytes_merluccius_nucleus_4d as test/train split already exists in output h5 file.\n",
      "2018-03-18 21:42:42,592 [MainThread  ] [WARNI]  Skipping oocytes_merluccius_states_2f as test/train split already exists in output h5 file.\n",
      "2018-03-18 21:42:42,610 [MainThread  ] [WARNI]  Skipping oocytes_trisopterus_nucleus_2f as test/train split already exists in output h5 file.\n",
      "2018-03-18 21:42:42,629 [MainThread  ] [WARNI]  Skipping oocytes_trisopterus_states_5b as test/train split already exists in output h5 file.\n",
      "2018-03-18 21:42:42,647 [MainThread  ] [WARNI]  Skipping optical as test/train split already exists in output h5 file.\n",
      "2018-03-18 21:42:42,660 [MainThread  ] [WARNI]  Skipping ozone as test/train split already exists in output h5 file.\n",
      "2018-03-18 21:42:42,678 [MainThread  ] [WARNI]  Skipping page_blocks as test/train split already exists in output h5 file.\n",
      "2018-03-18 21:42:42,690 [MainThread  ] [WARNI]  Skipping parkinsons as test/train split already exists in output h5 file.\n",
      "2018-03-18 21:42:42,708 [MainThread  ] [WARNI]  Skipping pendigits as test/train split already exists in output h5 file.\n",
      "2018-03-18 21:42:42,722 [MainThread  ] [WARNI]  Skipping pima as test/train split already exists in output h5 file.\n",
      "2018-03-18 21:42:42,732 [MainThread  ] [WARNI]  Skipping pittsburg_bridges_MATERIAL as test/train split already exists in output h5 file.\n",
      "2018-03-18 21:42:42,746 [MainThread  ] [WARNI]  Skipping pittsburg_bridges_REL_L as test/train split already exists in output h5 file.\n",
      "2018-03-18 21:42:42,759 [MainThread  ] [WARNI]  Skipping pittsburg_bridges_SPAN as test/train split already exists in output h5 file.\n",
      "2018-03-18 21:42:42,773 [MainThread  ] [WARNI]  Skipping pittsburg_bridges_TYPE as test/train split already exists in output h5 file.\n",
      "2018-03-18 21:42:42,783 [MainThread  ] [WARNI]  Skipping pittsburg_bridges_T_OR_D as test/train split already exists in output h5 file.\n",
      "2018-03-18 21:42:42,793 [MainThread  ] [WARNI]  Skipping planning as test/train split already exists in output h5 file.\n",
      "2018-03-18 21:42:42,807 [MainThread  ] [WARNI]  Skipping plant_margin as test/train split already exists in output h5 file.\n",
      "2018-03-18 21:42:42,822 [MainThread  ] [WARNI]  Skipping plant_shape as test/train split already exists in output h5 file.\n",
      "2018-03-18 21:42:42,833 [MainThread  ] [WARNI]  Skipping plant_texture as test/train split already exists in output h5 file.\n",
      "2018-03-18 21:42:42,843 [MainThread  ] [WARNI]  Skipping post_operative as test/train split already exists in output h5 file.\n",
      "2018-03-18 21:42:42,857 [MainThread  ] [WARNI]  Skipping primary_tumor as test/train split already exists in output h5 file.\n",
      "2018-03-18 21:42:42,873 [MainThread  ] [WARNI]  Skipping ringnorm as test/train split already exists in output h5 file.\n",
      "2018-03-18 21:42:42,889 [MainThread  ] [WARNI]  Skipping seeds as test/train split already exists in output h5 file.\n",
      "2018-03-18 21:42:42,909 [MainThread  ] [WARNI]  Skipping semeion as test/train split already exists in output h5 file.\n",
      "2018-03-18 21:42:42,927 [MainThread  ] [WARNI]  Skipping soybean as test/train split already exists in output h5 file.\n",
      "2018-03-18 21:42:42,946 [MainThread  ] [WARNI]  Skipping spambase as test/train split already exists in output h5 file.\n",
      "2018-03-18 21:42:42,964 [MainThread  ] [WARNI]  Skipping spect as test/train split already exists in output h5 file.\n",
      "2018-03-18 21:42:42,977 [MainThread  ] [WARNI]  Skipping spectf as test/train split already exists in output h5 file.\n",
      "2018-03-18 21:42:42,992 [MainThread  ] [WARNI]  Skipping statlog_australian_credit as test/train split already exists in output h5 file.\n",
      "2018-03-18 21:42:43,005 [MainThread  ] [WARNI]  Skipping statlog_german_credit as test/train split already exists in output h5 file.\n",
      "2018-03-18 21:42:43,015 [MainThread  ] [WARNI]  Skipping statlog_heart as test/train split already exists in output h5 file.\n",
      "2018-03-18 21:42:43,025 [MainThread  ] [WARNI]  Skipping statlog_image as test/train split already exists in output h5 file.\n",
      "2018-03-18 21:42:43,040 [MainThread  ] [WARNI]  Skipping statlog_landsat as test/train split already exists in output h5 file.\n",
      "2018-03-18 21:42:43,055 [MainThread  ] [WARNI]  Skipping statlog_shuttle as test/train split already exists in output h5 file.\n",
      "2018-03-18 21:42:43,067 [MainThread  ] [WARNI]  Skipping statlog_vehicle as test/train split already exists in output h5 file.\n",
      "2018-03-18 21:42:43,081 [MainThread  ] [WARNI]  Skipping steel_plates as test/train split already exists in output h5 file.\n",
      "2018-03-18 21:42:43,093 [MainThread  ] [WARNI]  Skipping synthetic_control as test/train split already exists in output h5 file.\n",
      "2018-03-18 21:42:43,109 [MainThread  ] [WARNI]  Skipping teaching as test/train split already exists in output h5 file.\n",
      "2018-03-18 21:42:43,127 [MainThread  ] [WARNI]  Skipping thyroid as test/train split already exists in output h5 file.\n",
      "2018-03-18 21:42:43,141 [MainThread  ] [WARNI]  Skipping tic_tac_toe as test/train split already exists in output h5 file.\n",
      "2018-03-18 21:42:43,157 [MainThread  ] [WARNI]  Skipping titanic as test/train split already exists in output h5 file.\n",
      "2018-03-18 21:42:43,174 [MainThread  ] [WARNI]  Skipping trains as test/train split already exists in output h5 file.\n",
      "2018-03-18 21:42:43,189 [MainThread  ] [WARNI]  Skipping twonorm as test/train split already exists in output h5 file.\n",
      "2018-03-18 21:42:43,203 [MainThread  ] [WARNI]  Skipping vertebral_column_2clases as test/train split already exists in output h5 file.\n",
      "2018-03-18 21:42:43,222 [MainThread  ] [WARNI]  Skipping vertebral_column_3clases as test/train split already exists in output h5 file.\n",
      "2018-03-18 21:42:43,241 [MainThread  ] [WARNI]  Skipping wall_following as test/train split already exists in output h5 file.\n",
      "2018-03-18 21:42:43,255 [MainThread  ] [WARNI]  Skipping waveform as test/train split already exists in output h5 file.\n",
      "2018-03-18 21:42:43,268 [MainThread  ] [WARNI]  Skipping waveform_noise as test/train split already exists in output h5 file.\n",
      "2018-03-18 21:42:43,281 [MainThread  ] [WARNI]  Skipping wine as test/train split already exists in output h5 file.\n",
      "2018-03-18 21:42:43,294 [MainThread  ] [WARNI]  Skipping wine_quality_red as test/train split already exists in output h5 file.\n",
      "2018-03-18 21:42:43,308 [MainThread  ] [WARNI]  Skipping wine_quality_white as test/train split already exists in output h5 file.\n",
      "2018-03-18 21:42:43,318 [MainThread  ] [WARNI]  Skipping yeast as test/train split already exists in output h5 file.\n",
      "2018-03-18 21:42:43,332 [MainThread  ] [WARNI]  Skipping zoo as test/train split already exists in output h5 file.\n"
     ]
    }
   ],
   "source": [
    "dts_names_list, dts_names_list_full_path = data.list_datasets(hdf5_io=input_io, hdf5_group='delgado_datasets/')\n",
    "split_dts_list = data.split_datasets(hdf5_in=input_io, hdf5_out=out_io, dataset_paths=dts_names_list_full_path)"
   ]
  },
  {
   "cell_type": "markdown",
   "metadata": {},
   "source": [
    "### Step 5: Instantiate estimator objects and the experiments orchestrator class."
   ]
  },
  {
   "cell_type": "code",
   "execution_count": 6,
   "metadata": {},
   "outputs": [],
   "source": [
    "instantiated_models = instantiate_default_estimators(estimators=['NeuralNetworkDeepClassifier'])\n",
    "\n",
    "orchest = Orchestrator(hdf5_input_io=input_io, hdf5_output_io=out_io, dts_names=dts_names_list[0:2],\n",
    "                 original_datasets_group_h5_path='delgado_datasets/')"
   ]
  },
  {
   "cell_type": "markdown",
   "metadata": {},
   "source": [
    "### Step 6: Run the experiments"
   ]
  },
  {
   "cell_type": "code",
   "execution_count": 7,
   "metadata": {
    "scrolled": true
   },
   "outputs": [
    {
     "name": "stdout",
     "output_type": "stream",
     "text": [
      "*** Training models on dataset: abalone. Total datasets processed: 1/2 ***\n"
     ]
    },
    {
     "ename": "ValueError",
     "evalue": "cannot reshape array of size 8394 into shape (2798,1)",
     "output_type": "error",
     "traceback": [
      "\u001b[0;31m---------------------------------------------------------------------------\u001b[0m",
      "\u001b[0;31mValueError\u001b[0m                                Traceback (most recent call last)",
      "\u001b[0;32m<ipython-input-7-7c9f51a0a8e5>\u001b[0m in \u001b[0;36m<module>\u001b[0;34m()\u001b[0m\n\u001b[0;32m----> 1\u001b[0;31m \u001b[0morchest\u001b[0m\u001b[0;34m.\u001b[0m\u001b[0mrun\u001b[0m\u001b[0;34m(\u001b[0m\u001b[0mmodelling_strategies\u001b[0m\u001b[0;34m=\u001b[0m\u001b[0minstantiated_models\u001b[0m\u001b[0;34m)\u001b[0m\u001b[0;34m\u001b[0m\u001b[0m\n\u001b[0m",
      "\u001b[0;32m/media/viktor/Data/PhD/mlaut/mlaut/experiments/orchestrator.py\u001b[0m in \u001b[0;36mrun\u001b[0;34m(self, modelling_strategies)\u001b[0m\n\u001b[1;32m     87\u001b[0m                                                                                   \u001b[0my_train\u001b[0m\u001b[0;34m,\u001b[0m\u001b[0;34m\u001b[0m\u001b[0m\n\u001b[1;32m     88\u001b[0m                                                                                   \u001b[0mmodelling_strategies\u001b[0m\u001b[0;34m,\u001b[0m\u001b[0;34m\u001b[0m\u001b[0m\n\u001b[0;32m---> 89\u001b[0;31m                                                                                   dts_name)\n\u001b[0m\u001b[1;32m     90\u001b[0m                 \u001b[0mself\u001b[0m\u001b[0;34m.\u001b[0m\u001b[0m_output_io\u001b[0m\u001b[0;34m.\u001b[0m\u001b[0msave_ml_strategy_timestamps\u001b[0m\u001b[0;34m(\u001b[0m\u001b[0mtimestamps_df\u001b[0m\u001b[0;34m,\u001b[0m \u001b[0mdts_name\u001b[0m\u001b[0;34m)\u001b[0m\u001b[0;34m\u001b[0m\u001b[0m\n\u001b[1;32m     91\u001b[0m \u001b[0;34m\u001b[0m\u001b[0m\n",
      "\u001b[0;32m/media/viktor/Data/PhD/mlaut/mlaut/experiments/experiments.py\u001b[0m in \u001b[0;36mrun_experiments\u001b[0;34m(self, X_train, y_train, modelling_strategies, dts_name)\u001b[0m\n\u001b[1;32m     66\u001b[0m                                                         \u001b[0minput_dim\u001b[0m\u001b[0;34m=\u001b[0m\u001b[0minput_dim\u001b[0m\u001b[0;34m,\u001b[0m\u001b[0;34m\u001b[0m\u001b[0m\n\u001b[1;32m     67\u001b[0m                                                         num_samples=num_samples)\n\u001b[0;32m---> 68\u001b[0;31m                 \u001b[0mtrained_model\u001b[0m \u001b[0;34m=\u001b[0m \u001b[0mbuilt_model\u001b[0m\u001b[0;34m.\u001b[0m\u001b[0mfit\u001b[0m\u001b[0;34m(\u001b[0m\u001b[0mX_train\u001b[0m\u001b[0;34m,\u001b[0m \u001b[0my_train\u001b[0m\u001b[0;34m)\u001b[0m\u001b[0;34m\u001b[0m\u001b[0m\n\u001b[0m\u001b[1;32m     69\u001b[0m \u001b[0;34m\u001b[0m\u001b[0m\n\u001b[1;32m     70\u001b[0m                 \u001b[0mtimestamps_df\u001b[0m \u001b[0;34m=\u001b[0m \u001b[0mself\u001b[0m\u001b[0;34m.\u001b[0m\u001b[0mrecord_timestamp\u001b[0m\u001b[0;34m(\u001b[0m\u001b[0mml_strategy_name\u001b[0m\u001b[0;34m,\u001b[0m \u001b[0mbegin_timestamp\u001b[0m\u001b[0;34m,\u001b[0m \u001b[0mtimestamps_df\u001b[0m\u001b[0;34m)\u001b[0m\u001b[0;34m\u001b[0m\u001b[0m\n",
      "\u001b[0;32m/media/viktor/Data/PhD/mlaut/py36/lib/python3.6/site-packages/tensorflow/python/keras/_impl/keras/wrappers/scikit_learn.py\u001b[0m in \u001b[0;36mfit\u001b[0;34m(self, x, y, **kwargs)\u001b[0m\n\u001b[1;32m    223\u001b[0m       \u001b[0;32mraise\u001b[0m \u001b[0mValueError\u001b[0m\u001b[0;34m(\u001b[0m\u001b[0;34m'Invalid shape for y: '\u001b[0m \u001b[0;34m+\u001b[0m \u001b[0mstr\u001b[0m\u001b[0;34m(\u001b[0m\u001b[0my\u001b[0m\u001b[0;34m.\u001b[0m\u001b[0mshape\u001b[0m\u001b[0;34m)\u001b[0m\u001b[0;34m)\u001b[0m\u001b[0;34m\u001b[0m\u001b[0m\n\u001b[1;32m    224\u001b[0m     \u001b[0mself\u001b[0m\u001b[0;34m.\u001b[0m\u001b[0mn_classes_\u001b[0m \u001b[0;34m=\u001b[0m \u001b[0mlen\u001b[0m\u001b[0;34m(\u001b[0m\u001b[0mself\u001b[0m\u001b[0;34m.\u001b[0m\u001b[0mclasses_\u001b[0m\u001b[0;34m)\u001b[0m\u001b[0;34m\u001b[0m\u001b[0m\n\u001b[0;32m--> 225\u001b[0;31m     \u001b[0;32mreturn\u001b[0m \u001b[0msuper\u001b[0m\u001b[0;34m(\u001b[0m\u001b[0mKerasClassifier\u001b[0m\u001b[0;34m,\u001b[0m \u001b[0mself\u001b[0m\u001b[0;34m)\u001b[0m\u001b[0;34m.\u001b[0m\u001b[0mfit\u001b[0m\u001b[0;34m(\u001b[0m\u001b[0mx\u001b[0m\u001b[0;34m,\u001b[0m \u001b[0my\u001b[0m\u001b[0;34m,\u001b[0m \u001b[0;34m**\u001b[0m\u001b[0mkwargs\u001b[0m\u001b[0;34m)\u001b[0m\u001b[0;34m\u001b[0m\u001b[0m\n\u001b[0m\u001b[1;32m    226\u001b[0m \u001b[0;34m\u001b[0m\u001b[0m\n\u001b[1;32m    227\u001b[0m   \u001b[0;32mdef\u001b[0m \u001b[0mpredict\u001b[0m\u001b[0;34m(\u001b[0m\u001b[0mself\u001b[0m\u001b[0;34m,\u001b[0m \u001b[0mx\u001b[0m\u001b[0;34m,\u001b[0m \u001b[0;34m**\u001b[0m\u001b[0mkwargs\u001b[0m\u001b[0;34m)\u001b[0m\u001b[0;34m:\u001b[0m\u001b[0;34m\u001b[0m\u001b[0m\n",
      "\u001b[0;32m/media/viktor/Data/PhD/mlaut/py36/lib/python3.6/site-packages/tensorflow/python/keras/_impl/keras/wrappers/scikit_learn.py\u001b[0m in \u001b[0;36mfit\u001b[0;34m(self, x, y, **kwargs)\u001b[0m\n\u001b[1;32m    166\u001b[0m     \u001b[0mfit_args\u001b[0m\u001b[0;34m.\u001b[0m\u001b[0mupdate\u001b[0m\u001b[0;34m(\u001b[0m\u001b[0mkwargs\u001b[0m\u001b[0;34m)\u001b[0m\u001b[0;34m\u001b[0m\u001b[0m\n\u001b[1;32m    167\u001b[0m \u001b[0;34m\u001b[0m\u001b[0m\n\u001b[0;32m--> 168\u001b[0;31m     \u001b[0mhistory\u001b[0m \u001b[0;34m=\u001b[0m \u001b[0mself\u001b[0m\u001b[0;34m.\u001b[0m\u001b[0mmodel\u001b[0m\u001b[0;34m.\u001b[0m\u001b[0mfit\u001b[0m\u001b[0;34m(\u001b[0m\u001b[0mx\u001b[0m\u001b[0;34m,\u001b[0m \u001b[0my\u001b[0m\u001b[0;34m,\u001b[0m \u001b[0;34m**\u001b[0m\u001b[0mfit_args\u001b[0m\u001b[0;34m)\u001b[0m\u001b[0;34m\u001b[0m\u001b[0m\n\u001b[0m\u001b[1;32m    169\u001b[0m \u001b[0;34m\u001b[0m\u001b[0m\n\u001b[1;32m    170\u001b[0m     \u001b[0;32mreturn\u001b[0m \u001b[0mhistory\u001b[0m\u001b[0;34m\u001b[0m\u001b[0m\n",
      "\u001b[0;32m/media/viktor/Data/PhD/mlaut/mlaut/estimators/nn_estimators.py\u001b[0m in \u001b[0;36mfit\u001b[0;34m(self, X_train, y_train, batch_size, epochs, verbose, callbacks, validation_split, validation_data, shuffle, class_weight, sample_weight, initial_epoch, steps_per_epoch, validation_steps)\u001b[0m\n\u001b[1;32m    272\u001b[0m         \u001b[0mreshaped_y\u001b[0m \u001b[0;34m=\u001b[0m \u001b[0my_train\u001b[0m\u001b[0;34m.\u001b[0m\u001b[0mreshape\u001b[0m\u001b[0;34m(\u001b[0m\u001b[0mlen_y\u001b[0m\u001b[0;34m,\u001b[0m \u001b[0;36m1\u001b[0m\u001b[0;34m)\u001b[0m\u001b[0;34m\u001b[0m\u001b[0m\n\u001b[1;32m    273\u001b[0m         \u001b[0my_train_onehot_encoded\u001b[0m \u001b[0;34m=\u001b[0m \u001b[0monehot_encoder\u001b[0m\u001b[0;34m.\u001b[0m\u001b[0mfit_transform\u001b[0m\u001b[0;34m(\u001b[0m\u001b[0mreshaped_y\u001b[0m\u001b[0;34m)\u001b[0m\u001b[0;34m\u001b[0m\u001b[0m\n\u001b[0;32m--> 274\u001b[0;31m         \u001b[0mself\u001b[0m\u001b[0;34m.\u001b[0m\u001b[0mfit\u001b[0m\u001b[0;34m(\u001b[0m\u001b[0mX_train\u001b[0m\u001b[0;34m,\u001b[0m \u001b[0my_train_onehot_encoded\u001b[0m\u001b[0;34m)\u001b[0m\u001b[0;34m\u001b[0m\u001b[0m\n\u001b[0m\u001b[1;32m    275\u001b[0m \u001b[0;34m\u001b[0m\u001b[0m\n\u001b[1;32m    276\u001b[0m     \u001b[0;32mdef\u001b[0m \u001b[0mpredict\u001b[0m\u001b[0;34m(\u001b[0m\u001b[0mself\u001b[0m\u001b[0;34m,\u001b[0m \u001b[0mX_test\u001b[0m\u001b[0;34m)\u001b[0m\u001b[0;34m:\u001b[0m\u001b[0;34m\u001b[0m\u001b[0m\n",
      "\u001b[0;32m/media/viktor/Data/PhD/mlaut/mlaut/estimators/nn_estimators.py\u001b[0m in \u001b[0;36mfit\u001b[0;34m(self, X_train, y_train, batch_size, epochs, verbose, callbacks, validation_split, validation_data, shuffle, class_weight, sample_weight, initial_epoch, steps_per_epoch, validation_steps)\u001b[0m\n\u001b[1;32m    270\u001b[0m         \u001b[0monehot_encoder\u001b[0m \u001b[0;34m=\u001b[0m \u001b[0mOneHotEncoder\u001b[0m\u001b[0;34m(\u001b[0m\u001b[0msparse\u001b[0m\u001b[0;34m=\u001b[0m\u001b[0;32mFalse\u001b[0m\u001b[0;34m)\u001b[0m\u001b[0;34m\u001b[0m\u001b[0m\n\u001b[1;32m    271\u001b[0m         \u001b[0mlen_y\u001b[0m \u001b[0;34m=\u001b[0m \u001b[0mlen\u001b[0m\u001b[0;34m(\u001b[0m\u001b[0my_train\u001b[0m\u001b[0;34m)\u001b[0m\u001b[0;34m\u001b[0m\u001b[0m\n\u001b[0;32m--> 272\u001b[0;31m         \u001b[0mreshaped_y\u001b[0m \u001b[0;34m=\u001b[0m \u001b[0my_train\u001b[0m\u001b[0;34m.\u001b[0m\u001b[0mreshape\u001b[0m\u001b[0;34m(\u001b[0m\u001b[0mlen_y\u001b[0m\u001b[0;34m,\u001b[0m \u001b[0;36m1\u001b[0m\u001b[0;34m)\u001b[0m\u001b[0;34m\u001b[0m\u001b[0m\n\u001b[0m\u001b[1;32m    273\u001b[0m         \u001b[0my_train_onehot_encoded\u001b[0m \u001b[0;34m=\u001b[0m \u001b[0monehot_encoder\u001b[0m\u001b[0;34m.\u001b[0m\u001b[0mfit_transform\u001b[0m\u001b[0;34m(\u001b[0m\u001b[0mreshaped_y\u001b[0m\u001b[0;34m)\u001b[0m\u001b[0;34m\u001b[0m\u001b[0m\n\u001b[1;32m    274\u001b[0m         \u001b[0mself\u001b[0m\u001b[0;34m.\u001b[0m\u001b[0mfit\u001b[0m\u001b[0;34m(\u001b[0m\u001b[0mX_train\u001b[0m\u001b[0;34m,\u001b[0m \u001b[0my_train_onehot_encoded\u001b[0m\u001b[0;34m)\u001b[0m\u001b[0;34m\u001b[0m\u001b[0m\n",
      "\u001b[0;31mValueError\u001b[0m: cannot reshape array of size 8394 into shape (2798,1)"
     ]
    }
   ],
   "source": [
    "orchest.run(modelling_strategies=instantiated_models)"
   ]
  },
  {
   "cell_type": "markdown",
   "metadata": {},
   "source": [
    "### Step 7: Make predictions on the test sets"
   ]
  },
  {
   "cell_type": "code",
   "execution_count": null,
   "metadata": {
    "scrolled": true
   },
   "outputs": [],
   "source": [
    "orchest.predict_all(trained_models_dir='data/trained_models', estimators=instantiated_models)"
   ]
  },
  {
   "cell_type": "markdown",
   "metadata": {},
   "source": [
    "### Step 8: Analyze the results"
   ]
  },
  {
   "cell_type": "code",
   "execution_count": null,
   "metadata": {},
   "outputs": [],
   "source": [
    "analyze = AnalyseResults(hdf5_output_io=out_io, \n",
    "                         hdf5_input_io=input_io,\n",
    "                         input_h5_original_datasets_group='delgado_datasets/', \n",
    "                         output_h5_predictions_group='experiments/predictions/')\n",
    "error_all_datasets = analyze.calculate_error_all_datasets(metric='mean_squared_error')\n",
    "# observations = analyze.calculate_loss_all_datasets(input_h5_original_datasets_group='delgado_datasets/', \n",
    "#                                     output_h5_predictions_group='experiments/predictions/', \n",
    "#                                     metric='mean_squared_error')"
   ]
  },
  {
   "cell_type": "markdown",
   "metadata": {},
   "source": [
    "#### t-test"
   ]
  },
  {
   "cell_type": "code",
   "execution_count": null,
   "metadata": {},
   "outputs": [],
   "source": [
    "t_test, t_test_df = analyze.t_test(error_all_datasets)\n",
    "t_test_df"
   ]
  },
  {
   "cell_type": "markdown",
   "metadata": {},
   "source": [
    "#### sign test"
   ]
  },
  {
   "cell_type": "code",
   "execution_count": null,
   "metadata": {},
   "outputs": [],
   "source": [
    "sign_test, sign_test_df = analyze.sign_test(error_all_datasets)\n",
    "sign_test_df"
   ]
  },
  {
   "cell_type": "markdown",
   "metadata": {},
   "source": [
    "#### t-test with bonferroni correction"
   ]
  },
  {
   "cell_type": "code",
   "execution_count": null,
   "metadata": {},
   "outputs": [],
   "source": [
    "t_test_bonferroni, t_test_bonferroni_df = analyze.t_test_with_bonferroni_correction(error_all_datasets)\n",
    "t_test_bonferroni_df"
   ]
  },
  {
   "cell_type": "markdown",
   "metadata": {},
   "source": [
    "#### Wilcoxon test"
   ]
  },
  {
   "cell_type": "code",
   "execution_count": null,
   "metadata": {
    "scrolled": true
   },
   "outputs": [],
   "source": [
    "wilcoxon_test, wilcoxon_test_df = analyze.wilcoxon_test(error_all_datasets)\n",
    "wilcoxon_test_df"
   ]
  },
  {
   "cell_type": "markdown",
   "metadata": {},
   "source": [
    "#### Friedman test"
   ]
  },
  {
   "cell_type": "code",
   "execution_count": null,
   "metadata": {},
   "outputs": [],
   "source": [
    "friedman_test, friedman_test_df = analyze.friedman_test(error_all_datasets)\n",
    "friedman_test_df"
   ]
  },
  {
   "cell_type": "markdown",
   "metadata": {},
   "source": [
    "#### Nemenyi test"
   ]
  },
  {
   "cell_type": "code",
   "execution_count": null,
   "metadata": {},
   "outputs": [],
   "source": [
    "nemeniy_test = analyze.nemenyi(error_all_datasets)\n",
    "nemeniy_test"
   ]
  },
  {
   "cell_type": "code",
   "execution_count": null,
   "metadata": {},
   "outputs": [],
   "source": [
    "nemeniy_test = analyze.nemenyi(error_all_datasets)\n",
    "nemeniy_test"
   ]
  }
 ],
 "metadata": {
  "kernelspec": {
   "display_name": "Python 3",
   "language": "python",
   "name": "python3"
  },
  "language_info": {
   "codemirror_mode": {
    "name": "ipython",
    "version": 3
   },
   "file_extension": ".py",
   "mimetype": "text/x-python",
   "name": "python",
   "nbconvert_exporter": "python",
   "pygments_lexer": "ipython3",
   "version": "3.6.3"
  }
 },
 "nbformat": 4,
 "nbformat_minor": 2
}
