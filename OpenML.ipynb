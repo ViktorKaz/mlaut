{
 "cells": [
  {
   "cell_type": "code",
   "execution_count": 1,
   "metadata": {
    "scrolled": true
   },
   "outputs": [
    {
     "name": "stderr",
     "output_type": "stream",
     "text": [
      "/media/viktor/Data/PhD/mlaut/py36/local/lib/python3.6/site-packages/h5py/__init__.py:36: FutureWarning: Conversion of the second argument of issubdtype from `float` to `np.floating` is deprecated. In future, it will be treated as `np.float64 == np.dtype(float).type`.\n",
      "  from ._conv import register_converters as _register_converters\n"
     ]
    }
   ],
   "source": [
    "import openml\n",
    "from mlaut.data import Data\n",
    "import pandas as pd\n",
    "from sklearn import preprocessing\n",
    "import os"
   ]
  },
  {
   "cell_type": "code",
   "execution_count": 2,
   "metadata": {},
   "outputs": [],
   "source": [
    "apikey = 'd2b1d13981d4abfb22895337baca924c'\n",
    "openml.config.apikey = apikey\n",
    "openml.config.set_cache_directory(os.path.expanduser('~/.openml/cache'))"
   ]
  },
  {
   "cell_type": "code",
   "execution_count": 12,
   "metadata": {},
   "outputs": [],
   "source": [
    "classification_tasks = openml.tasks.list_tasks(task_type_id=1)\n",
    "regression_tasks = openml.tasks.list_tasks(task_type_id=2)"
   ]
  },
  {
   "cell_type": "code",
   "execution_count": null,
   "metadata": {},
   "outputs": [],
   "source": [
    "X, names = dataset.get_data(return_attribute_names=True)"
   ]
  },
  {
   "cell_type": "code",
   "execution_count": 46,
   "metadata": {},
   "outputs": [],
   "source": [
    "data = Data()\n",
    "input_io = data.open_hdf5('data/openml.h5', mode='a')"
   ]
  },
  {
   "cell_type": "code",
   "execution_count": null,
   "metadata": {},
   "outputs": [],
   "source": []
  },
  {
   "cell_type": "code",
   "execution_count": null,
   "metadata": {
    "scrolled": true
   },
   "outputs": [],
   "source": [
    "for id in classification_tasks.keys():\n",
    "    try:\n",
    "        dataset = openml.datasets.get_dataset(id)\n",
    "        X, names = dataset.get_data(return_attribute_names=True)\n",
    "\n",
    "        #ignore datasets with empty values \n",
    "        num_missing_values = float(dataset.__dict__['qualities']['NumberOfMissingValues'])\n",
    "        if num_missing_values > 0:\n",
    "            print(f'skipping dataset {id}. Missing values')\n",
    "            continue\n",
    "\n",
    "        #ignore too big datasets\n",
    "        if classification_tasks[id]['NumberOfInstances'] > 10000:\n",
    "            print('skipping dataset {id}. It is too big')\n",
    "            continue\n",
    "\n",
    "        metadata = {\n",
    "            'class_name': dataset.__dict__['default_target_attribute'],\n",
    "            'source': 'OpenML',\n",
    "            'dataset_name':dataset.__dict__['name']\n",
    "        }\n",
    "        class_name_index = names.index(metadata['class_name'])\n",
    "\n",
    "        #Normalize the data\n",
    "#         scaler = preprocessing.StandardScaler(copy=True, with_mean=True, with_std=True)\n",
    "#         scaler.fit(X)\n",
    "#         x_transformed  = scaler.transform(X)\n",
    "#         x_transformed[:,class_name_index] = X[:, class_name_index]\n",
    "\n",
    "        #Convert to DataFrame\n",
    "        result = pd.DataFrame(x_transformed)\n",
    "        result.columns=names\n",
    "        result[metadata['class_name']] =  result[metadata['class_name']].astype(int)\n",
    "\n",
    "        #save to hdf5\n",
    "        input_io.save_pandas_dataset(dataset=result, save_loc='/openml', metadata=metadata)\n",
    "        print(f'dataset {id} saved.')\n",
    "\n",
    "    except:\n",
    "        print(f'Cannot save dataset {id}')"
   ]
  }
 ],
 "metadata": {
  "kernelspec": {
   "display_name": "Python 3",
   "language": "python",
   "name": "python3"
  },
  "language_info": {
   "codemirror_mode": {
    "name": "ipython",
    "version": 3
   },
   "file_extension": ".py",
   "mimetype": "text/x-python",
   "name": "python",
   "nbconvert_exporter": "python",
   "pygments_lexer": "ipython3",
   "version": "3.6.3"
  }
 },
 "nbformat": 4,
 "nbformat_minor": 2
}
