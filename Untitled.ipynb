{
 "cells": [
  {
   "cell_type": "code",
   "execution_count": null,
   "metadata": {},
   "outputs": [],
   "source": [
    "from mleap.data import Data\n",
    "from mleap.experiments.run_experiments import RunExperiments\n",
    "data = Data()"
   ]
  },
  {
   "cell_type": "code",
   "execution_count": null,
   "metadata": {},
   "outputs": [],
   "source": [
    "input_io = data.open_hdf5('data/delgado.hdf5', mode='r')\n",
    "output_io = data.open_hdf5('data/experiments.hdf5', mode='a')"
   ]
  },
  {
   "cell_type": "code",
   "execution_count": null,
   "metadata": {},
   "outputs": [],
   "source": [
    "dts_names_list, dts_names_list_full_path = data.list_datasets(hdf5_group='delgado_datasets/', hdf5_io=input_io)"
   ]
  },
  {
   "cell_type": "code",
   "execution_count": null,
   "metadata": {},
   "outputs": [],
   "source": [
    "#predictions for abalone dataset\n",
    "predictions = output_io.load_predictions_for_dataset(dts_names_list[0])"
   ]
  },
  {
   "cell_type": "code",
   "execution_count": null,
   "metadata": {},
   "outputs": [],
   "source": [
    "train, test, _, _ = data.load_train_test_split(output_io, 'abalone')"
   ]
  },
  {
   "cell_type": "code",
   "execution_count": null,
   "metadata": {},
   "outputs": [],
   "source": [
    "dts, meta = input_io.load_dataset_pd('delgado_datasets/abalone')"
   ]
  },
  {
   "cell_type": "code",
   "execution_count": null,
   "metadata": {},
   "outputs": [],
   "source": [
    "true_labels = data.load_true_labels(hdf5_in=input_io, dataset_loc=dts_names_list_full_path[0], lables_idx=test)"
   ]
  },
  {
   "cell_type": "code",
   "execution_count": null,
   "metadata": {},
   "outputs": [],
   "source": [
    "experiments = RunExperiments()\n",
    "experiments.calculate_loss(metric='accuracy', predictions_per_ml_strategy=predictions, true_labels=true_labels)\n"
   ]
  },
  {
   "cell_type": "code",
   "execution_count": null,
   "metadata": {},
   "outputs": [],
   "source": [
    "class properties(object):\n",
    "    def __init__(self, estimator_family, tasks):\n",
    "        self._estimator_family = estimator_family\n",
    "        self._tasks = tasks\n",
    "\n",
    "    def __call__(self, cls):\n",
    "        \n",
    "        def properties():\n",
    "            #check whether the inputs are right\n",
    "            if not isinstance(self._estimator_family, list) or \\\n",
    "               not isinstance(self._tasks, list):\n",
    "                raise ValueError('Arguments to property_decorator must be provided as an array')\n",
    "            properties_dict = {\n",
    "                'estimator_family': self._estimator_family,\n",
    "                'tasks': self._tasks\n",
    "            }\n",
    "            return properties_dict\n",
    "        cls.properties = properties\n",
    "        def wrapped_cls(*args):\n",
    "            \n",
    "            return cls\n",
    "        return wrapped_cls\n"
   ]
  },
  {
   "cell_type": "code",
   "execution_count": null,
   "metadata": {},
   "outputs": [],
   "source": [
    "from mleap.data.mleap_estimator import MleapEstimator\n",
    "from mleap.data.estimators import Logistic_Regression\n"
   ]
  },
  {
   "cell_type": "code",
   "execution_count": null,
   "metadata": {},
   "outputs": [],
   "source": [
    "@properties(estimator_family=['Random Forest'], tasks=['Regression', 'Classification'])\n",
    "class A(MleapEstimator):\n",
    "\n",
    "        \n",
    "    def build(self):\n",
    "        print('yes')\n",
    "    def save(self):\n",
    "        pass\n",
    "    def get_estimator_name(self):\n",
    "        pass"
   ]
  },
  {
   "cell_type": "code",
   "execution_count": null,
   "metadata": {},
   "outputs": [],
   "source": [
    "A().properties()"
   ]
  },
  {
   "cell_type": "code",
   "execution_count": null,
   "metadata": {},
   "outputs": [],
   "source": [
    "from mleap.data.estimators import Deep_NN_Classifier\n",
    "\n",
    "d = Deep_NN_Classifier()\n",
    "d.properties()"
   ]
  },
  {
   "cell_type": "code",
   "execution_count": 2,
   "metadata": {},
   "outputs": [],
   "source": [
    "from mleap.data.estimators import instantiate_default_estimators"
   ]
  },
  {
   "cell_type": "code",
   "execution_count": 9,
   "metadata": {},
   "outputs": [],
   "source": [
    "estimators = instantiate_default_estimators(['Naive Bayes'])"
   ]
  },
  {
   "cell_type": "code",
   "execution_count": 10,
   "metadata": {},
   "outputs": [
    {
     "data": {
      "text/plain": [
       "[mleap.data.estimators.Gaussian_Naive_Bayes,\n",
       " mleap.data.estimators.Bernoulli_Naive_Bayes]"
      ]
     },
     "execution_count": 10,
     "metadata": {},
     "output_type": "execute_result"
    }
   ],
   "source": [
    "estimators"
   ]
  }
 ],
 "metadata": {
  "kernelspec": {
   "display_name": "Python 3",
   "language": "python",
   "name": "python3"
  },
  "language_info": {
   "codemirror_mode": {
    "name": "ipython",
    "version": 3
   },
   "file_extension": ".py",
   "mimetype": "text/x-python",
   "name": "python",
   "nbconvert_exporter": "python",
   "pygments_lexer": "ipython3",
   "version": "3.6.3"
  }
 },
 "nbformat": 4,
 "nbformat_minor": 2
}
