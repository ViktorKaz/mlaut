{
 "cells": [
  {
   "cell_type": "code",
   "execution_count": 13,
   "metadata": {},
   "outputs": [],
   "source": [
    "from mleap.data import Data\n",
    "from mleap.experiments.run_experiments import RunExperiments\n",
    "data = Data()"
   ]
  },
  {
   "cell_type": "code",
   "execution_count": 2,
   "metadata": {},
   "outputs": [],
   "source": [
    "input_io = data.open_hdf5('data/delgado.hdf5', mode='r')\n",
    "output_io = data.open_hdf5('data/experiments.hdf5', mode='a')"
   ]
  },
  {
   "cell_type": "code",
   "execution_count": 3,
   "metadata": {},
   "outputs": [],
   "source": [
    "dts_names_list, dts_names_list_full_path = data.list_datasets(hdf5_group='delgado_datasets/', hdf5_io=input_io)"
   ]
  },
  {
   "cell_type": "code",
   "execution_count": 6,
   "metadata": {},
   "outputs": [],
   "source": [
    "#predictions for abalone dataset\n",
    "predictions = output_io.load_predictions_for_dataset(dts_names_list[0])"
   ]
  },
  {
   "cell_type": "code",
   "execution_count": 7,
   "metadata": {},
   "outputs": [],
   "source": [
    "train, test, _, _ = data.load_train_test_split(output_io, 'abalone')"
   ]
  },
  {
   "cell_type": "code",
   "execution_count": 9,
   "metadata": {},
   "outputs": [],
   "source": [
    "dts, meta = input_io.load_dataset_pd('delgado_datasets/abalone')"
   ]
  },
  {
   "cell_type": "code",
   "execution_count": 11,
   "metadata": {},
   "outputs": [],
   "source": [
    "true_labels = data.load_true_labels(hdf5_in=input_io, dataset_loc=dts_names_list_full_path[0], lables_idx=test)"
   ]
  },
  {
   "cell_type": "code",
   "execution_count": 16,
   "metadata": {},
   "outputs": [
    {
     "data": {
      "text/plain": [
       "[['LogisticRegression', 0.63669325598259607],\n",
       " ['RandomForestClassifier', 0.63234227701232781],\n",
       " ['SVM', 0.66352429296591731]]"
      ]
     },
     "execution_count": 16,
     "metadata": {},
     "output_type": "execute_result"
    }
   ],
   "source": [
    "experiments = RunExperiments()\n",
    "experiments.calculate_loss(metric='accuracy', predictions_per_ml_strategy=predictions, true_labels=true_labels)\n"
   ]
  }
 ],
 "metadata": {
  "kernelspec": {
   "display_name": "Python 3.6",
   "language": "python",
   "name": "py36"
  },
  "language_info": {
   "codemirror_mode": {
    "name": "ipython",
    "version": 3
   },
   "file_extension": ".py",
   "mimetype": "text/x-python",
   "name": "python",
   "nbconvert_exporter": "python",
   "pygments_lexer": "ipython3",
   "version": "3.6.3"
  }
 },
 "nbformat": 4,
 "nbformat_minor": 2
}
