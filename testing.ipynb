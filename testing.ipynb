{
 "cells": [
  {
   "cell_type": "code",
   "execution_count": 4,
   "metadata": {},
   "outputs": [],
   "source": [
    "import pickle\n",
    "import itertools\n",
    "import numpy as np\n",
    "from scipy.stats import ttest_ind\n",
    "from scipy.stats import ranksums\n",
    "from scipy import stats"
   ]
  },
  {
   "cell_type": "code",
   "execution_count": 5,
   "metadata": {},
   "outputs": [],
   "source": [
    "pickle_in = open(\"errors.p\",\"rb\")\n",
    "errors = pickle.load(pickle_in)\n"
   ]
  },
  {
   "cell_type": "code",
   "execution_count": 9,
   "metadata": {
    "scrolled": true
   },
   "outputs": [
    {
     "data": {
      "text/plain": [
       "FriedmanchisquareResult(statistic=77.6822742474915, pvalue=5.393121464539751e-16)"
      ]
     },
     "execution_count": 9,
     "metadata": {},
     "output_type": "execute_result"
    }
   ],
   "source": [
    "stats.friedmanchisquare(*[errors[k] for k in errors.keys()])"
   ]
  },
  {
   "cell_type": "code",
   "execution_count": 10,
   "metadata": {},
   "outputs": [],
   "source": [
    "from mleap.analyze_results import AnalyseResults\n",
    "from mleap.data import Data\n",
    "data = Data()\n",
    "input_io = data.open_hdf5('data/delgado.hdf5', mode='r')\n",
    "out_io = data.open_hdf5('data/experiments.hdf5', mode='a')"
   ]
  },
  {
   "cell_type": "code",
   "execution_count": 11,
   "metadata": {},
   "outputs": [
    {
     "data": {
      "text/plain": [
       "array([[-1.        ,  0.93545472,  0.99042065,  0.99999993,  0.87152458],\n",
       "       [ 0.93545472, -1.        ,  0.99781393,  0.94196055,  0.99977512],\n",
       "       [ 0.99042065,  0.99781393, -1.        ,  0.9921401 ,  0.98779686],\n",
       "       [ 0.99999993,  0.94196055,  0.9921401 , -1.        ,  0.88141119],\n",
       "       [ 0.87152458,  0.99977512,  0.98779686,  0.88141119, -1.        ]])"
      ]
     },
     "execution_count": 11,
     "metadata": {},
     "output_type": "execute_result"
    }
   ],
   "source": [
    "import scikit_posthocs as sp\n",
    "sp.posthoc_nemenyi(arr)"
   ]
  },
  {
   "cell_type": "code",
   "execution_count": 8,
   "metadata": {},
   "outputs": [],
   "source": [
    "arr = []\n",
    "for k in errors.keys():\n",
    "    arr.append(errors[k])"
   ]
  },
  {
   "cell_type": "code",
   "execution_count": 9,
   "metadata": {},
   "outputs": [
    {
     "data": {
      "text/plain": [
       "[array([  4.13882288e-01,   1.15363015e-01,   5.42753071e-02,\n",
       "          1.58222633e-01,   3.04054530e-01,   1.37659172e+01,\n",
       "          1.19534275e+01,   2.88284680e-01,   2.90387118e-01,\n",
       "          1.02651881e-01,   1.87238521e-01,   1.97775388e-01,\n",
       "          5.28829699e-02,   9.22663094e-02,   1.99527809e-01,\n",
       "          6.23552082e-01,   3.32695957e-01,   5.30382940e+00,\n",
       "          2.05966947e-01,   1.93908792e+01,   1.50188615e-01,\n",
       "          2.29177702e-01,   2.11865724e-01,   4.99855262e+00,\n",
       "          1.85841190e-01,   7.45048470e-01,   1.22514767e-01,\n",
       "          2.27714770e-01,   4.02647102e-01,   1.64855940e-01,\n",
       "          5.43146603e-01,   1.52682009e-01,   1.65994439e-01,\n",
       "          1.57273335e-01,   2.39626883e+00,   9.69027494e-01,\n",
       "          1.89212304e-01,   4.78189576e-01,   6.52477664e-01,\n",
       "          1.47912354e-01,   9.94503637e-01,   1.27307256e+00,\n",
       "          1.30103609e-01,   2.50498216e-01,   1.72587122e-01,\n",
       "          2.05995953e-01,   1.83365320e+00,   1.34855726e-01,\n",
       "          5.37540499e-02,   6.10535750e+00,   2.62207860e-01,\n",
       "          4.11415101e+01,   1.68365953e+01,   8.61114779e-01,\n",
       "          5.31342042e-01,   3.07145296e-01,   1.77972996e-01,\n",
       "          1.67386692e-01,   1.59703494e-01,   1.47505930e-01,\n",
       "          4.58910108e-01,   2.23244163e-01,   2.28205456e-01,\n",
       "          1.84083866e-01,   1.30223951e-01,   2.06710018e-01,\n",
       "          1.24622778e-01,   9.84536780e-01,   2.28070289e-01,\n",
       "          3.05408981e-01,   2.41451794e-01,   5.30425075e-01,\n",
       "          4.26843681e+00,   2.89790599e-02,   4.55237311e-01,\n",
       "          1.72709683e-01,   5.59546883e+00,   1.87103064e-01,\n",
       "          2.09216935e-01,   6.81771145e-01,   2.94218752e-01,\n",
       "          8.77250178e-01,   1.74091696e-01,   2.01132907e-01,\n",
       "          6.18340981e+02,   7.52400219e+02,   5.26680613e+02,\n",
       "          7.23611111e-01,   1.43383358e+01,   2.50263106e-01,\n",
       "          4.21658903e-01,   4.20468880e+00,   1.05666537e+01,\n",
       "          1.85685123e-01,   2.45554361e-01,   1.43063722e-01,\n",
       "          2.16145440e-01,   1.85534810e-01,   1.75926572e-01,\n",
       "          1.43200562e+00,   1.05037127e+00,   5.57225543e-01,\n",
       "          8.03313983e-01,   3.55065909e+00,   2.71899358e+00,\n",
       "          5.87630119e-01,   1.16866619e-01,   2.14063512e-01,\n",
       "          1.95055090e-01,   2.09026972e-01,   9.79920815e-02,\n",
       "          1.68363603e-01,   3.10646807e-01,   7.33890000e-01,\n",
       "          3.97074445e-01,   3.95974596e-01,   8.58283972e-02,\n",
       "          4.48286331e-01,   5.85854997e-01,   2.39377075e+00,\n",
       "          1.20000661e-01]),\n",
       " array([  3.76235935e-01,   2.77248573e-02,   2.64782686e-02,\n",
       "          1.25713358e-01,   9.72971066e+01,   1.19245870e+01,\n",
       "          2.00575426e+02,   2.54608244e-01,   2.74167999e-01,\n",
       "          8.49828274e-02,   1.64899941e-01,   1.83944286e-01,\n",
       "          3.88574047e-02,   6.07925561e-02,   1.89973940e-01,\n",
       "          6.49983927e-01,   3.03633966e-01,   5.07645026e+00,\n",
       "          1.48670877e-01,   1.93472464e+01,   9.26681283e-02,\n",
       "          2.16838784e-01,   1.82614928e-01,   4.94061008e+00,\n",
       "          1.80046574e-01,   6.71435550e-01,   1.03406443e-01,\n",
       "          1.97273837e-01,   3.35678161e-01,   1.60086898e-01,\n",
       "          5.18238419e-01,   1.26856069e-01,   1.22161520e-01,\n",
       "          1.58436360e-01,   2.52459095e+00,   1.06360914e+00,\n",
       "          1.84191096e-01,   4.78189576e-01,   6.30717943e-01,\n",
       "          1.33333984e-01,   1.00355844e+00,   1.24270324e+00,\n",
       "          1.13816391e-01,   2.37758213e-01,   1.46615318e-01,\n",
       "          2.01546955e-01,   1.55227197e+00,   1.07284099e-01,\n",
       "          5.31037481e-02,   6.03603664e+00,   2.77763775e-01,\n",
       "          4.06324379e+01,   1.64338061e+01,   6.83263818e-01,\n",
       "          4.92038065e-01,   2.97085442e-01,   1.56613773e-01,\n",
       "          2.95392674e-01,   9.71566090e-02,   1.43382169e-01,\n",
       "          4.08365657e-01,   2.07914412e-01,   2.30151611e-01,\n",
       "          1.49568723e-01,   6.60435310e-02,   1.63130822e-01,\n",
       "          5.53770972e-02,   9.35413641e-01,   1.37857322e-01,\n",
       "          2.33908744e-01,   1.59499227e-01,   2.93897623e-01,\n",
       "          4.06554455e+00,   2.70529653e-02,   4.20101452e-01,\n",
       "          1.40821271e-01,   5.31322533e+00,   1.56797578e-01,\n",
       "          2.18649757e-01,   6.76045170e-01,   2.93186694e-01,\n",
       "          8.73310795e-01,   1.74091696e-01,   2.01132907e-01,\n",
       "          6.26012451e+02,   7.44492757e+02,   5.34388792e+02,\n",
       "          7.23611111e-01,   1.45320410e+01,   1.71750598e-01,\n",
       "          1.74549455e-01,   4.00464665e+00,   1.48819866e+01,\n",
       "          1.06445935e-01,   2.10555009e-01,   1.36896582e-01,\n",
       "          2.16145440e-01,   1.59020296e-01,   1.50402677e-01,\n",
       "          1.22575752e+00,   9.16829229e-01,   5.23496394e-01,\n",
       "          4.65399304e-01,   3.38303714e+00,   2.72517688e+00,\n",
       "          5.83726560e-01,   9.72410899e-02,   2.51095572e-02,\n",
       "          1.87275664e-01,   2.50000000e-01,   4.96677721e-02,\n",
       "          1.50571799e-01,   4.26583157e-01,   6.42178012e-01,\n",
       "          3.63171008e-01,   3.65971378e-01,   7.19670731e-02,\n",
       "          4.22433218e-01,   5.43655204e-01,   2.24870829e+00,\n",
       "          1.06952672e-01]),\n",
       " array([  5.11240029e-01,   1.00000000e-01,   0.00000000e+00,\n",
       "          1.57773917e-01,   2.92929293e-01,   1.46000000e+01,\n",
       "          1.13076923e+01,   2.89855072e-01,   3.33333333e-01,\n",
       "          1.16621984e-01,   2.38866397e-01,   3.15789474e-01,\n",
       "          3.03030303e-02,   3.19148936e-02,   2.57575758e-01,\n",
       "          6.85714286e-01,   3.62521891e-01,   5.67806268e+00,\n",
       "          1.22507123e-01,   2.97904741e+01,   3.22274882e-02,\n",
       "          3.68055556e-01,   2.60869565e-01,   4.55657492e+00,\n",
       "          2.45985467e-01,   1.31622177e+00,   1.40350877e-01,\n",
       "          3.07692308e-01,   9.91735537e-02,   2.72727273e-01,\n",
       "          4.23423423e-01,   1.29921260e-01,   1.49606299e-01,\n",
       "          1.81818182e-01,   2.55384615e+00,   1.00000000e+00,\n",
       "          2.77227723e-01,   9.81132075e-01,   7.70000000e-01,\n",
       "          1.73469388e-01,   1.21951220e+00,   2.13636364e+00,\n",
       "          2.11538462e-01,   1.82500000e-01,   1.80327869e-01,\n",
       "          2.90155440e-01,   4.46920052e-01,   6.03448276e-02,\n",
       "          1.60000000e-01,   5.33636364e+00,   1.25000000e-01,\n",
       "          2.95490909e+01,   1.09747899e+01,   2.50000000e-01,\n",
       "          4.54545455e-01,   2.65306122e-01,   2.13955711e-01,\n",
       "          1.82389937e-01,   1.17212618e-01,   2.28571429e-01,\n",
       "          4.33048433e-01,   3.47826087e-01,   3.51758794e-01,\n",
       "          2.18579235e-01,   5.18463260e-02,   1.45569620e-01,\n",
       "          5.50964187e-02,   1.01239186e-01,   2.07100592e-01,\n",
       "          2.36686391e-01,   2.02657807e-01,   3.15614618e-01,\n",
       "          9.38005391e-01,   2.98685783e-02,   2.91090205e-01,\n",
       "          2.00000000e-01,   1.60198456e+00,   2.24409449e-01,\n",
       "          2.28571429e-01,   1.02941176e+00,   4.83870968e-01,\n",
       "          1.65714286e+00,   2.64705882e-01,   3.44262295e-01,\n",
       "          3.40589015e+02,   6.95912879e+02,   2.89984848e+02,\n",
       "          1.10000000e+00,   2.14862385e+01,   2.28501229e-01,\n",
       "          1.71428571e-01,   2.06273764e+00,   1.24336283e+00,\n",
       "          7.37327189e-02,   2.61363636e-01,   1.57303371e-01,\n",
       "          3.15789474e-01,   2.18181818e-01,   1.88888889e-01,\n",
       "          3.56487549e-01,   7.00094162e-01,   6.07314525e-01,\n",
       "          3.75000000e-01,   3.33385335e+00,   1.25757576e+00,\n",
       "          8.20000000e-01,   8.62794613e-02,   2.52365931e-02,\n",
       "          2.43466300e-01,   0.00000000e+00,   2.25225225e-02,\n",
       "          1.06796117e-01,   1.65048544e-01,   9.03942254e-01,\n",
       "          2.73333333e-01,   2.83636364e-01,   0.00000000e+00,\n",
       "          5.39772727e-01,   6.32653061e-01,   2.58571429e+00,\n",
       "          0.00000000e+00]),\n",
       " array([  7.91153009e-01,   1.00000000e-01,   0.00000000e+00,\n",
       "          1.59387021e-01,   4.27609428e-01,   1.51733333e+01,\n",
       "          1.45384615e+01,   2.89855072e-01,   3.33333333e-01,\n",
       "          1.21983914e-01,   2.46963563e-01,   2.94736842e-01,\n",
       "          3.03030303e-02,   5.31914894e-02,   2.87878788e-01,\n",
       "          1.25714286e+00,   4.08056042e-01,   5.46296296e+00,\n",
       "          1.65242165e-01,   5.84776974e+01,   3.98104265e-02,\n",
       "          3.61111111e-01,   2.31884058e-01,   6.09480122e+00,\n",
       "          2.46703149e-01,   1.19096509e+00,   1.44736842e-01,\n",
       "          3.31360947e-01,   9.91735537e-02,   2.72727273e-01,\n",
       "          6.21621622e-01,   1.53543307e-01,   1.14173228e-01,\n",
       "          1.81818182e-01,   2.55384615e+00,   1.97183099e+00,\n",
       "          2.87128713e-01,   5.84905660e-01,   8.30000000e-01,\n",
       "          1.73469388e-01,   1.36585366e+00,   2.13636364e+00,\n",
       "          1.53846154e-01,   1.95000000e-01,   2.62295082e-01,\n",
       "          3.67875648e-01,   9.39711664e-01,   8.62068966e-02,\n",
       "          2.00000000e-02,   6.70606061e+00,   1.25000000e-01,\n",
       "          3.82169697e+01,   1.80504202e+01,   1.29545455e+00,\n",
       "          4.54545455e-01,   3.46938776e-01,   2.17779194e-01,\n",
       "          2.07547170e-01,   1.20054983e-01,   2.28571429e-01,\n",
       "          5.28015195e-01,   3.09782609e-01,   3.51758794e-01,\n",
       "          2.45901639e-01,   5.78142484e-02,   1.77215190e-01,\n",
       "          9.04499541e-02,   1.02174421e-01,   2.10059172e-01,\n",
       "          2.92899408e-01,   2.22591362e-01,   3.28903654e-01,\n",
       "          1.90889488e+00,   2.98685783e-02,   3.26508024e-01,\n",
       "          2.61538462e-01,   2.63561191e+00,   2.12598425e-01,\n",
       "          2.28571429e-01,   9.11764706e-01,   4.83870968e-01,\n",
       "          1.65714286e+00,   2.35294118e-01,   3.93442623e-01,\n",
       "          6.33409091e+02,   1.17807008e+03,   4.71833333e+02,\n",
       "          9.66666667e-01,   1.96146789e+01,   2.26863227e-01,\n",
       "          5.71428571e-02,   3.15209125e+00,   2.05752212e+00,\n",
       "          9.67741935e-02,   4.31818182e-01,   2.13483146e-01,\n",
       "          3.37719298e-01,   2.12121212e-01,   1.88888889e-01,\n",
       "          3.95806029e-01,   8.22975518e-01,   7.54963427e-01,\n",
       "          4.46428571e-01,   4.82527301e+00,   2.80808081e+00,\n",
       "          8.20000000e-01,   9.46969697e-02,   2.52365931e-02,\n",
       "          2.50343879e-01,   0.00000000e+00,   2.33415233e-02,\n",
       "          9.70873786e-02,   1.84466019e-01,   1.05108273e+00,\n",
       "          2.95151515e-01,   2.81818182e-01,   1.69491525e-02,\n",
       "          5.58712121e-01,   6.82127396e-01,   3.01632653e+00,\n",
       "          1.17647059e-01]),\n",
       " array([  3.76844085e-01,   2.79215535e-02,   2.75268186e-02,\n",
       "          1.25717521e-01,   2.30053518e-01,   2.07022879e+01,\n",
       "          1.13254600e+01,   2.54133818e-01,   2.06105346e-01,\n",
       "          8.48137016e-02,   1.61413811e-01,   1.93205913e-01,\n",
       "          3.89255636e-02,   6.06731821e-02,   1.80970791e-01,\n",
       "          7.12497832e-01,   3.03403954e-01,   5.07907744e+00,\n",
       "          1.48576328e-01,   1.93467753e+01,   9.26890571e-02,\n",
       "          2.27250167e-01,   1.73820344e-01,   4.93670833e+00,\n",
       "          1.80044066e-01,   6.70674650e-01,   9.83120232e-02,\n",
       "          1.99078248e-01,   3.32387490e-01,   1.61088118e-01,\n",
       "          5.17295791e-01,   1.25191302e-01,   1.22179633e-01,\n",
       "          1.57171384e-01,   2.56247495e+00,   9.05497804e-01,\n",
       "          1.95801654e-01,   4.59731041e-01,   5.59639896e-01,\n",
       "          1.35950248e-01,   9.34239701e-01,   1.25204395e+00,\n",
       "          1.14426090e-01,   2.06319153e+00,   1.43698710e-01,\n",
       "          2.00407660e-01,   1.55031580e+00,   9.63227819e-02,\n",
       "          4.95544204e-02,   6.02118311e+00,   2.48975273e-01,\n",
       "          4.06318568e+01,   1.60831759e+01,   6.58453196e-01,\n",
       "          4.25564022e-01,   2.15628887e-01,   1.56532949e-01,\n",
       "          2.76300357e-01,   9.06485480e-02,   1.52750763e-01,\n",
       "          4.24709686e-01,   2.07234545e-01,   2.35692033e-01,\n",
       "          1.49564632e-01,   6.60294304e-02,   1.55950593e-01,\n",
       "          5.54656325e-02,   9.35417964e-01,   1.39196965e-01,\n",
       "          2.34101710e-01,   1.61289952e-01,   2.95135771e-01,\n",
       "          3.77268145e+00,   2.73385998e-02,   4.16690573e-01,\n",
       "          1.35766409e-01,   5.30802936e+00,   1.54736286e-01,\n",
       "          2.13131029e-01,   7.01071132e-01,   2.89939571e-01,\n",
       "          1.00656330e+00,   1.48442279e-01,   2.16313989e-01,\n",
       "          6.23777813e+02,   7.61123095e+02,   5.26546067e+02,\n",
       "          7.37713467e-01,   1.44751597e+01,   1.71752182e-01,\n",
       "          1.84762083e-01,   4.61848958e+00,   9.20520179e+00,\n",
       "          1.06539903e-01,   2.07478920e-01,   1.51672634e-01,\n",
       "          2.10809967e-01,   1.62372222e-01,   1.49711355e-01,\n",
       "          1.22705766e+00,   9.15434995e-01,   5.23530762e-01,\n",
       "          4.65030156e-01,   3.35390131e+00,   2.94877401e+00,\n",
       "          5.91105336e-01,   9.63440072e-02,   2.50736036e-02,\n",
       "          1.87055984e-01,   1.23223839e-01,   4.96642270e-02,\n",
       "          1.50935869e-01,   2.98027016e-01,   6.42251167e-01,\n",
       "          3.62580726e-01,   3.67657479e-01,   7.23620192e-02,\n",
       "          4.23727111e-01,   5.40454399e-01,   2.25097311e+00,\n",
       "          1.62647484e-01])]"
      ]
     },
     "execution_count": 9,
     "metadata": {},
     "output_type": "execute_result"
    }
   ],
   "source": [
    "arr"
   ]
  },
  {
   "cell_type": "code",
   "execution_count": 21,
   "metadata": {},
   "outputs": [
    {
     "data": {
      "image/png": "[encoded data removed]",
      "text/plain": [
       "<matplotlib.figure.Figure at 0x213302b0>"
      ]
     },
     "metadata": {},
     "output_type": "display_data"
    }
   ],
   "source": [
    "avg_err = []\n",
    "labels = []\n",
    "import Orange\n",
    "import matplotlib.pyplot as plt\n",
    "import scipy.stats as ss\n",
    "\n",
    "for k in errors.keys():\n",
    "    labels.append(k)\n",
    "    m = np.average(errors[k])\n",
    "    avg_err.append(m)\n",
    "\n",
    "avg_rank = ss.rankdata(avg_err)\n",
    "n = len(errors[labels[0]])\n",
    "\n",
    "cd = Orange.evaluation.compute_CD(avg_rank, n)\n",
    "Orange.evaluation.graph_ranks(avg_rank, labels, cd=cd, width=6, textspace=1.5)\n",
    "plt.show()"
   ]
  },
  {
   "cell_type": "code",
   "execution_count": 18,
   "metadata": {},
   "outputs": [
    {
     "data": {
      "text/plain": [
       "0.856344"
      ]
     },
     "execution_count": 18,
     "metadata": {},
     "output_type": "execute_result"
    }
   ],
   "source": [
    "cd"
   ]
  },
  {
   "cell_type": "code",
   "execution_count": 18,
   "metadata": {},
   "outputs": [],
   "source": [
    "analyze = AnalyseResults(hdf5_output_io=out_io, hdf5_input_io=input_io)\n",
    "wilc_arr, wilc_df  = analyze.wilcoxon_test(errors)"
   ]
  },
  {
   "cell_type": "code",
   "execution_count": 5,
   "metadata": {},
   "outputs": [
    {
     "ename": "NameError",
     "evalue": "name 'errors' is not defined",
     "output_type": "error",
     "traceback": [
      "\u001b[1;31m---------------------------------------------------------------------------\u001b[0m",
      "\u001b[1;31mNameError\u001b[0m                                 Traceback (most recent call last)",
      "\u001b[1;32m<ipython-input-5-ab14c7b75346>\u001b[0m in \u001b[0;36m<module>\u001b[1;34m()\u001b[0m\n\u001b[1;32m----> 1\u001b[1;33m \u001b[0merrors\u001b[0m\u001b[1;33m\u001b[0m\u001b[0m\n\u001b[0m",
      "\u001b[1;31mNameError\u001b[0m: name 'errors' is not defined"
     ]
    }
   ],
   "source": [
    "errors"
   ]
  },
  {
   "cell_type": "code",
   "execution_count": 4,
   "metadata": {},
   "outputs": [
    {
     "name": "stderr",
     "output_type": "stream",
     "text": [
      "C:\\Python\\envs\\py36\\lib\\site-packages\\h5py\\__init__.py:36: FutureWarning: Conversion of the second argument of issubdtype from `float` to `np.floating` is deprecated. In future, it will be treated as `np.float64 == np.dtype(float).type`.\n",
      "  from ._conv import register_converters as _register_converters\n"
     ]
    },
    {
     "data": {
      "image/png": "[encoded data removed]",
      "text/plain": [
       "<matplotlib.figure.Figure at 0x5b14be0>"
      ]
     },
     "metadata": {},
     "output_type": "display_data"
    }
   ],
   "source": []
  },
  {
   "cell_type": "code",
   "execution_count": 20,
   "metadata": {},
   "outputs": [
    {
     "ename": "ModuleNotFoundError",
     "evalue": "No module named 'stac.nonparametric_tests'",
     "output_type": "error",
     "traceback": [
      "\u001b[1;31m---------------------------------------------------------------------------\u001b[0m",
      "\u001b[1;31mModuleNotFoundError\u001b[0m                       Traceback (most recent call last)",
      "\u001b[1;32m<ipython-input-20-f874d3d69418>\u001b[0m in \u001b[0;36m<module>\u001b[1;34m()\u001b[0m\n\u001b[1;32m----> 1\u001b[1;33m \u001b[1;32mfrom\u001b[0m \u001b[0mstac\u001b[0m\u001b[1;33m.\u001b[0m\u001b[0mnonparametric_tests\u001b[0m \u001b[1;32mimport\u001b[0m \u001b[0mnemenyi_multitest\u001b[0m\u001b[1;33m\u001b[0m\u001b[0m\n\u001b[0m\u001b[0;32m      2\u001b[0m \u001b[0mnemenyi_multitest\u001b[0m\u001b[1;33m(\u001b[0m\u001b[0mwilc_df\u001b[0m\u001b[1;33m[\u001b[0m\u001b[1;34m'statistic'\u001b[0m\u001b[1;33m]\u001b[0m\u001b[1;33m)\u001b[0m\u001b[1;33m\u001b[0m\u001b[0m\n",
      "\u001b[1;31mModuleNotFoundError\u001b[0m: No module named 'stac.nonparametric_tests'"
     ]
    }
   ],
   "source": [
    "from stac.nonparametric_tests import nemenyi_multitest\n",
    "nemenyi_multitest(wilc_df['statistic'])"
   ]
  },
  {
   "cell_type": "code",
   "execution_count": 125,
   "metadata": {},
   "outputs": [],
   "source": [
    "a = (errors['Lasso'], errors['LassoLars'], errors['RidgeRegression'])"
   ]
  },
  {
   "cell_type": "code",
   "execution_count": 127,
   "metadata": {},
   "outputs": [
    {
     "data": {
      "text/plain": [
       "(array([4.13882288e-01, 1.15363015e-01, 5.42753071e-02, 1.58222633e-01,\n",
       "        3.04054530e-01, 1.37659172e+01, 1.19534275e+01, 2.88284680e-01,\n",
       "        2.90387118e-01, 1.02651881e-01, 1.87238521e-01, 1.97775388e-01,\n",
       "        5.28829699e-02, 9.22663094e-02, 1.99527809e-01, 6.23552082e-01,\n",
       "        3.32695957e-01, 5.30382940e+00, 2.05966947e-01, 1.93908792e+01,\n",
       "        1.50188615e-01, 2.29177702e-01, 2.11865724e-01, 4.99855262e+00,\n",
       "        1.85841190e-01, 7.45048470e-01, 1.22514767e-01, 2.27714770e-01,\n",
       "        4.02647102e-01, 1.64855940e-01, 5.43146603e-01, 1.52682009e-01,\n",
       "        1.65994439e-01, 1.57273335e-01, 2.39626883e+00, 9.69027494e-01,\n",
       "        1.89212304e-01, 4.78189576e-01, 6.52477664e-01, 1.47912354e-01,\n",
       "        9.94503637e-01, 1.27307256e+00, 1.30103609e-01, 2.50498216e-01,\n",
       "        1.72587122e-01, 2.05995953e-01, 1.83365320e+00, 1.34855726e-01,\n",
       "        5.37540499e-02, 6.10535750e+00, 2.62207860e-01, 4.11415101e+01,\n",
       "        1.68365953e+01, 8.61114779e-01, 5.31342042e-01, 3.07145296e-01,\n",
       "        1.77972996e-01, 1.67386692e-01, 1.59703494e-01, 1.47505930e-01,\n",
       "        4.58910108e-01, 2.23244163e-01, 2.28205456e-01, 1.84083866e-01,\n",
       "        1.30223951e-01, 2.06710018e-01, 1.24622778e-01, 9.84536780e-01,\n",
       "        2.28070289e-01, 3.05408981e-01, 2.41451794e-01, 5.30425075e-01,\n",
       "        4.26843681e+00, 2.89790599e-02, 4.55237311e-01, 1.72709683e-01,\n",
       "        5.59546883e+00, 1.87103064e-01, 2.09216935e-01, 6.81771145e-01,\n",
       "        2.94218752e-01, 8.77250178e-01, 1.74091696e-01, 2.01132907e-01,\n",
       "        6.18340981e+02, 7.52400219e+02, 5.26680613e+02, 7.23611111e-01,\n",
       "        1.43383358e+01, 2.50263106e-01, 4.21658903e-01, 4.20468880e+00,\n",
       "        1.05666537e+01, 1.85685123e-01, 2.45554361e-01, 1.43063722e-01,\n",
       "        2.16145440e-01, 1.85534810e-01, 1.75926572e-01, 1.43200562e+00,\n",
       "        1.05037127e+00, 5.57225543e-01, 8.03313983e-01, 3.55065909e+00,\n",
       "        2.71899358e+00, 5.87630119e-01, 1.16866619e-01, 2.14063512e-01,\n",
       "        1.95055090e-01, 2.09026972e-01, 9.79920815e-02, 1.68363603e-01,\n",
       "        3.10646807e-01, 7.33890000e-01, 3.97074445e-01, 3.95974596e-01,\n",
       "        8.58283972e-02, 4.48286331e-01, 5.85854997e-01, 2.39377075e+00,\n",
       "        1.20000661e-01]),\n",
       " array([3.76235935e-01, 2.77248573e-02, 2.64782686e-02, 1.25713358e-01,\n",
       "        9.72971066e+01, 1.19245870e+01, 2.00575426e+02, 2.54608244e-01,\n",
       "        2.74167999e-01, 8.49828274e-02, 1.64899941e-01, 1.83944286e-01,\n",
       "        3.88574047e-02, 6.07925561e-02, 1.89973940e-01, 6.49983927e-01,\n",
       "        3.03633966e-01, 5.07645026e+00, 1.48670877e-01, 1.93472464e+01,\n",
       "        9.26681283e-02, 2.16838784e-01, 1.82614928e-01, 4.94061008e+00,\n",
       "        1.80046574e-01, 6.71435550e-01, 1.03406443e-01, 1.97273837e-01,\n",
       "        3.35678161e-01, 1.60086898e-01, 5.18238419e-01, 1.26856069e-01,\n",
       "        1.22161520e-01, 1.58436360e-01, 2.52459095e+00, 1.06360914e+00,\n",
       "        1.84191096e-01, 4.78189576e-01, 6.30717943e-01, 1.33333984e-01,\n",
       "        1.00355844e+00, 1.24270324e+00, 1.13816391e-01, 2.37758213e-01,\n",
       "        1.46615318e-01, 2.01546955e-01, 1.55227197e+00, 1.07284099e-01,\n",
       "        5.31037481e-02, 6.03603664e+00, 2.77763775e-01, 4.06324379e+01,\n",
       "        1.64338061e+01, 6.83263818e-01, 4.92038065e-01, 2.97085442e-01,\n",
       "        1.56613773e-01, 2.95392674e-01, 9.71566090e-02, 1.43382169e-01,\n",
       "        4.08365657e-01, 2.07914412e-01, 2.30151611e-01, 1.49568723e-01,\n",
       "        6.60435310e-02, 1.63130822e-01, 5.53770972e-02, 9.35413641e-01,\n",
       "        1.37857322e-01, 2.33908744e-01, 1.59499227e-01, 2.93897623e-01,\n",
       "        4.06554455e+00, 2.70529653e-02, 4.20101452e-01, 1.40821271e-01,\n",
       "        5.31322533e+00, 1.56797578e-01, 2.18649757e-01, 6.76045170e-01,\n",
       "        2.93186694e-01, 8.73310795e-01, 1.74091696e-01, 2.01132907e-01,\n",
       "        6.26012451e+02, 7.44492757e+02, 5.34388792e+02, 7.23611111e-01,\n",
       "        1.45320410e+01, 1.71750598e-01, 1.74549455e-01, 4.00464665e+00,\n",
       "        1.48819866e+01, 1.06445935e-01, 2.10555009e-01, 1.36896582e-01,\n",
       "        2.16145440e-01, 1.59020296e-01, 1.50402677e-01, 1.22575752e+00,\n",
       "        9.16829229e-01, 5.23496394e-01, 4.65399304e-01, 3.38303714e+00,\n",
       "        2.72517688e+00, 5.83726560e-01, 9.72410899e-02, 2.51095572e-02,\n",
       "        1.87275664e-01, 2.50000000e-01, 4.96677721e-02, 1.50571799e-01,\n",
       "        4.26583157e-01, 6.42178012e-01, 3.63171008e-01, 3.65971378e-01,\n",
       "        7.19670731e-02, 4.22433218e-01, 5.43655204e-01, 2.24870829e+00,\n",
       "        1.06952672e-01]),\n",
       " array([3.76844085e-01, 2.79215535e-02, 2.75268186e-02, 1.25717521e-01,\n",
       "        2.30053518e-01, 2.07022879e+01, 1.13254600e+01, 2.54133818e-01,\n",
       "        2.06105346e-01, 8.48137016e-02, 1.61413811e-01, 1.93205913e-01,\n",
       "        3.89255636e-02, 6.06731821e-02, 1.80970791e-01, 7.12497832e-01,\n",
       "        3.03403954e-01, 5.07907744e+00, 1.48576328e-01, 1.93467753e+01,\n",
       "        9.26890571e-02, 2.27250167e-01, 1.73820344e-01, 4.93670833e+00,\n",
       "        1.80044066e-01, 6.70674650e-01, 9.83120232e-02, 1.99078248e-01,\n",
       "        3.32387490e-01, 1.61088118e-01, 5.17295791e-01, 1.25191302e-01,\n",
       "        1.22179633e-01, 1.57171384e-01, 2.56247495e+00, 9.05497804e-01,\n",
       "        1.95801654e-01, 4.59731041e-01, 5.59639896e-01, 1.35950248e-01,\n",
       "        9.34239701e-01, 1.25204395e+00, 1.14426090e-01, 2.06319153e+00,\n",
       "        1.43698710e-01, 2.00407660e-01, 1.55031580e+00, 9.63227819e-02,\n",
       "        4.95544204e-02, 6.02118311e+00, 2.48975273e-01, 4.06318568e+01,\n",
       "        1.60831759e+01, 6.58453196e-01, 4.25564022e-01, 2.15628887e-01,\n",
       "        1.56532949e-01, 2.76300357e-01, 9.06485480e-02, 1.52750763e-01,\n",
       "        4.24709686e-01, 2.07234545e-01, 2.35692033e-01, 1.49564632e-01,\n",
       "        6.60294304e-02, 1.55950593e-01, 5.54656325e-02, 9.35417964e-01,\n",
       "        1.39196965e-01, 2.34101710e-01, 1.61289952e-01, 2.95135771e-01,\n",
       "        3.77268145e+00, 2.73385998e-02, 4.16690573e-01, 1.35766409e-01,\n",
       "        5.30802936e+00, 1.54736286e-01, 2.13131029e-01, 7.01071132e-01,\n",
       "        2.89939571e-01, 1.00656330e+00, 1.48442279e-01, 2.16313989e-01,\n",
       "        6.23777813e+02, 7.61123095e+02, 5.26546067e+02, 7.37713467e-01,\n",
       "        1.44751597e+01, 1.71752182e-01, 1.84762083e-01, 4.61848958e+00,\n",
       "        9.20520179e+00, 1.06539903e-01, 2.07478920e-01, 1.51672634e-01,\n",
       "        2.10809967e-01, 1.62372222e-01, 1.49711355e-01, 1.22705766e+00,\n",
       "        9.15434995e-01, 5.23530762e-01, 4.65030156e-01, 3.35390131e+00,\n",
       "        2.94877401e+00, 5.91105336e-01, 9.63440072e-02, 2.50736036e-02,\n",
       "        1.87055984e-01, 1.23223839e-01, 4.96642270e-02, 1.50935869e-01,\n",
       "        2.98027016e-01, 6.42251167e-01, 3.62580726e-01, 3.67657479e-01,\n",
       "        7.23620192e-02, 4.23727111e-01, 5.40454399e-01, 2.25097311e+00,\n",
       "        1.62647484e-01]))"
      ]
     },
     "execution_count": 127,
     "metadata": {},
     "output_type": "execute_result"
    }
   ],
   "source": [
    "a"
   ]
  }
 ],
 "metadata": {
  "kernelspec": {
   "display_name": "Python 3",
   "language": "python",
   "name": "python3"
  },
  "language_info": {
   "codemirror_mode": {
    "name": "ipython",
    "version": 3
   },
   "file_extension": ".py",
   "mimetype": "text/x-python",
   "name": "python",
   "nbconvert_exporter": "python",
   "pygments_lexer": "ipython3",
   "version": "3.6.3"
  }
 },
 "nbformat": 4,
 "nbformat_minor": 2
}
