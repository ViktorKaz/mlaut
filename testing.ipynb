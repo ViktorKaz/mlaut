{
 "cells": [
  {
   "cell_type": "code",
   "execution_count": 31,
   "metadata": {},
   "outputs": [],
   "source": [
    "import pickle\n",
    "import itertools\n",
    "import numpy as np\n",
    "from scipy.stats import ttest_ind\n",
    "from scipy.stats import ranksums"
   ]
  },
  {
   "cell_type": "code",
   "execution_count": 34,
   "metadata": {},
   "outputs": [],
   "source": [
    "pickle_in = open(\"errors.p\",\"rb\")\n",
    "errors = pickle.load(pickle_in)\n"
   ]
  },
  {
   "cell_type": "code",
   "execution_count": 36,
   "metadata": {},
   "outputs": [
    {
     "name": "stdout",
     "output_type": "stream",
     "text": [
      "Lasso-LassoLars -0.1851344254977115 0.8532799572802177\n",
      "Lasso-LogisticRegression 0.43289606125573965 0.6654790495967557\n",
      "Lasso-PassiveAggressiveClassifier -0.23813787127094255 0.811977352113328\n",
      "Lasso-RidgeRegression -0.009317187098025361 0.9925738078939808\n",
      "LassoLars-LogisticRegression 0.6368423876509429 0.5248344770090425\n",
      "LassoLars-PassiveAggressiveClassifier -0.07520884381232948 0.9401111993427456\n",
      "LassoLars-RidgeRegression 0.17516663808131008 0.8610963876865952\n",
      "LogisticRegression-PassiveAggressiveClassifier -0.6246577273000408 0.5327891122369554\n",
      "LogisticRegression-RidgeRegression -0.4411892626637381 0.6594731767196389\n",
      "PassiveAggressiveClassifier-RidgeRegression 0.22930291675275183 0.8188287764555359\n"
     ]
    }
   ],
   "source": [
    "p_vals = []\n",
    "perms = itertools.combinations(errors.keys(), r=2)\n",
    "for perm in perms:\n",
    "    a1 = errors[perm[0]].astype(np.float)\n",
    "    a2 = errors[perm[1]].astype(np.float)\n",
    "    t_stat, p_val = ttest_ind(a1,a2)\n",
    "    p_vals.append(p_val)\n",
    "    print(perm[0] +'-' + perm[1],t_stat,p_val )"
   ]
  },
  {
   "cell_type": "code",
   "execution_count": 32,
   "metadata": {},
   "outputs": [
    {
     "name": "stdout",
     "output_type": "stream",
     "text": [
      "Lasso-LassoLars 1.039485766758494 0.29857887423105844\n",
      "Lasso-LogisticRegression 0.41414141414141414 0.6787705444537818\n",
      "Lasso-PassiveAggressiveClassifier -0.10560146923783287 0.9158985589882459\n",
      "Lasso-RidgeRegression 1.2350780532598715 0.21680145643800885\n",
      "LassoLars-LogisticRegression -0.317722681359045 0.750695304809174\n",
      "LassoLars-PassiveAggressiveClassifier -0.7741046831955923 0.43886888825104686\n",
      "LassoLars-RidgeRegression 0.18640955004591367 0.8521236038341486\n",
      "LogisticRegression-PassiveAggressiveClassifier -0.5711662075298439 0.5678869824552863\n",
      "LogisticRegression-RidgeRegression 0.559228650137741 0.5760056825391491\n",
      "PassiveAggressiveClassifier-RidgeRegression 0.9963269054178145 0.3190913351481137\n"
     ]
    }
   ],
   "source": [
    "perms = itertools.combinations(errors.keys(), r=2)\n",
    "for perm in perms:\n",
    "    x = errors[perm[0]]\n",
    "    y = errors[perm[1]].astype(np.float)\n",
    "    \n",
    "    t_stat, p_val = ranksums(x,y)\n",
    "    print(perm[0] +'-' + perm[1],t_stat,p_val )"
   ]
  },
  {
   "cell_type": "code",
   "execution_count": 38,
   "metadata": {},
   "outputs": [],
   "source": [
    "from statsmodels.sandbox.stats.multicomp import multipletests"
   ]
  },
  {
   "cell_type": "code",
   "execution_count": 63,
   "metadata": {},
   "outputs": [],
   "source": [
    "reject, p_adjusted, alphacSidak, alphacBonf = multipletests(p_vals, alpha=0.05, method='bonferroni')"
   ]
  },
  {
   "cell_type": "code",
   "execution_count": 87,
   "metadata": {
    "scrolled": false
   },
   "outputs": [
    {
     "data": {
      "text/plain": [
       "array([1., 1., 1., 1., 1., 1., 1., 1., 1., 1.])"
      ]
     },
     "execution_count": 87,
     "metadata": {},
     "output_type": "execute_result"
    }
   ],
   "source": [
    "p_adjusted"
   ]
  },
  {
   "cell_type": "code",
   "execution_count": 60,
   "metadata": {
    "scrolled": true
   },
   "outputs": [
    {
     "data": {
      "text/plain": [
       "0.005116196891823743"
      ]
     },
     "execution_count": 60,
     "metadata": {},
     "output_type": "execute_result"
    }
   ],
   "source": [
    "p_adjusted[2]"
   ]
  },
  {
   "cell_type": "code",
   "execution_count": 50,
   "metadata": {},
   "outputs": [],
   "source": [
    "from mleap.analyze_results import AnalyseResults\n",
    "from mleap.data import Data"
   ]
  },
  {
   "cell_type": "code",
   "execution_count": 52,
   "metadata": {},
   "outputs": [],
   "source": [
    "data = Data()\n",
    "input_io = data.open_hdf5('data/delgado.hdf5', mode='r')\n",
    "out_io = data.open_hdf5('data/experiments.hdf5', mode='a')\n",
    "analyze = AnalyseResults(hdf5_output_io=out_io, hdf5_input_io=input_io)"
   ]
  },
  {
   "cell_type": "code",
   "execution_count": 54,
   "metadata": {},
   "outputs": [],
   "source": [
    "t_test, df_t = analyze.t_test(errors)"
   ]
  },
  {
   "cell_type": "code",
   "execution_count": 68,
   "metadata": {},
   "outputs": [
    {
     "data": {
      "text/html": [
       "<div>\n",
       "<style scoped>\n",
       "    .dataframe tbody tr th:only-of-type {\n",
       "        vertical-align: middle;\n",
       "    }\n",
       "\n",
       "    .dataframe tbody tr th {\n",
       "        vertical-align: top;\n",
       "    }\n",
       "\n",
       "    .dataframe thead th {\n",
       "        text-align: right;\n",
       "    }\n",
       "</style>\n",
       "<table border=\"1\" class=\"dataframe\">\n",
       "  <thead>\n",
       "    <tr style=\"text-align: right;\">\n",
       "      <th></th>\n",
       "      <th>pair</th>\n",
       "      <th>t_statistic</th>\n",
       "      <th>p_value</th>\n",
       "    </tr>\n",
       "  </thead>\n",
       "  <tbody>\n",
       "    <tr>\n",
       "      <th>0</th>\n",
       "      <td>Lasso - LassoLars</td>\n",
       "      <td>-0.185134</td>\n",
       "      <td>0.853280</td>\n",
       "    </tr>\n",
       "    <tr>\n",
       "      <th>1</th>\n",
       "      <td>Lasso - LogisticRegression</td>\n",
       "      <td>0.432896</td>\n",
       "      <td>0.665479</td>\n",
       "    </tr>\n",
       "    <tr>\n",
       "      <th>2</th>\n",
       "      <td>Lasso - PassiveAggressiveClassifier</td>\n",
       "      <td>-0.238138</td>\n",
       "      <td>0.811977</td>\n",
       "    </tr>\n",
       "    <tr>\n",
       "      <th>3</th>\n",
       "      <td>Lasso - RidgeRegression</td>\n",
       "      <td>-0.009317</td>\n",
       "      <td>0.992574</td>\n",
       "    </tr>\n",
       "    <tr>\n",
       "      <th>4</th>\n",
       "      <td>LassoLars - LogisticRegression</td>\n",
       "      <td>0.636842</td>\n",
       "      <td>0.524834</td>\n",
       "    </tr>\n",
       "    <tr>\n",
       "      <th>5</th>\n",
       "      <td>LassoLars - PassiveAggressiveClassifier</td>\n",
       "      <td>-0.075209</td>\n",
       "      <td>0.940111</td>\n",
       "    </tr>\n",
       "    <tr>\n",
       "      <th>6</th>\n",
       "      <td>LassoLars - RidgeRegression</td>\n",
       "      <td>0.175167</td>\n",
       "      <td>0.861096</td>\n",
       "    </tr>\n",
       "    <tr>\n",
       "      <th>7</th>\n",
       "      <td>LogisticRegression - PassiveAggressiveClassifier</td>\n",
       "      <td>-0.624658</td>\n",
       "      <td>0.532789</td>\n",
       "    </tr>\n",
       "    <tr>\n",
       "      <th>8</th>\n",
       "      <td>LogisticRegression - RidgeRegression</td>\n",
       "      <td>-0.441189</td>\n",
       "      <td>0.659473</td>\n",
       "    </tr>\n",
       "    <tr>\n",
       "      <th>9</th>\n",
       "      <td>PassiveAggressiveClassifier - RidgeRegression</td>\n",
       "      <td>0.229303</td>\n",
       "      <td>0.818829</td>\n",
       "    </tr>\n",
       "  </tbody>\n",
       "</table>\n",
       "</div>"
      ],
      "text/plain": [
       "                                               pair  t_statistic   p_value\n",
       "0                                 Lasso - LassoLars    -0.185134  0.853280\n",
       "1                        Lasso - LogisticRegression     0.432896  0.665479\n",
       "2               Lasso - PassiveAggressiveClassifier    -0.238138  0.811977\n",
       "3                           Lasso - RidgeRegression    -0.009317  0.992574\n",
       "4                    LassoLars - LogisticRegression     0.636842  0.524834\n",
       "5           LassoLars - PassiveAggressiveClassifier    -0.075209  0.940111\n",
       "6                       LassoLars - RidgeRegression     0.175167  0.861096\n",
       "7  LogisticRegression - PassiveAggressiveClassifier    -0.624658  0.532789\n",
       "8              LogisticRegression - RidgeRegression    -0.441189  0.659473\n",
       "9     PassiveAggressiveClassifier - RidgeRegression     0.229303  0.818829"
      ]
     },
     "execution_count": 68,
     "metadata": {},
     "output_type": "execute_result"
    }
   ],
   "source": [
    "df_t"
   ]
  },
  {
   "cell_type": "code",
   "execution_count": 78,
   "metadata": {},
   "outputs": [
    {
     "ename": "TypeError",
     "evalue": "__init__() got an unexpected keyword argument 'axis'",
     "output_type": "error",
     "traceback": [
      "\u001b[1;31m---------------------------------------------------------------------------\u001b[0m",
      "\u001b[1;31mTypeError\u001b[0m                                 Traceback (most recent call last)",
      "\u001b[1;32m<ipython-input-78-53b27c3c524c>\u001b[0m in \u001b[0;36m<module>\u001b[1;34m()\u001b[0m\n\u001b[0;32m      1\u001b[0m \u001b[1;32mimport\u001b[0m \u001b[0mpandas\u001b[0m \u001b[1;32mas\u001b[0m \u001b[0mpd\u001b[0m\u001b[1;33m\u001b[0m\u001b[0m\n\u001b[1;32m----> 2\u001b[1;33m \u001b[0mnew_df\u001b[0m \u001b[1;33m=\u001b[0m \u001b[0mpd\u001b[0m\u001b[1;33m.\u001b[0m\u001b[0mDataFrame\u001b[0m\u001b[1;33m(\u001b[0m\u001b[0mdf_t\u001b[0m\u001b[1;33m[\u001b[0m\u001b[1;34m'pair'\u001b[0m\u001b[1;33m]\u001b[0m\u001b[1;33m,\u001b[0m\u001b[0mdf_t\u001b[0m\u001b[1;33m[\u001b[0m\u001b[1;34m'p_value'\u001b[0m\u001b[1;33m]\u001b[0m\u001b[1;33m,\u001b[0m \u001b[0maxis\u001b[0m\u001b[1;33m=\u001b[0m\u001b[1;36m0\u001b[0m\u001b[1;33m)\u001b[0m\u001b[1;33m\u001b[0m\u001b[0m\n\u001b[0m",
      "\u001b[1;31mTypeError\u001b[0m: __init__() got an unexpected keyword argument 'axis'"
     ]
    }
   ],
   "source": [
    "import pandas as pd\n",
    "new_df = pd.DataFrame(df_t['pair'],df_t['p_value'], axis=0)"
   ]
  },
  {
   "cell_type": "code",
   "execution_count": 91,
   "metadata": {},
   "outputs": [],
   "source": [
    "new_df = pd.concat( [df_t['pair'],pd.Series(p_adjusted, name='p_val') ], axis=1)"
   ]
  },
  {
   "cell_type": "code",
   "execution_count": 93,
   "metadata": {},
   "outputs": [
    {
     "data": {
      "text/plain": [
       "array([['Lasso - LassoLars', 1.0],\n",
       "       ['Lasso - LogisticRegression', 1.0],\n",
       "       ['Lasso - PassiveAggressiveClassifier', 1.0],\n",
       "       ['Lasso - RidgeRegression', 1.0],\n",
       "       ['LassoLars - LogisticRegression', 1.0],\n",
       "       ['LassoLars - PassiveAggressiveClassifier', 1.0],\n",
       "       ['LassoLars - RidgeRegression', 1.0],\n",
       "       ['LogisticRegression - PassiveAggressiveClassifier', 1.0],\n",
       "       ['LogisticRegression - RidgeRegression', 1.0],\n",
       "       ['PassiveAggressiveClassifier - RidgeRegression', 1.0]],\n",
       "      dtype=object)"
      ]
     },
     "execution_count": 93,
     "metadata": {},
     "output_type": "execute_result"
    }
   ],
   "source": [
    "np.array(new_df)"
   ]
  }
 ],
 "metadata": {
  "kernelspec": {
   "display_name": "py36",
   "language": "python",
   "name": "py36"
  },
  "language_info": {
   "codemirror_mode": {
    "name": "ipython",
    "version": 3
   },
   "file_extension": ".py",
   "mimetype": "text/x-python",
   "name": "python",
   "nbconvert_exporter": "python",
   "pygments_lexer": "ipython3",
   "version": "3.6.3"
  }
 },
 "nbformat": 4,
 "nbformat_minor": 2
}
