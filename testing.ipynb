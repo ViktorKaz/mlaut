{
 "cells": [
  {
   "cell_type": "code",
   "execution_count": 21,
   "metadata": {},
   "outputs": [],
   "source": [
    "import pickle\n",
    "import itertools\n",
    "import numpy as np\n",
    "from scipy.stats import ttest_ind"
   ]
  },
  {
   "cell_type": "code",
   "execution_count": 20,
   "metadata": {},
   "outputs": [],
   "source": [
    "pickle_in = open(\"errors.p\",\"rb\")\n",
    "errors = pickle.load(pickle_in)"
   ]
  },
  {
   "cell_type": "code",
   "execution_count": 23,
   "metadata": {},
   "outputs": [
    {
     "name": "stdout",
     "output_type": "stream",
     "text": [
      "-0.1851344254977115 0.8532799572802177\n",
      "0.43289606125573965 0.6654790495967557\n",
      "-0.23813787127094255 0.811977352113328\n",
      "-0.009317187098025361 0.9925738078939808\n",
      "0.6368423876509429 0.5248344770090425\n",
      "-0.07520884381232948 0.9401111993427456\n",
      "0.17516663808131008 0.8610963876865952\n",
      "-0.6246577273000408 0.5327891122369554\n",
      "-0.4411892626637381 0.6594731767196389\n",
      "0.22930291675275183 0.8188287764555359\n"
     ]
    }
   ],
   "source": [
    "perms = itertools.combinations(errors.keys(), r=2)\n",
    "for perm in perms:\n",
    "    a1 = errors[perm[0]].astype(np.float)\n",
    "    a2 = errors[perm[1]].astype(np.float)\n",
    "    t_stat, p_val = ttest_ind(a1,a2)\n",
    "    print(t_stat,p_val )"
   ]
  },
  {
   "cell_type": "code",
   "execution_count": null,
   "metadata": {},
   "outputs": [],
   "source": []
  }
 ],
 "metadata": {
  "kernelspec": {
   "display_name": "py36",
   "language": "python",
   "name": "py36"
  },
  "language_info": {
   "codemirror_mode": {
    "name": "ipython",
    "version": 3
   },
   "file_extension": ".py",
   "mimetype": "text/x-python",
   "name": "python",
   "nbconvert_exporter": "python",
   "pygments_lexer": "ipython3",
   "version": "3.6.3"
  }
 },
 "nbformat": 4,
 "nbformat_minor": 2
}
