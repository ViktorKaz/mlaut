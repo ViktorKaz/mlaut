{
 "cells": [
  {
   "cell_type": "code",
   "execution_count": 31,
   "metadata": {},
   "outputs": [],
   "source": [
    "import pickle\n",
    "import itertools\n",
    "import numpy as np\n",
    "from scipy.stats import ttest_ind\n",
    "from scipy.stats import ranksums"
   ]
  },
  {
   "cell_type": "code",
   "execution_count": 20,
   "metadata": {},
   "outputs": [],
   "source": [
    "pickle_in = open(\"errors.p\",\"rb\")\n",
    "errors = pickle.load(pickle_in)"
   ]
  },
  {
   "cell_type": "code",
   "execution_count": 30,
   "metadata": {},
   "outputs": [
    {
     "name": "stdout",
     "output_type": "stream",
     "text": [
      "Lasso-LassoLars -0.1851344254977115 0.8532799572802177\n",
      "Lasso-LogisticRegression 0.43289606125573965 0.6654790495967557\n",
      "Lasso-PassiveAggressiveClassifier -0.23813787127094255 0.811977352113328\n",
      "Lasso-RidgeRegression -0.009317187098025361 0.9925738078939808\n",
      "LassoLars-LogisticRegression 0.6368423876509429 0.5248344770090425\n",
      "LassoLars-PassiveAggressiveClassifier -0.07520884381232948 0.9401111993427456\n",
      "LassoLars-RidgeRegression 0.17516663808131008 0.8610963876865952\n",
      "LogisticRegression-PassiveAggressiveClassifier -0.6246577273000408 0.5327891122369554\n",
      "LogisticRegression-RidgeRegression -0.4411892626637381 0.6594731767196389\n",
      "PassiveAggressiveClassifier-RidgeRegression 0.22930291675275183 0.8188287764555359\n"
     ]
    }
   ],
   "source": [
    "perms = itertools.combinations(errors.keys(), r=2)\n",
    "for perm in perms:\n",
    "    a1 = errors[perm[0]].astype(np.float)\n",
    "    a2 = errors[perm[1]].astype(np.float)\n",
    "    t_stat, p_val = ttest_ind(a1,a2)\n",
    "    print(perm[0] +'-' + perm[1],t_stat,p_val )"
   ]
  },
  {
   "cell_type": "code",
   "execution_count": 32,
   "metadata": {},
   "outputs": [
    {
     "name": "stdout",
     "output_type": "stream",
     "text": [
      "Lasso-LassoLars 1.039485766758494 0.29857887423105844\n",
      "Lasso-LogisticRegression 0.41414141414141414 0.6787705444537818\n",
      "Lasso-PassiveAggressiveClassifier -0.10560146923783287 0.9158985589882459\n",
      "Lasso-RidgeRegression 1.2350780532598715 0.21680145643800885\n",
      "LassoLars-LogisticRegression -0.317722681359045 0.750695304809174\n",
      "LassoLars-PassiveAggressiveClassifier -0.7741046831955923 0.43886888825104686\n",
      "LassoLars-RidgeRegression 0.18640955004591367 0.8521236038341486\n",
      "LogisticRegression-PassiveAggressiveClassifier -0.5711662075298439 0.5678869824552863\n",
      "LogisticRegression-RidgeRegression 0.559228650137741 0.5760056825391491\n",
      "PassiveAggressiveClassifier-RidgeRegression 0.9963269054178145 0.3190913351481137\n"
     ]
    }
   ],
   "source": [
    "perms = itertools.combinations(errors.keys(), r=2)\n",
    "for perm in perms:\n",
    "    x = errors[perm[0]]\n",
    "    y = errors[perm[1]].astype(np.float)\n",
    "    \n",
    "    t_stat, p_val = ranksums(x,y)\n",
    "    print(perm[0] +'-' + perm[1],t_stat,p_val )"
   ]
  }
 ],
 "metadata": {
  "kernelspec": {
   "display_name": "py36",
   "language": "python",
   "name": "py36"
  },
  "language_info": {
   "codemirror_mode": {
    "name": "ipython",
    "version": 3
   },
   "file_extension": ".py",
   "mimetype": "text/x-python",
   "name": "python",
   "nbconvert_exporter": "python",
   "pygments_lexer": "ipython3",
   "version": "3.6.3"
  }
 },
 "nbformat": 4,
 "nbformat_minor": 2
}
