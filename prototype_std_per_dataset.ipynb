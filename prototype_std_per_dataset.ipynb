{
 "cells": [
  {
   "cell_type": "code",
   "execution_count": 5,
   "metadata": {
    "scrolled": true
   },
   "outputs": [],
   "source": [
    "from mleap.analyze_results import AnalyseResults\n",
    "from mleap.data import Data\n",
    "from mleap.data.data import Data\n",
    "import pickle\n",
    "import numpy as np\n",
    "from sklearn.metrics import mean_squared_error\n",
    "from mleap.experiments import Orchestrator\n",
    "from mleap.data.estimators import instantiate_default_estimators\n",
    "\n",
    "data = Data()\n",
    "input_io = data.open_hdf5('data/delgado.hdf5', mode='r')\n",
    "out_io = data.open_hdf5('data/classification.hdf5', mode='a')\n",
    "#analyze = AnalyseResults(hdf5_output_io=out_io, hdf5_input_io=input_io)"
   ]
  },
  {
   "cell_type": "code",
   "execution_count": 3,
   "metadata": {},
   "outputs": [],
   "source": [
    "orchest = Orchestrator(hdf5_input_io=input_io, \n",
    "                           hdf5_output_io=out_io, \n",
    "                           original_datasets_group_h5_path='/delgado_datasets')"
   ]
  },
  {
   "cell_type": "code",
   "execution_count": 6,
   "metadata": {},
   "outputs": [
    {
     "ename": "AttributeError",
     "evalue": "'Orchestrator' object has no attribute '_input_io_datasets_loc'",
     "output_type": "error",
     "traceback": [
      "\u001b[1;31m---------------------------------------------------------------------------\u001b[0m",
      "\u001b[1;31mAttributeError\u001b[0m                            Traceback (most recent call last)",
      "\u001b[1;32m<ipython-input-6-e61ff8761198>\u001b[0m in \u001b[0;36m<module>\u001b[1;34m()\u001b[0m\n\u001b[0;32m      1\u001b[0m \u001b[0minstantiated_models\u001b[0m \u001b[1;33m=\u001b[0m \u001b[0minstantiate_default_estimators\u001b[0m\u001b[1;33m(\u001b[0m\u001b[0mestimators\u001b[0m\u001b[1;33m=\u001b[0m\u001b[1;33m[\u001b[0m\u001b[1;34m'Classification'\u001b[0m\u001b[1;33m]\u001b[0m\u001b[1;33m,\u001b[0m \u001b[0mverbose\u001b[0m\u001b[1;33m=\u001b[0m\u001b[1;36m1\u001b[0m\u001b[1;33m)\u001b[0m\u001b[1;33m\u001b[0m\u001b[0m\n\u001b[1;32m----> 2\u001b[1;33m \u001b[0morchest\u001b[0m\u001b[1;33m.\u001b[0m\u001b[0mpredict_all\u001b[0m\u001b[1;33m(\u001b[0m\u001b[0mtrained_models_dir\u001b[0m\u001b[1;33m=\u001b[0m\u001b[1;34m'data/trained_models'\u001b[0m\u001b[1;33m,\u001b[0m \u001b[0mestimators\u001b[0m\u001b[1;33m=\u001b[0m\u001b[0minstantiated_models\u001b[0m\u001b[1;33m)\u001b[0m\u001b[1;33m\u001b[0m\u001b[0m\n\u001b[0m",
      "\u001b[1;32mL:\\PhD\\mleap\\mleap\\experiments\\orchestrator.py\u001b[0m in \u001b[0;36mpredict_all\u001b[1;34m(self, trained_models_dir, estimators)\u001b[0m\n\u001b[0;32m    152\u001b[0m                                                                               \u001b[0mhdf5_in\u001b[0m\u001b[1;33m=\u001b[0m\u001b[0mself\u001b[0m\u001b[1;33m.\u001b[0m\u001b[0m_input_io\u001b[0m\u001b[1;33m,\u001b[0m\u001b[1;33m\u001b[0m\u001b[0m\n\u001b[0;32m    153\u001b[0m                                                                               \u001b[0mdts_name\u001b[0m\u001b[1;33m=\u001b[0m\u001b[0mdts\u001b[0m\u001b[1;33m,\u001b[0m\u001b[1;33m\u001b[0m\u001b[0m\n\u001b[1;32m--> 154\u001b[1;33m                                                                               dts_grp_path=self._input_io_datasets_loc)\n\u001b[0m\u001b[0;32m    155\u001b[0m             \u001b[0mtrained_estimators\u001b[0m \u001b[1;33m=\u001b[0m \u001b[0mos\u001b[0m\u001b[1;33m.\u001b[0m\u001b[0mlistdir\u001b[0m\u001b[1;33m(\u001b[0m\u001b[1;34mf'{trained_models_dir}/{dts}'\u001b[0m\u001b[1;33m)\u001b[0m\u001b[1;33m\u001b[0m\u001b[0m\n\u001b[0;32m    156\u001b[0m             \u001b[1;32mfor\u001b[0m \u001b[0mtrained_estimator\u001b[0m \u001b[1;32min\u001b[0m \u001b[0mtrained_estimators\u001b[0m\u001b[1;33m:\u001b[0m\u001b[1;33m\u001b[0m\u001b[0m\n",
      "\u001b[1;31mAttributeError\u001b[0m: 'Orchestrator' object has no attribute '_input_io_datasets_loc'"
     ]
    }
   ],
   "source": [
    "instantiated_models = instantiate_default_estimators(estimators=['Classification'], verbose=1)\n",
    "orchest.predict_all(trained_models_dir='data/trained_models', estimators=instantiated_models)"
   ]
  }
 ],
 "metadata": {
  "kernelspec": {
   "display_name": "py36",
   "language": "python",
   "name": "py36"
  },
  "language_info": {
   "codemirror_mode": {
    "name": "ipython",
    "version": 3
   },
   "file_extension": ".py",
   "mimetype": "text/x-python",
   "name": "python",
   "nbconvert_exporter": "python",
   "pygments_lexer": "ipython3",
   "version": "3.6.3"
  }
 },
 "nbformat": 4,
 "nbformat_minor": 2
}
