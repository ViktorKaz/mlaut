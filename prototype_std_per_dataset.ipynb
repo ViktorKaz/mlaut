{
 "cells": [
  {
   "cell_type": "code",
   "execution_count": 1,
   "metadata": {},
   "outputs": [
    {
     "name": "stderr",
     "output_type": "stream",
     "text": [
      "C:\\Python\\envs\\py36\\lib\\site-packages\\h5py\\__init__.py:36: FutureWarning: Conversion of the second argument of issubdtype from `float` to `np.floating` is deprecated. In future, it will be treated as `np.float64 == np.dtype(float).type`.\n",
      "  from ._conv import register_converters as _register_converters\n"
     ]
    }
   ],
   "source": [
    "from mleap.analyze_results import AnalyseResults\n",
    "from mleap.data import Data\n",
    "from mleap.data.data import Data\n",
    "import pickle\n",
    "import numpy as np\n",
    "\n",
    "data = Data()\n",
    "input_io = data.open_hdf5('data/delgado.hdf5', mode='r')\n",
    "out_io = data.open_hdf5('data/experiments.hdf5', mode='a')\n",
    "analyze = AnalyseResults(hdf5_output_io=out_io, hdf5_input_io=input_io)"
   ]
  },
  {
   "cell_type": "code",
   "execution_count": 4,
   "metadata": {},
   "outputs": [],
   "source": [
    "original_dts_grp = 'delgado_datasets/'\n",
    "out_predictions_grp='experiments/predictions/'\n",
    "data = Data()\n",
    "orig_dts_names_list, orig_dts_names_list_full_path = data.list_datasets(hdf5_group=original_dts_grp, hdf5_io=input_io)"
   ]
  },
  {
   "cell_type": "code",
   "execution_count": 5,
   "metadata": {},
   "outputs": [],
   "source": [
    "\n",
    "pred_dts_names_list, pred_dts_names_list_full_path = data.list_datasets(hdf5_group=out_predictions_grp, hdf5_io=out_io)"
   ]
  },
  {
   "cell_type": "code",
   "execution_count": 18,
   "metadata": {},
   "outputs": [],
   "source": [
    "std = {}\n",
    "\n",
    "for dts in pred_dts_names_list:\n",
    "    predictions_all_estimators = out_io.load_predictions_for_dataset(dts)\n",
    "    train, test, _, _ = data.load_train_test_split(out_io, dts)\n",
    "    idx_orig_dts = orig_dts_names_list.index(dts)\n",
    "    path_orig_dts = orig_dts_names_list_full_path[idx_orig_dts]\n",
    "    true_labels = data.load_true_labels(hdf5_in=input_io, dataset_loc=path_orig_dts, lables_idx=test)\n",
    "    true_labels = np.array(true_labels)\n",
    "    for pr in predictions_all_estimators:\n",
    "        estimator_name = pr[0]\n",
    "        estimator_predictions = pr[1]\n",
    "        diff = estimator_predictions - true_labels\n",
    "        s = np.std(diff)\n",
    "        std[estimator_name] = s\n",
    "    "
   ]
  },
  {
   "cell_type": "code",
   "execution_count": 19,
   "metadata": {},
   "outputs": [
    {
     "data": {
      "text/plain": [
       "{'BaselineClassifier': 0.8007382461359245,\n",
       " 'BaselineRegressor': 0.6110531365401032}"
      ]
     },
     "execution_count": 19,
     "metadata": {},
     "output_type": "execute_result"
    }
   ],
   "source": [
    "std"
   ]
  }
 ],
 "metadata": {
  "kernelspec": {
   "display_name": "py36",
   "language": "python",
   "name": "py36"
  },
  "language_info": {
   "codemirror_mode": {
    "name": "ipython",
    "version": 3
   },
   "file_extension": ".py",
   "mimetype": "text/x-python",
   "name": "python",
   "nbconvert_exporter": "python",
   "pygments_lexer": "ipython3",
   "version": "3.6.3"
  }
 },
 "nbformat": 4,
 "nbformat_minor": 2
}
