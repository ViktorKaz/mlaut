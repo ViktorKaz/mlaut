{
 "cells": [
  {
   "cell_type": "code",
   "execution_count": 1,
   "metadata": {
    "scrolled": true
   },
   "outputs": [
    {
     "name": "stderr",
     "output_type": "stream",
     "text": [
      "C:\\Python\\envs\\py36\\lib\\site-packages\\h5py\\__init__.py:36: FutureWarning: Conversion of the second argument of issubdtype from `float` to `np.floating` is deprecated. In future, it will be treated as `np.float64 == np.dtype(float).type`.\n",
      "  from ._conv import register_converters as _register_converters\n"
     ]
    },
    {
     "ename": "TypeError",
     "evalue": "__init__() missing 2 required positional arguments: 'input_h5_original_datasets_group' and 'output_h5_predictions_group'",
     "output_type": "error",
     "traceback": [
      "\u001b[1;31m---------------------------------------------------------------------------\u001b[0m",
      "\u001b[1;31mTypeError\u001b[0m                                 Traceback (most recent call last)",
      "\u001b[1;32m<ipython-input-1-ae0a87400705>\u001b[0m in \u001b[0;36m<module>\u001b[1;34m()\u001b[0m\n\u001b[0;32m      9\u001b[0m \u001b[0minput_io\u001b[0m \u001b[1;33m=\u001b[0m \u001b[0mdata\u001b[0m\u001b[1;33m.\u001b[0m\u001b[0mopen_hdf5\u001b[0m\u001b[1;33m(\u001b[0m\u001b[1;34m'data/delgado.hdf5'\u001b[0m\u001b[1;33m,\u001b[0m \u001b[0mmode\u001b[0m\u001b[1;33m=\u001b[0m\u001b[1;34m'r'\u001b[0m\u001b[1;33m)\u001b[0m\u001b[1;33m\u001b[0m\u001b[0m\n\u001b[0;32m     10\u001b[0m \u001b[0mout_io\u001b[0m \u001b[1;33m=\u001b[0m \u001b[0mdata\u001b[0m\u001b[1;33m.\u001b[0m\u001b[0mopen_hdf5\u001b[0m\u001b[1;33m(\u001b[0m\u001b[1;34m'data/experiments.hdf5'\u001b[0m\u001b[1;33m,\u001b[0m \u001b[0mmode\u001b[0m\u001b[1;33m=\u001b[0m\u001b[1;34m'a'\u001b[0m\u001b[1;33m)\u001b[0m\u001b[1;33m\u001b[0m\u001b[0m\n\u001b[1;32m---> 11\u001b[1;33m \u001b[0manalyze\u001b[0m \u001b[1;33m=\u001b[0m \u001b[0mAnalyseResults\u001b[0m\u001b[1;33m(\u001b[0m\u001b[0mhdf5_output_io\u001b[0m\u001b[1;33m=\u001b[0m\u001b[0mout_io\u001b[0m\u001b[1;33m,\u001b[0m \u001b[0mhdf5_input_io\u001b[0m\u001b[1;33m=\u001b[0m\u001b[0minput_io\u001b[0m\u001b[1;33m)\u001b[0m\u001b[1;33m\u001b[0m\u001b[0m\n\u001b[0m",
      "\u001b[1;31mTypeError\u001b[0m: __init__() missing 2 required positional arguments: 'input_h5_original_datasets_group' and 'output_h5_predictions_group'"
     ]
    }
   ],
   "source": [
    "from mleap.analyze_results import AnalyseResults\n",
    "from mleap.data import Data\n",
    "from mleap.data.data import Data\n",
    "import pickle\n",
    "import numpy as np\n",
    "from sklearn.metrics import mean_squared_error\n",
    "\n",
    "data = Data()\n",
    "input_io = data.open_hdf5('data/delgado.hdf5', mode='r')\n",
    "out_io = data.open_hdf5('data/experiments.hdf5', mode='a')\n",
    "analyze = AnalyseResults(hdf5_output_io=out_io, hdf5_input_io=input_io)"
   ]
  },
  {
   "cell_type": "code",
   "execution_count": 5,
   "metadata": {},
   "outputs": [],
   "source": [
    "import glob\n",
    "import os"
   ]
  },
  {
   "cell_type": "code",
   "execution_count": 25,
   "metadata": {},
   "outputs": [
    {
     "name": "stdout",
     "output_type": "stream",
     "text": [
      "LogisticRegression\n",
      "RidgeRegression\n",
      "Lasso\n",
      "LassoLars\n",
      "RandomForestClassifier\n",
      "BaggingClassifier\n",
      "GradientBoostingClassifier\n",
      "SVC\n",
      "GaussianNaiveBayes\n",
      "BernoulliNaiveBayes\n",
      "NeuralNetworkDeepClassifier\n",
      "PassiveAggressiveClassifier\n",
      "BaselineClassifier\n",
      "LogisticRegression\n",
      "RidgeRegression\n",
      "Lasso\n",
      "LassoLars\n",
      "RandomForestClassifier\n",
      "BaggingClassifier\n",
      "GradientBoostingClassifier\n",
      "SVC\n",
      "GaussianNaiveBayes\n",
      "BernoulliNaiveBayes\n",
      "NeuralNetworkDeepClassifier\n",
      "PassiveAggressiveClassifier\n",
      "BaselineClassifier\n"
     ]
    }
   ],
   "source": [
    "from mleap.data.estimators import instantiate_default_estimators\n",
    "root_dir = 'data/trained_models'\n",
    "datasets = os.listdir(root_dir)\n",
    "instantiated_estimators = instantiate_default_estimators(estimators=['Classification'], verbose=1)\n",
    "names_all_estimators = [estimator.properties()['name'] for estimator in instantiated_estimators]\n",
    "for dts in datasets:\n",
    "    trained_estimators = os.listdir(f'{root_dir}/{dts}')\n",
    "    \n",
    "    for trained_estimator in trained_estimators:\n",
    "        name_estimator = trained_estimator.split('.')[0]\n",
    "        try:\n",
    "            idx_estimator = names_all_estimators.index(name_estimator)\n",
    "            estimator = instantiated_estimators[idx_estimator]\n",
    "            estimator.load(f'{root_dir}/{dts}/{trained_estimator}')\n",
    "            predictions = estimator.predict(...)\n",
    "        print(name_estimator)\n",
    "    "
   ]
  },
  {
   "cell_type": "code",
   "execution_count": 33,
   "metadata": {},
   "outputs": [
    {
     "name": "stdout",
     "output_type": "stream",
     "text": [
      "err\n"
     ]
    }
   ],
   "source": [
    "try:\n",
    "    idx = names_all_estimators.index('a')\n",
    "    print(idx)\n",
    "except:\n",
    "    print('err')"
   ]
  }
 ],
 "metadata": {
  "kernelspec": {
   "display_name": "py36",
   "language": "python",
   "name": "py36"
  },
  "language_info": {
   "codemirror_mode": {
    "name": "ipython",
    "version": 3
   },
   "file_extension": ".py",
   "mimetype": "text/x-python",
   "name": "python",
   "nbconvert_exporter": "python",
   "pygments_lexer": "ipython3",
   "version": "3.6.3"
  }
 },
 "nbformat": 4,
 "nbformat_minor": 2
}
