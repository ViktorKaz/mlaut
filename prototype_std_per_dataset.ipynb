{
 "cells": [
  {
   "cell_type": "code",
   "execution_count": 1,
   "metadata": {
    "scrolled": true
   },
   "outputs": [
    {
     "name": "stderr",
     "output_type": "stream",
     "text": [
      "C:\\Python\\envs\\py36\\lib\\site-packages\\h5py\\__init__.py:36: FutureWarning: Conversion of the second argument of issubdtype from `float` to `np.floating` is deprecated. In future, it will be treated as `np.float64 == np.dtype(float).type`.\n",
      "  from ._conv import register_converters as _register_converters\n"
     ]
    }
   ],
   "source": [
    "from mleap.analyze_results import AnalyseResults\n",
    "from mleap.data import Data\n",
    "from mleap.data.data import Data\n",
    "import pickle\n",
    "import numpy as np\n",
    "from sklearn.metrics import mean_squared_error\n",
    "from mleap.experiments import Orchestrator\n",
    "from mleap.data.estimators import instantiate_default_estimators\n",
    "\n",
    "data = Data()\n",
    "input_io = data.open_hdf5('data/delgado.hdf5', mode='r')\n",
    "out_io = data.open_hdf5('data/classification.hdf5', mode='a')\n",
    "#analyze = AnalyseResults(hdf5_output_io=out_io, hdf5_input_io=input_io)"
   ]
  },
  {
   "cell_type": "code",
   "execution_count": 2,
   "metadata": {},
   "outputs": [],
   "source": [
    "orchest = Orchestrator(hdf5_input_io=input_io, \n",
    "                           hdf5_output_io=out_io, \n",
    "                           original_datasets_group_h5_path='/delgado_datasets')"
   ]
  },
  {
   "cell_type": "code",
   "execution_count": 3,
   "metadata": {},
   "outputs": [
    {
     "name": "stderr",
     "output_type": "stream",
     "text": [
      "2018-02-23 17:00:08,541 [MainThread  ] [WARNI]  Did not find trained estimator LogisticRegression for datasetabalone\n",
      "2018-02-23 17:00:08,541 [MainThread  ] [WARNI]  Did not find trained estimator LogisticRegression for datasetabalone\n",
      "2018-02-23 17:00:08,541 [MainThread  ] [WARNI]  Did not find trained estimator LogisticRegression for datasetabalone\n",
      "2018-02-23 17:00:08,574 [MainThread  ] [WARNI]  Did not find trained estimator RidgeRegression for datasetabalone\n",
      "2018-02-23 17:00:08,574 [MainThread  ] [WARNI]  Did not find trained estimator RidgeRegression for datasetabalone\n",
      "2018-02-23 17:00:08,574 [MainThread  ] [WARNI]  Did not find trained estimator RidgeRegression for datasetabalone\n",
      "2018-02-23 17:00:08,608 [MainThread  ] [WARNI]  Did not find trained estimator Lasso for datasetabalone\n",
      "2018-02-23 17:00:08,608 [MainThread  ] [WARNI]  Did not find trained estimator Lasso for datasetabalone\n",
      "2018-02-23 17:00:08,608 [MainThread  ] [WARNI]  Did not find trained estimator Lasso for datasetabalone\n",
      "2018-02-23 17:00:08,639 [MainThread  ] [WARNI]  Did not find trained estimator LassoLars for datasetabalone\n",
      "2018-02-23 17:00:08,639 [MainThread  ] [WARNI]  Did not find trained estimator LassoLars for datasetabalone\n",
      "2018-02-23 17:00:08,639 [MainThread  ] [WARNI]  Did not find trained estimator LassoLars for datasetabalone\n"
     ]
    },
    {
     "name": "stdout",
     "output_type": "stream",
     "text": [
      "LogisticRegression\n",
      "RidgeRegression\n",
      "Lasso\n",
      "LassoLars\n",
      "RandomForestClassifier\n"
     ]
    },
    {
     "name": "stderr",
     "output_type": "stream",
     "text": [
      "2018-02-23 17:00:08,763 [MainThread  ] [WARNI]  Did not find trained estimator RandomForestClassifier for datasetabalone\n",
      "2018-02-23 17:00:08,763 [MainThread  ] [WARNI]  Did not find trained estimator RandomForestClassifier for datasetabalone\n",
      "2018-02-23 17:00:08,763 [MainThread  ] [WARNI]  Did not find trained estimator RandomForestClassifier for datasetabalone\n"
     ]
    },
    {
     "name": "stdout",
     "output_type": "stream",
     "text": [
      "BaggingClassifier\n"
     ]
    },
    {
     "name": "stderr",
     "output_type": "stream",
     "text": [
      "2018-02-23 17:00:10,843 [MainThread  ] [WARNI]  Did not find trained estimator BaggingClassifier for datasetabalone\n",
      "2018-02-23 17:00:10,843 [MainThread  ] [WARNI]  Did not find trained estimator BaggingClassifier for datasetabalone\n",
      "2018-02-23 17:00:10,843 [MainThread  ] [WARNI]  Did not find trained estimator BaggingClassifier for datasetabalone\n"
     ]
    },
    {
     "name": "stdout",
     "output_type": "stream",
     "text": [
      "GradientBoostingClassifier\n"
     ]
    },
    {
     "name": "stderr",
     "output_type": "stream",
     "text": [
      "2018-02-23 17:00:11,306 [MainThread  ] [WARNI]  Did not find trained estimator GradientBoostingClassifier for datasetabalone\n",
      "2018-02-23 17:00:11,306 [MainThread  ] [WARNI]  Did not find trained estimator GradientBoostingClassifier for datasetabalone\n",
      "2018-02-23 17:00:11,306 [MainThread  ] [WARNI]  Did not find trained estimator GradientBoostingClassifier for datasetabalone\n",
      "2018-02-23 17:00:11,357 [MainThread  ] [WARNI]  Did not find trained estimator SVC for datasetabalone\n",
      "2018-02-23 17:00:11,357 [MainThread  ] [WARNI]  Did not find trained estimator SVC for datasetabalone\n",
      "2018-02-23 17:00:11,357 [MainThread  ] [WARNI]  Did not find trained estimator SVC for datasetabalone\n",
      "2018-02-23 17:00:11,382 [MainThread  ] [WARNI]  Did not find trained estimator GaussianNaiveBayes for datasetabalone\n",
      "2018-02-23 17:00:11,382 [MainThread  ] [WARNI]  Did not find trained estimator GaussianNaiveBayes for datasetabalone\n",
      "2018-02-23 17:00:11,382 [MainThread  ] [WARNI]  Did not find trained estimator GaussianNaiveBayes for datasetabalone\n",
      "2018-02-23 17:00:11,411 [MainThread  ] [WARNI]  Did not find trained estimator BernoulliNaiveBayes for datasetabalone\n",
      "2018-02-23 17:00:11,411 [MainThread  ] [WARNI]  Did not find trained estimator BernoulliNaiveBayes for datasetabalone\n",
      "2018-02-23 17:00:11,411 [MainThread  ] [WARNI]  Did not find trained estimator BernoulliNaiveBayes for datasetabalone\n"
     ]
    },
    {
     "name": "stdout",
     "output_type": "stream",
     "text": [
      "SVC\n",
      "GaussianNaiveBayes\n",
      "BernoulliNaiveBayes\n",
      "NeuralNetworkDeepClassifier\n"
     ]
    },
    {
     "name": "stderr",
     "output_type": "stream",
     "text": [
      "2018-02-23 17:00:12,690 [MainThread  ] [WARNI]  Did not find trained estimator NeuralNetworkDeepClassifier for datasetabalone\n",
      "2018-02-23 17:00:12,690 [MainThread  ] [WARNI]  Did not find trained estimator NeuralNetworkDeepClassifier for datasetabalone\n",
      "2018-02-23 17:00:12,690 [MainThread  ] [WARNI]  Did not find trained estimator NeuralNetworkDeepClassifier for datasetabalone\n",
      "2018-02-23 17:00:12,705 [MainThread  ] [WARNI]  Did not find trained estimator PassiveAggressiveClassifier for datasetabalone\n",
      "2018-02-23 17:00:12,705 [MainThread  ] [WARNI]  Did not find trained estimator PassiveAggressiveClassifier for datasetabalone\n",
      "2018-02-23 17:00:12,705 [MainThread  ] [WARNI]  Did not find trained estimator PassiveAggressiveClassifier for datasetabalone\n",
      "2018-02-23 17:00:12,726 [MainThread  ] [WARNI]  Did not find trained estimator BaselineClassifier for datasetabalone\n",
      "2018-02-23 17:00:12,726 [MainThread  ] [WARNI]  Did not find trained estimator BaselineClassifier for datasetabalone\n",
      "2018-02-23 17:00:12,726 [MainThread  ] [WARNI]  Did not find trained estimator BaselineClassifier for datasetabalone\n",
      "2018-02-23 17:00:12,804 [MainThread  ] [WARNI]  Did not find trained estimator LogisticRegression for datasetacute_inflammation\n",
      "2018-02-23 17:00:12,804 [MainThread  ] [WARNI]  Did not find trained estimator LogisticRegression for datasetacute_inflammation\n",
      "2018-02-23 17:00:12,804 [MainThread  ] [WARNI]  Did not find trained estimator LogisticRegression for datasetacute_inflammation\n",
      "2018-02-23 17:00:12,816 [MainThread  ] [WARNI]  Did not find trained estimator RidgeRegression for datasetacute_inflammation\n",
      "2018-02-23 17:00:12,816 [MainThread  ] [WARNI]  Did not find trained estimator RidgeRegression for datasetacute_inflammation\n",
      "2018-02-23 17:00:12,816 [MainThread  ] [WARNI]  Did not find trained estimator RidgeRegression for datasetacute_inflammation\n",
      "2018-02-23 17:00:12,848 [MainThread  ] [WARNI]  Did not find trained estimator Lasso for datasetacute_inflammation\n",
      "2018-02-23 17:00:12,848 [MainThread  ] [WARNI]  Did not find trained estimator Lasso for datasetacute_inflammation\n",
      "2018-02-23 17:00:12,848 [MainThread  ] [WARNI]  Did not find trained estimator Lasso for datasetacute_inflammation\n",
      "2018-02-23 17:00:12,859 [MainThread  ] [WARNI]  Did not find trained estimator LassoLars for datasetacute_inflammation\n",
      "2018-02-23 17:00:12,859 [MainThread  ] [WARNI]  Did not find trained estimator LassoLars for datasetacute_inflammation\n",
      "2018-02-23 17:00:12,859 [MainThread  ] [WARNI]  Did not find trained estimator LassoLars for datasetacute_inflammation\n"
     ]
    },
    {
     "name": "stdout",
     "output_type": "stream",
     "text": [
      "PassiveAggressiveClassifier\n",
      "BaselineClassifier\n",
      "LogisticRegression\n",
      "RidgeRegression\n",
      "Lasso\n",
      "LassoLars\n",
      "RandomForestClassifier\n"
     ]
    },
    {
     "name": "stderr",
     "output_type": "stream",
     "text": [
      "2018-02-23 17:00:12,904 [MainThread  ] [WARNI]  Did not find trained estimator RandomForestClassifier for datasetacute_inflammation\n",
      "2018-02-23 17:00:12,904 [MainThread  ] [WARNI]  Did not find trained estimator RandomForestClassifier for datasetacute_inflammation\n",
      "2018-02-23 17:00:12,904 [MainThread  ] [WARNI]  Did not find trained estimator RandomForestClassifier for datasetacute_inflammation\n",
      "2018-02-23 17:00:12,972 [MainThread  ] [WARNI]  Did not find trained estimator BaggingClassifier for datasetacute_inflammation\n",
      "2018-02-23 17:00:12,972 [MainThread  ] [WARNI]  Did not find trained estimator BaggingClassifier for datasetacute_inflammation\n",
      "2018-02-23 17:00:12,972 [MainThread  ] [WARNI]  Did not find trained estimator BaggingClassifier for datasetacute_inflammation\n",
      "2018-02-23 17:00:13,004 [MainThread  ] [WARNI]  Did not find trained estimator GradientBoostingClassifier for datasetacute_inflammation\n",
      "2018-02-23 17:00:13,004 [MainThread  ] [WARNI]  Did not find trained estimator GradientBoostingClassifier for datasetacute_inflammation\n",
      "2018-02-23 17:00:13,004 [MainThread  ] [WARNI]  Did not find trained estimator GradientBoostingClassifier for datasetacute_inflammation\n",
      "2018-02-23 17:00:13,037 [MainThread  ] [WARNI]  Did not find trained estimator SVC for datasetacute_inflammation\n",
      "2018-02-23 17:00:13,037 [MainThread  ] [WARNI]  Did not find trained estimator SVC for datasetacute_inflammation\n",
      "2018-02-23 17:00:13,037 [MainThread  ] [WARNI]  Did not find trained estimator SVC for datasetacute_inflammation\n",
      "2018-02-23 17:00:13,070 [MainThread  ] [WARNI]  Did not find trained estimator GaussianNaiveBayes for datasetacute_inflammation\n",
      "2018-02-23 17:00:13,070 [MainThread  ] [WARNI]  Did not find trained estimator GaussianNaiveBayes for datasetacute_inflammation\n",
      "2018-02-23 17:00:13,070 [MainThread  ] [WARNI]  Did not find trained estimator GaussianNaiveBayes for datasetacute_inflammation\n",
      "2018-02-23 17:00:13,091 [MainThread  ] [WARNI]  Did not find trained estimator BernoulliNaiveBayes for datasetacute_inflammation\n",
      "2018-02-23 17:00:13,091 [MainThread  ] [WARNI]  Did not find trained estimator BernoulliNaiveBayes for datasetacute_inflammation\n",
      "2018-02-23 17:00:13,091 [MainThread  ] [WARNI]  Did not find trained estimator BernoulliNaiveBayes for datasetacute_inflammation\n"
     ]
    },
    {
     "name": "stdout",
     "output_type": "stream",
     "text": [
      "BaggingClassifier\n",
      "GradientBoostingClassifier\n",
      "SVC\n",
      "GaussianNaiveBayes\n",
      "BernoulliNaiveBayes\n"
     ]
    },
    {
     "name": "stderr",
     "output_type": "stream",
     "text": [
      "2018-02-23 17:00:14,501 [MainThread  ] [WARNI]  Did not find trained estimator NeuralNetworkDeepClassifier for datasetacute_inflammation\n",
      "2018-02-23 17:00:14,501 [MainThread  ] [WARNI]  Did not find trained estimator NeuralNetworkDeepClassifier for datasetacute_inflammation\n",
      "2018-02-23 17:00:14,501 [MainThread  ] [WARNI]  Did not find trained estimator NeuralNetworkDeepClassifier for datasetacute_inflammation\n",
      "2018-02-23 17:00:14,530 [MainThread  ] [WARNI]  Did not find trained estimator PassiveAggressiveClassifier for datasetacute_inflammation\n",
      "2018-02-23 17:00:14,530 [MainThread  ] [WARNI]  Did not find trained estimator PassiveAggressiveClassifier for datasetacute_inflammation\n",
      "2018-02-23 17:00:14,530 [MainThread  ] [WARNI]  Did not find trained estimator PassiveAggressiveClassifier for datasetacute_inflammation\n",
      "2018-02-23 17:00:14,553 [MainThread  ] [WARNI]  Did not find trained estimator BaselineClassifier for datasetacute_inflammation\n",
      "2018-02-23 17:00:14,553 [MainThread  ] [WARNI]  Did not find trained estimator BaselineClassifier for datasetacute_inflammation\n",
      "2018-02-23 17:00:14,553 [MainThread  ] [WARNI]  Did not find trained estimator BaselineClassifier for datasetacute_inflammation\n",
      "2018-02-23 17:00:14,658 [MainThread  ] [WARNI]  Did not find trained estimator LogisticRegression for datasetacute_nephritis\n",
      "2018-02-23 17:00:14,658 [MainThread  ] [WARNI]  Did not find trained estimator LogisticRegression for datasetacute_nephritis\n",
      "2018-02-23 17:00:14,658 [MainThread  ] [WARNI]  Did not find trained estimator LogisticRegression for datasetacute_nephritis\n",
      "2018-02-23 17:00:14,676 [MainThread  ] [WARNI]  Did not find trained estimator RidgeRegression for datasetacute_nephritis\n",
      "2018-02-23 17:00:14,676 [MainThread  ] [WARNI]  Did not find trained estimator RidgeRegression for datasetacute_nephritis\n",
      "2018-02-23 17:00:14,676 [MainThread  ] [WARNI]  Did not find trained estimator RidgeRegression for datasetacute_nephritis\n",
      "2018-02-23 17:00:14,693 [MainThread  ] [WARNI]  Did not find trained estimator Lasso for datasetacute_nephritis\n",
      "2018-02-23 17:00:14,693 [MainThread  ] [WARNI]  Did not find trained estimator Lasso for datasetacute_nephritis\n",
      "2018-02-23 17:00:14,693 [MainThread  ] [WARNI]  Did not find trained estimator Lasso for datasetacute_nephritis\n"
     ]
    },
    {
     "name": "stdout",
     "output_type": "stream",
     "text": [
      "NeuralNetworkDeepClassifier\n",
      "PassiveAggressiveClassifier\n",
      "BaselineClassifier\n",
      "LogisticRegression\n",
      "RidgeRegression\n",
      "Lasso\n",
      "LassoLars\n"
     ]
    },
    {
     "name": "stderr",
     "output_type": "stream",
     "text": [
      "2018-02-23 17:00:14,710 [MainThread  ] [WARNI]  Did not find trained estimator LassoLars for datasetacute_nephritis\n",
      "2018-02-23 17:00:14,710 [MainThread  ] [WARNI]  Did not find trained estimator LassoLars for datasetacute_nephritis\n",
      "2018-02-23 17:00:14,710 [MainThread  ] [WARNI]  Did not find trained estimator LassoLars for datasetacute_nephritis\n",
      "2018-02-23 17:00:14,729 [MainThread  ] [WARNI]  Did not find trained estimator RandomForestClassifier for datasetacute_nephritis\n",
      "2018-02-23 17:00:14,729 [MainThread  ] [WARNI]  Did not find trained estimator RandomForestClassifier for datasetacute_nephritis\n",
      "2018-02-23 17:00:14,729 [MainThread  ] [WARNI]  Did not find trained estimator RandomForestClassifier for datasetacute_nephritis\n",
      "2018-02-23 17:00:14,757 [MainThread  ] [WARNI]  Did not find trained estimator BaggingClassifier for datasetacute_nephritis\n",
      "2018-02-23 17:00:14,757 [MainThread  ] [WARNI]  Did not find trained estimator BaggingClassifier for datasetacute_nephritis\n",
      "2018-02-23 17:00:14,757 [MainThread  ] [WARNI]  Did not find trained estimator BaggingClassifier for datasetacute_nephritis\n",
      "2018-02-23 17:00:14,774 [MainThread  ] [WARNI]  Did not find trained estimator GradientBoostingClassifier for datasetacute_nephritis\n",
      "2018-02-23 17:00:14,774 [MainThread  ] [WARNI]  Did not find trained estimator GradientBoostingClassifier for datasetacute_nephritis\n",
      "2018-02-23 17:00:14,774 [MainThread  ] [WARNI]  Did not find trained estimator GradientBoostingClassifier for datasetacute_nephritis\n",
      "2018-02-23 17:00:14,789 [MainThread  ] [WARNI]  Did not find trained estimator SVC for datasetacute_nephritis\n",
      "2018-02-23 17:00:14,789 [MainThread  ] [WARNI]  Did not find trained estimator SVC for datasetacute_nephritis\n",
      "2018-02-23 17:00:14,789 [MainThread  ] [WARNI]  Did not find trained estimator SVC for datasetacute_nephritis\n",
      "2018-02-23 17:00:14,812 [MainThread  ] [WARNI]  Did not find trained estimator GaussianNaiveBayes for datasetacute_nephritis\n",
      "2018-02-23 17:00:14,812 [MainThread  ] [WARNI]  Did not find trained estimator GaussianNaiveBayes for datasetacute_nephritis\n",
      "2018-02-23 17:00:14,812 [MainThread  ] [WARNI]  Did not find trained estimator GaussianNaiveBayes for datasetacute_nephritis\n",
      "2018-02-23 17:00:14,834 [MainThread  ] [WARNI]  Did not find trained estimator BernoulliNaiveBayes for datasetacute_nephritis\n",
      "2018-02-23 17:00:14,834 [MainThread  ] [WARNI]  Did not find trained estimator BernoulliNaiveBayes for datasetacute_nephritis\n",
      "2018-02-23 17:00:14,834 [MainThread  ] [WARNI]  Did not find trained estimator BernoulliNaiveBayes for datasetacute_nephritis\n"
     ]
    },
    {
     "name": "stdout",
     "output_type": "stream",
     "text": [
      "RandomForestClassifier\n",
      "BaggingClassifier\n",
      "GradientBoostingClassifier\n",
      "SVC\n",
      "GaussianNaiveBayes\n",
      "BernoulliNaiveBayes\n",
      "NeuralNetworkDeepClassifier\n"
     ]
    },
    {
     "name": "stderr",
     "output_type": "stream",
     "text": [
      "2018-02-23 17:00:16,288 [MainThread  ] [WARNI]  Did not find trained estimator NeuralNetworkDeepClassifier for datasetacute_nephritis\n",
      "2018-02-23 17:00:16,288 [MainThread  ] [WARNI]  Did not find trained estimator NeuralNetworkDeepClassifier for datasetacute_nephritis\n",
      "2018-02-23 17:00:16,288 [MainThread  ] [WARNI]  Did not find trained estimator NeuralNetworkDeepClassifier for datasetacute_nephritis\n",
      "2018-02-23 17:00:16,308 [MainThread  ] [WARNI]  Did not find trained estimator PassiveAggressiveClassifier for datasetacute_nephritis\n",
      "2018-02-23 17:00:16,308 [MainThread  ] [WARNI]  Did not find trained estimator PassiveAggressiveClassifier for datasetacute_nephritis\n",
      "2018-02-23 17:00:16,308 [MainThread  ] [WARNI]  Did not find trained estimator PassiveAggressiveClassifier for datasetacute_nephritis\n",
      "2018-02-23 17:00:16,330 [MainThread  ] [WARNI]  Did not find trained estimator BaselineClassifier for datasetacute_nephritis\n",
      "2018-02-23 17:00:16,330 [MainThread  ] [WARNI]  Did not find trained estimator BaselineClassifier for datasetacute_nephritis\n",
      "2018-02-23 17:00:16,330 [MainThread  ] [WARNI]  Did not find trained estimator BaselineClassifier for datasetacute_nephritis\n"
     ]
    },
    {
     "name": "stdout",
     "output_type": "stream",
     "text": [
      "PassiveAggressiveClassifier\n",
      "BaselineClassifier\n"
     ]
    },
    {
     "name": "stderr",
     "output_type": "stream",
     "text": [
      "2018-02-23 17:00:16,568 [MainThread  ] [WARNI]  Did not find trained estimator LogisticRegression for datasetadult\n",
      "2018-02-23 17:00:16,568 [MainThread  ] [WARNI]  Did not find trained estimator LogisticRegression for datasetadult\n",
      "2018-02-23 17:00:16,568 [MainThread  ] [WARNI]  Did not find trained estimator LogisticRegression for datasetadult\n",
      "2018-02-23 17:00:16,609 [MainThread  ] [WARNI]  Did not find trained estimator RidgeRegression for datasetadult\n",
      "2018-02-23 17:00:16,609 [MainThread  ] [WARNI]  Did not find trained estimator RidgeRegression for datasetadult\n",
      "2018-02-23 17:00:16,609 [MainThread  ] [WARNI]  Did not find trained estimator RidgeRegression for datasetadult\n",
      "2018-02-23 17:00:16,632 [MainThread  ] [WARNI]  Did not find trained estimator Lasso for datasetadult\n",
      "2018-02-23 17:00:16,632 [MainThread  ] [WARNI]  Did not find trained estimator Lasso for datasetadult\n",
      "2018-02-23 17:00:16,632 [MainThread  ] [WARNI]  Did not find trained estimator Lasso for datasetadult\n",
      "2018-02-23 17:00:16,664 [MainThread  ] [WARNI]  Did not find trained estimator LassoLars for datasetadult\n",
      "2018-02-23 17:00:16,664 [MainThread  ] [WARNI]  Did not find trained estimator LassoLars for datasetadult\n",
      "2018-02-23 17:00:16,664 [MainThread  ] [WARNI]  Did not find trained estimator LassoLars for datasetadult\n"
     ]
    },
    {
     "name": "stdout",
     "output_type": "stream",
     "text": [
      "LogisticRegression\n",
      "RidgeRegression\n",
      "Lasso\n",
      "LassoLars\n",
      "RandomForestClassifier\n"
     ]
    },
    {
     "name": "stderr",
     "output_type": "stream",
     "text": [
      "2018-02-23 17:00:16,894 [MainThread  ] [WARNI]  Did not find trained estimator RandomForestClassifier for datasetadult\n",
      "2018-02-23 17:00:16,894 [MainThread  ] [WARNI]  Did not find trained estimator RandomForestClassifier for datasetadult\n",
      "2018-02-23 17:00:16,894 [MainThread  ] [WARNI]  Did not find trained estimator RandomForestClassifier for datasetadult\n"
     ]
    },
    {
     "name": "stdout",
     "output_type": "stream",
     "text": [
      "BaggingClassifier\n"
     ]
    },
    {
     "name": "stderr",
     "output_type": "stream",
     "text": [
      "2018-02-23 17:00:28,398 [MainThread  ] [WARNI]  Did not find trained estimator BaggingClassifier for datasetadult\n",
      "2018-02-23 17:00:28,398 [MainThread  ] [WARNI]  Did not find trained estimator BaggingClassifier for datasetadult\n",
      "2018-02-23 17:00:28,398 [MainThread  ] [WARNI]  Did not find trained estimator BaggingClassifier for datasetadult\n"
     ]
    },
    {
     "name": "stdout",
     "output_type": "stream",
     "text": [
      "GradientBoostingClassifier\n"
     ]
    },
    {
     "name": "stderr",
     "output_type": "stream",
     "text": [
      "2018-02-23 17:00:28,621 [MainThread  ] [WARNI]  Did not find trained estimator GradientBoostingClassifier for datasetadult\n",
      "2018-02-23 17:00:28,621 [MainThread  ] [WARNI]  Did not find trained estimator GradientBoostingClassifier for datasetadult\n",
      "2018-02-23 17:00:28,621 [MainThread  ] [WARNI]  Did not find trained estimator GradientBoostingClassifier for datasetadult\n",
      "2018-02-23 17:00:28,660 [MainThread  ] [WARNI]  Did not find trained estimator SVC for datasetadult\n",
      "2018-02-23 17:00:28,660 [MainThread  ] [WARNI]  Did not find trained estimator SVC for datasetadult\n",
      "2018-02-23 17:00:28,660 [MainThread  ] [WARNI]  Did not find trained estimator SVC for datasetadult\n",
      "2018-02-23 17:00:28,668 [MainThread  ] [WARNI]  Did not find trained estimator GaussianNaiveBayes for datasetadult\n",
      "2018-02-23 17:00:28,668 [MainThread  ] [WARNI]  Did not find trained estimator GaussianNaiveBayes for datasetadult\n",
      "2018-02-23 17:00:28,668 [MainThread  ] [WARNI]  Did not find trained estimator GaussianNaiveBayes for datasetadult\n",
      "2018-02-23 17:00:28,678 [MainThread  ] [WARNI]  Did not find trained estimator BernoulliNaiveBayes for datasetadult\n",
      "2018-02-23 17:00:28,678 [MainThread  ] [WARNI]  Did not find trained estimator BernoulliNaiveBayes for datasetadult\n",
      "2018-02-23 17:00:28,678 [MainThread  ] [WARNI]  Did not find trained estimator BernoulliNaiveBayes for datasetadult\n"
     ]
    },
    {
     "name": "stdout",
     "output_type": "stream",
     "text": [
      "SVC\n",
      "GaussianNaiveBayes\n",
      "BernoulliNaiveBayes\n",
      "NeuralNetworkDeepClassifier\n"
     ]
    },
    {
     "name": "stderr",
     "output_type": "stream",
     "text": [
      "2018-02-23 17:00:30,068 [MainThread  ] [WARNI]  Did not find trained estimator NeuralNetworkDeepClassifier for datasetadult\n",
      "2018-02-23 17:00:30,068 [MainThread  ] [WARNI]  Did not find trained estimator NeuralNetworkDeepClassifier for datasetadult\n",
      "2018-02-23 17:00:30,068 [MainThread  ] [WARNI]  Did not find trained estimator NeuralNetworkDeepClassifier for datasetadult\n",
      "2018-02-23 17:00:30,116 [MainThread  ] [WARNI]  Did not find trained estimator PassiveAggressiveClassifier for datasetadult\n",
      "2018-02-23 17:00:30,116 [MainThread  ] [WARNI]  Did not find trained estimator PassiveAggressiveClassifier for datasetadult\n",
      "2018-02-23 17:00:30,116 [MainThread  ] [WARNI]  Did not find trained estimator PassiveAggressiveClassifier for datasetadult\n",
      "2018-02-23 17:00:30,152 [MainThread  ] [WARNI]  Did not find trained estimator BaselineClassifier for datasetadult\n",
      "2018-02-23 17:00:30,152 [MainThread  ] [WARNI]  Did not find trained estimator BaselineClassifier for datasetadult\n",
      "2018-02-23 17:00:30,152 [MainThread  ] [WARNI]  Did not find trained estimator BaselineClassifier for datasetadult\n"
     ]
    },
    {
     "name": "stdout",
     "output_type": "stream",
     "text": [
      "PassiveAggressiveClassifier\n",
      "BaselineClassifier\n"
     ]
    },
    {
     "name": "stderr",
     "output_type": "stream",
     "text": [
      "2018-02-23 17:00:30,456 [MainThread  ] [WARNI]  Did not find trained estimator LogisticRegression for datasetannealing\n",
      "2018-02-23 17:00:30,456 [MainThread  ] [WARNI]  Did not find trained estimator LogisticRegression for datasetannealing\n",
      "2018-02-23 17:00:30,456 [MainThread  ] [WARNI]  Did not find trained estimator LogisticRegression for datasetannealing\n",
      "2018-02-23 17:00:30,478 [MainThread  ] [WARNI]  Did not find trained estimator RidgeRegression for datasetannealing\n",
      "2018-02-23 17:00:30,478 [MainThread  ] [WARNI]  Did not find trained estimator RidgeRegression for datasetannealing\n",
      "2018-02-23 17:00:30,478 [MainThread  ] [WARNI]  Did not find trained estimator RidgeRegression for datasetannealing\n",
      "2018-02-23 17:00:30,500 [MainThread  ] [WARNI]  Did not find trained estimator Lasso for datasetannealing\n",
      "2018-02-23 17:00:30,500 [MainThread  ] [WARNI]  Did not find trained estimator Lasso for datasetannealing\n",
      "2018-02-23 17:00:30,500 [MainThread  ] [WARNI]  Did not find trained estimator Lasso for datasetannealing\n",
      "2018-02-23 17:00:30,533 [MainThread  ] [WARNI]  Did not find trained estimator LassoLars for datasetannealing\n",
      "2018-02-23 17:00:30,533 [MainThread  ] [WARNI]  Did not find trained estimator LassoLars for datasetannealing\n",
      "2018-02-23 17:00:30,533 [MainThread  ] [WARNI]  Did not find trained estimator LassoLars for datasetannealing\n",
      "2018-02-23 17:00:30,577 [MainThread  ] [WARNI]  Did not find trained estimator RandomForestClassifier for datasetannealing\n",
      "2018-02-23 17:00:30,577 [MainThread  ] [WARNI]  Did not find trained estimator RandomForestClassifier for datasetannealing\n",
      "2018-02-23 17:00:30,577 [MainThread  ] [WARNI]  Did not find trained estimator RandomForestClassifier for datasetannealing\n"
     ]
    },
    {
     "name": "stdout",
     "output_type": "stream",
     "text": [
      "LogisticRegression\n",
      "RidgeRegression\n",
      "Lasso\n",
      "LassoLars\n",
      "RandomForestClassifier\n",
      "BaggingClassifier\n"
     ]
    },
    {
     "name": "stderr",
     "output_type": "stream",
     "text": [
      "2018-02-23 17:00:31,100 [MainThread  ] [WARNI]  Did not find trained estimator BaggingClassifier for datasetannealing\n",
      "2018-02-23 17:00:31,100 [MainThread  ] [WARNI]  Did not find trained estimator BaggingClassifier for datasetannealing\n",
      "2018-02-23 17:00:31,100 [MainThread  ] [WARNI]  Did not find trained estimator BaggingClassifier for datasetannealing\n"
     ]
    },
    {
     "name": "stdout",
     "output_type": "stream",
     "text": [
      "GradientBoostingClassifier\n"
     ]
    },
    {
     "name": "stderr",
     "output_type": "stream",
     "text": [
      "2018-02-23 17:00:31,628 [MainThread  ] [WARNI]  Did not find trained estimator GradientBoostingClassifier for datasetannealing\n",
      "2018-02-23 17:00:31,628 [MainThread  ] [WARNI]  Did not find trained estimator GradientBoostingClassifier for datasetannealing\n",
      "2018-02-23 17:00:31,628 [MainThread  ] [WARNI]  Did not find trained estimator GradientBoostingClassifier for datasetannealing\n",
      "2018-02-23 17:00:31,650 [MainThread  ] [WARNI]  Did not find trained estimator SVC for datasetannealing\n",
      "2018-02-23 17:00:31,650 [MainThread  ] [WARNI]  Did not find trained estimator SVC for datasetannealing\n",
      "2018-02-23 17:00:31,650 [MainThread  ] [WARNI]  Did not find trained estimator SVC for datasetannealing\n",
      "2018-02-23 17:00:31,662 [MainThread  ] [WARNI]  Did not find trained estimator GaussianNaiveBayes for datasetannealing\n",
      "2018-02-23 17:00:31,662 [MainThread  ] [WARNI]  Did not find trained estimator GaussianNaiveBayes for datasetannealing\n",
      "2018-02-23 17:00:31,662 [MainThread  ] [WARNI]  Did not find trained estimator GaussianNaiveBayes for datasetannealing\n",
      "2018-02-23 17:00:31,673 [MainThread  ] [WARNI]  Did not find trained estimator BernoulliNaiveBayes for datasetannealing\n",
      "2018-02-23 17:00:31,673 [MainThread  ] [WARNI]  Did not find trained estimator BernoulliNaiveBayes for datasetannealing\n",
      "2018-02-23 17:00:31,673 [MainThread  ] [WARNI]  Did not find trained estimator BernoulliNaiveBayes for datasetannealing\n"
     ]
    },
    {
     "name": "stdout",
     "output_type": "stream",
     "text": [
      "SVC\n",
      "GaussianNaiveBayes\n",
      "BernoulliNaiveBayes\n",
      "NeuralNetworkDeepClassifier\n"
     ]
    },
    {
     "name": "stderr",
     "output_type": "stream",
     "text": [
      "2018-02-23 17:00:33,141 [MainThread  ] [WARNI]  Did not find trained estimator NeuralNetworkDeepClassifier for datasetannealing\n",
      "2018-02-23 17:00:33,141 [MainThread  ] [WARNI]  Did not find trained estimator NeuralNetworkDeepClassifier for datasetannealing\n",
      "2018-02-23 17:00:33,141 [MainThread  ] [WARNI]  Did not find trained estimator NeuralNetworkDeepClassifier for datasetannealing\n",
      "2018-02-23 17:00:33,168 [MainThread  ] [WARNI]  Did not find trained estimator PassiveAggressiveClassifier for datasetannealing\n",
      "2018-02-23 17:00:33,168 [MainThread  ] [WARNI]  Did not find trained estimator PassiveAggressiveClassifier for datasetannealing\n",
      "2018-02-23 17:00:33,168 [MainThread  ] [WARNI]  Did not find trained estimator PassiveAggressiveClassifier for datasetannealing\n",
      "2018-02-23 17:00:33,192 [MainThread  ] [WARNI]  Did not find trained estimator BaselineClassifier for datasetannealing\n",
      "2018-02-23 17:00:33,192 [MainThread  ] [WARNI]  Did not find trained estimator BaselineClassifier for datasetannealing\n",
      "2018-02-23 17:00:33,192 [MainThread  ] [WARNI]  Did not find trained estimator BaselineClassifier for datasetannealing\n"
     ]
    },
    {
     "name": "stdout",
     "output_type": "stream",
     "text": [
      "PassiveAggressiveClassifier\n",
      "BaselineClassifier\n"
     ]
    },
    {
     "name": "stderr",
     "output_type": "stream",
     "text": [
      "2018-02-23 17:00:33,416 [MainThread  ] [WARNI]  Did not find trained estimator LogisticRegression for datasetarrhythmia\n",
      "2018-02-23 17:00:33,416 [MainThread  ] [WARNI]  Did not find trained estimator LogisticRegression for datasetarrhythmia\n",
      "2018-02-23 17:00:33,416 [MainThread  ] [WARNI]  Did not find trained estimator LogisticRegression for datasetarrhythmia\n",
      "2018-02-23 17:00:33,441 [MainThread  ] [WARNI]  Did not find trained estimator RidgeRegression for datasetarrhythmia\n",
      "2018-02-23 17:00:33,441 [MainThread  ] [WARNI]  Did not find trained estimator RidgeRegression for datasetarrhythmia\n",
      "2018-02-23 17:00:33,441 [MainThread  ] [WARNI]  Did not find trained estimator RidgeRegression for datasetarrhythmia\n",
      "2018-02-23 17:00:33,464 [MainThread  ] [WARNI]  Did not find trained estimator Lasso for datasetarrhythmia\n",
      "2018-02-23 17:00:33,464 [MainThread  ] [WARNI]  Did not find trained estimator Lasso for datasetarrhythmia\n",
      "2018-02-23 17:00:33,464 [MainThread  ] [WARNI]  Did not find trained estimator Lasso for datasetarrhythmia\n",
      "2018-02-23 17:00:33,495 [MainThread  ] [WARNI]  Did not find trained estimator LassoLars for datasetarrhythmia\n",
      "2018-02-23 17:00:33,495 [MainThread  ] [WARNI]  Did not find trained estimator LassoLars for datasetarrhythmia\n",
      "2018-02-23 17:00:33,495 [MainThread  ] [WARNI]  Did not find trained estimator LassoLars for datasetarrhythmia\n",
      "2018-02-23 17:00:33,532 [MainThread  ] [WARNI]  Did not find trained estimator RandomForestClassifier for datasetarrhythmia\n",
      "2018-02-23 17:00:33,532 [MainThread  ] [WARNI]  Did not find trained estimator RandomForestClassifier for datasetarrhythmia\n",
      "2018-02-23 17:00:33,532 [MainThread  ] [WARNI]  Did not find trained estimator RandomForestClassifier for datasetarrhythmia\n"
     ]
    },
    {
     "name": "stdout",
     "output_type": "stream",
     "text": [
      "LogisticRegression\n",
      "RidgeRegression\n",
      "Lasso\n",
      "LassoLars\n",
      "RandomForestClassifier\n",
      "BaggingClassifier\n"
     ]
    },
    {
     "name": "stderr",
     "output_type": "stream",
     "text": [
      "2018-02-23 17:00:34,267 [MainThread  ] [WARNI]  Did not find trained estimator BaggingClassifier for datasetarrhythmia\n",
      "2018-02-23 17:00:34,267 [MainThread  ] [WARNI]  Did not find trained estimator BaggingClassifier for datasetarrhythmia\n",
      "2018-02-23 17:00:34,267 [MainThread  ] [WARNI]  Did not find trained estimator BaggingClassifier for datasetarrhythmia\n"
     ]
    },
    {
     "name": "stdout",
     "output_type": "stream",
     "text": [
      "GradientBoostingClassifier\n"
     ]
    },
    {
     "name": "stderr",
     "output_type": "stream",
     "text": [
      "2018-02-23 17:00:34,981 [MainThread  ] [WARNI]  Did not find trained estimator GradientBoostingClassifier for datasetarrhythmia\n",
      "2018-02-23 17:00:34,981 [MainThread  ] [WARNI]  Did not find trained estimator GradientBoostingClassifier for datasetarrhythmia\n",
      "2018-02-23 17:00:34,981 [MainThread  ] [WARNI]  Did not find trained estimator GradientBoostingClassifier for datasetarrhythmia\n",
      "2018-02-23 17:00:35,003 [MainThread  ] [WARNI]  Did not find trained estimator SVC for datasetarrhythmia\n",
      "2018-02-23 17:00:35,003 [MainThread  ] [WARNI]  Did not find trained estimator SVC for datasetarrhythmia\n",
      "2018-02-23 17:00:35,003 [MainThread  ] [WARNI]  Did not find trained estimator SVC for datasetarrhythmia\n",
      "2018-02-23 17:00:35,017 [MainThread  ] [WARNI]  Did not find trained estimator GaussianNaiveBayes for datasetarrhythmia\n",
      "2018-02-23 17:00:35,017 [MainThread  ] [WARNI]  Did not find trained estimator GaussianNaiveBayes for datasetarrhythmia\n",
      "2018-02-23 17:00:35,017 [MainThread  ] [WARNI]  Did not find trained estimator GaussianNaiveBayes for datasetarrhythmia\n",
      "2018-02-23 17:00:35,044 [MainThread  ] [WARNI]  Did not find trained estimator BernoulliNaiveBayes for datasetarrhythmia\n",
      "2018-02-23 17:00:35,044 [MainThread  ] [WARNI]  Did not find trained estimator BernoulliNaiveBayes for datasetarrhythmia\n",
      "2018-02-23 17:00:35,044 [MainThread  ] [WARNI]  Did not find trained estimator BernoulliNaiveBayes for datasetarrhythmia\n"
     ]
    },
    {
     "name": "stdout",
     "output_type": "stream",
     "text": [
      "SVC\n",
      "GaussianNaiveBayes\n",
      "BernoulliNaiveBayes\n",
      "NeuralNetworkDeepClassifier\n"
     ]
    },
    {
     "name": "stderr",
     "output_type": "stream",
     "text": [
      "2018-02-23 17:00:36,617 [MainThread  ] [WARNI]  Did not find trained estimator NeuralNetworkDeepClassifier for datasetarrhythmia\n",
      "2018-02-23 17:00:36,617 [MainThread  ] [WARNI]  Did not find trained estimator NeuralNetworkDeepClassifier for datasetarrhythmia\n",
      "2018-02-23 17:00:36,617 [MainThread  ] [WARNI]  Did not find trained estimator NeuralNetworkDeepClassifier for datasetarrhythmia\n",
      "2018-02-23 17:00:36,634 [MainThread  ] [WARNI]  Did not find trained estimator PassiveAggressiveClassifier for datasetarrhythmia\n",
      "2018-02-23 17:00:36,634 [MainThread  ] [WARNI]  Did not find trained estimator PassiveAggressiveClassifier for datasetarrhythmia\n",
      "2018-02-23 17:00:36,634 [MainThread  ] [WARNI]  Did not find trained estimator PassiveAggressiveClassifier for datasetarrhythmia\n",
      "2018-02-23 17:00:36,657 [MainThread  ] [WARNI]  Did not find trained estimator BaselineClassifier for datasetarrhythmia\n",
      "2018-02-23 17:00:36,657 [MainThread  ] [WARNI]  Did not find trained estimator BaselineClassifier for datasetarrhythmia\n",
      "2018-02-23 17:00:36,657 [MainThread  ] [WARNI]  Did not find trained estimator BaselineClassifier for datasetarrhythmia\n",
      "2018-02-23 17:00:36,748 [MainThread  ] [WARNI]  Did not find trained estimator LogisticRegression for datasetaudiology_std\n",
      "2018-02-23 17:00:36,748 [MainThread  ] [WARNI]  Did not find trained estimator LogisticRegression for datasetaudiology_std\n",
      "2018-02-23 17:00:36,748 [MainThread  ] [WARNI]  Did not find trained estimator LogisticRegression for datasetaudiology_std\n",
      "2018-02-23 17:00:36,772 [MainThread  ] [WARNI]  Did not find trained estimator RidgeRegression for datasetaudiology_std\n",
      "2018-02-23 17:00:36,772 [MainThread  ] [WARNI]  Did not find trained estimator RidgeRegression for datasetaudiology_std\n",
      "2018-02-23 17:00:36,772 [MainThread  ] [WARNI]  Did not find trained estimator RidgeRegression for datasetaudiology_std\n",
      "2018-02-23 17:00:36,800 [MainThread  ] [WARNI]  Did not find trained estimator Lasso for datasetaudiology_std\n",
      "2018-02-23 17:00:36,800 [MainThread  ] [WARNI]  Did not find trained estimator Lasso for datasetaudiology_std\n",
      "2018-02-23 17:00:36,800 [MainThread  ] [WARNI]  Did not find trained estimator Lasso for datasetaudiology_std\n"
     ]
    },
    {
     "name": "stdout",
     "output_type": "stream",
     "text": [
      "PassiveAggressiveClassifier\n",
      "BaselineClassifier\n",
      "LogisticRegression\n",
      "RidgeRegression\n",
      "Lasso\n",
      "LassoLars\n"
     ]
    },
    {
     "name": "stderr",
     "output_type": "stream",
     "text": [
      "2018-02-23 17:00:36,834 [MainThread  ] [WARNI]  Did not find trained estimator LassoLars for datasetaudiology_std\n",
      "2018-02-23 17:00:36,834 [MainThread  ] [WARNI]  Did not find trained estimator LassoLars for datasetaudiology_std\n",
      "2018-02-23 17:00:36,834 [MainThread  ] [WARNI]  Did not find trained estimator LassoLars for datasetaudiology_std\n",
      "2018-02-23 17:00:36,860 [MainThread  ] [WARNI]  Did not find trained estimator RandomForestClassifier for datasetaudiology_std\n",
      "2018-02-23 17:00:36,860 [MainThread  ] [WARNI]  Did not find trained estimator RandomForestClassifier for datasetaudiology_std\n",
      "2018-02-23 17:00:36,860 [MainThread  ] [WARNI]  Did not find trained estimator RandomForestClassifier for datasetaudiology_std\n",
      "2018-02-23 17:00:36,901 [MainThread  ] [WARNI]  Did not find trained estimator BaggingClassifier for datasetaudiology_std\n",
      "2018-02-23 17:00:36,901 [MainThread  ] [WARNI]  Did not find trained estimator BaggingClassifier for datasetaudiology_std\n",
      "2018-02-23 17:00:36,901 [MainThread  ] [WARNI]  Did not find trained estimator BaggingClassifier for datasetaudiology_std\n",
      "2018-02-23 17:00:37,005 [MainThread  ] [WARNI]  Did not find trained estimator GradientBoostingClassifier for datasetaudiology_std\n",
      "2018-02-23 17:00:37,005 [MainThread  ] [WARNI]  Did not find trained estimator GradientBoostingClassifier for datasetaudiology_std\n",
      "2018-02-23 17:00:37,005 [MainThread  ] [WARNI]  Did not find trained estimator GradientBoostingClassifier for datasetaudiology_std\n",
      "2018-02-23 17:00:37,044 [MainThread  ] [WARNI]  Did not find trained estimator SVC for datasetaudiology_std"
     ]
    },
    {
     "name": "stdout",
     "output_type": "stream",
     "text": [
      "RandomForestClassifier\n",
      "BaggingClassifier\n",
      "GradientBoostingClassifier\n",
      "SVC\n"
     ]
    },
    {
     "name": "stderr",
     "output_type": "stream",
     "text": [
      "\n",
      "2018-02-23 17:00:37,044 [MainThread  ] [WARNI]  Did not find trained estimator SVC for datasetaudiology_std\n",
      "2018-02-23 17:00:37,044 [MainThread  ] [WARNI]  Did not find trained estimator SVC for datasetaudiology_std\n",
      "2018-02-23 17:00:37,084 [MainThread  ] [WARNI]  Did not find trained estimator GaussianNaiveBayes for datasetaudiology_std\n",
      "2018-02-23 17:00:37,084 [MainThread  ] [WARNI]  Did not find trained estimator GaussianNaiveBayes for datasetaudiology_std\n",
      "2018-02-23 17:00:37,084 [MainThread  ] [WARNI]  Did not find trained estimator GaussianNaiveBayes for datasetaudiology_std\n",
      "2018-02-23 17:00:37,118 [MainThread  ] [WARNI]  Did not find trained estimator BernoulliNaiveBayes for datasetaudiology_std\n",
      "2018-02-23 17:00:37,118 [MainThread  ] [WARNI]  Did not find trained estimator BernoulliNaiveBayes for datasetaudiology_std\n",
      "2018-02-23 17:00:37,118 [MainThread  ] [WARNI]  Did not find trained estimator BernoulliNaiveBayes for datasetaudiology_std\n"
     ]
    },
    {
     "name": "stdout",
     "output_type": "stream",
     "text": [
      "GaussianNaiveBayes\n",
      "BernoulliNaiveBayes\n",
      "NeuralNetworkDeepClassifier\n"
     ]
    },
    {
     "name": "stderr",
     "output_type": "stream",
     "text": [
      "2018-02-23 17:00:39,115 [MainThread  ] [WARNI]  Did not find trained estimator NeuralNetworkDeepClassifier for datasetaudiology_std\n",
      "2018-02-23 17:00:39,115 [MainThread  ] [WARNI]  Did not find trained estimator NeuralNetworkDeepClassifier for datasetaudiology_std\n",
      "2018-02-23 17:00:39,115 [MainThread  ] [WARNI]  Did not find trained estimator NeuralNetworkDeepClassifier for datasetaudiology_std\n",
      "2018-02-23 17:00:39,154 [MainThread  ] [WARNI]  Did not find trained estimator PassiveAggressiveClassifier for datasetaudiology_std\n",
      "2018-02-23 17:00:39,154 [MainThread  ] [WARNI]  Did not find trained estimator PassiveAggressiveClassifier for datasetaudiology_std\n",
      "2018-02-23 17:00:39,154 [MainThread  ] [WARNI]  Did not find trained estimator PassiveAggressiveClassifier for datasetaudiology_std\n",
      "2018-02-23 17:00:39,185 [MainThread  ] [WARNI]  Did not find trained estimator BaselineClassifier for datasetaudiology_std\n",
      "2018-02-23 17:00:39,185 [MainThread  ] [WARNI]  Did not find trained estimator BaselineClassifier for datasetaudiology_std\n",
      "2018-02-23 17:00:39,185 [MainThread  ] [WARNI]  Did not find trained estimator BaselineClassifier for datasetaudiology_std\n",
      "2018-02-23 17:00:39,280 [MainThread  ] [WARNI]  Did not find trained estimator LogisticRegression for datasetbalance_scale\n",
      "2018-02-23 17:00:39,280 [MainThread  ] [WARNI]  Did not find trained estimator LogisticRegression for datasetbalance_scale\n",
      "2018-02-23 17:00:39,280 [MainThread  ] [WARNI]  Did not find trained estimator LogisticRegression for datasetbalance_scale\n",
      "2018-02-23 17:00:39,297 [MainThread  ] [WARNI]  Did not find trained estimator RidgeRegression for datasetbalance_scale\n",
      "2018-02-23 17:00:39,297 [MainThread  ] [WARNI]  Did not find trained estimator RidgeRegression for datasetbalance_scale\n",
      "2018-02-23 17:00:39,297 [MainThread  ] [WARNI]  Did not find trained estimator RidgeRegression for datasetbalance_scale\n",
      "2018-02-23 17:00:39,311 [MainThread  ] [WARNI]  Did not find trained estimator Lasso for datasetbalance_scale\n",
      "2018-02-23 17:00:39,311 [MainThread  ] [WARNI]  Did not find trained estimator Lasso for datasetbalance_scale\n",
      "2018-02-23 17:00:39,311 [MainThread  ] [WARNI]  Did not find trained estimator Lasso for datasetbalance_scale\n"
     ]
    },
    {
     "name": "stdout",
     "output_type": "stream",
     "text": [
      "PassiveAggressiveClassifier\n",
      "BaselineClassifier\n",
      "LogisticRegression\n",
      "RidgeRegression\n",
      "Lasso\n",
      "LassoLars\n"
     ]
    },
    {
     "name": "stderr",
     "output_type": "stream",
     "text": [
      "2018-02-23 17:00:39,329 [MainThread  ] [WARNI]  Did not find trained estimator LassoLars for datasetbalance_scale\n",
      "2018-02-23 17:00:39,329 [MainThread  ] [WARNI]  Did not find trained estimator LassoLars for datasetbalance_scale\n",
      "2018-02-23 17:00:39,329 [MainThread  ] [WARNI]  Did not find trained estimator LassoLars for datasetbalance_scale\n",
      "2018-02-23 17:00:39,355 [MainThread  ] [WARNI]  Did not find trained estimator RandomForestClassifier for datasetbalance_scale\n",
      "2018-02-23 17:00:39,355 [MainThread  ] [WARNI]  Did not find trained estimator RandomForestClassifier for datasetbalance_scale\n",
      "2018-02-23 17:00:39,355 [MainThread  ] [WARNI]  Did not find trained estimator RandomForestClassifier for datasetbalance_scale\n"
     ]
    },
    {
     "name": "stdout",
     "output_type": "stream",
     "text": [
      "RandomForestClassifier\n",
      "BaggingClassifier\n"
     ]
    },
    {
     "name": "stderr",
     "output_type": "stream",
     "text": [
      "2018-02-23 17:00:39,907 [MainThread  ] [WARNI]  Did not find trained estimator BaggingClassifier for datasetbalance_scale\n",
      "2018-02-23 17:00:39,907 [MainThread  ] [WARNI]  Did not find trained estimator BaggingClassifier for datasetbalance_scale\n",
      "2018-02-23 17:00:39,907 [MainThread  ] [WARNI]  Did not find trained estimator BaggingClassifier for datasetbalance_scale\n",
      "2018-02-23 17:00:40,005 [MainThread  ] [WARNI]  Did not find trained estimator GradientBoostingClassifier for datasetbalance_scale\n",
      "2018-02-23 17:00:40,005 [MainThread  ] [WARNI]  Did not find trained estimator GradientBoostingClassifier for datasetbalance_scale\n",
      "2018-02-23 17:00:40,005 [MainThread  ] [WARNI]  Did not find trained estimator GradientBoostingClassifier for datasetbalance_scale\n",
      "2018-02-23 17:00:40,037 [MainThread  ] [WARNI]  Did not find trained estimator SVC for datasetbalance_scale\n",
      "2018-02-23 17:00:40,037 [MainThread  ] [WARNI]  Did not find trained estimator SVC for datasetbalance_scale\n",
      "2018-02-23 17:00:40,037 [MainThread  ] [WARNI]  Did not find trained estimator SVC for datasetbalance_scale\n",
      "2018-02-23 17:00:40,060 [MainThread  ] [WARNI]  Did not find trained estimator GaussianNaiveBayes for datasetbalance_scale\n",
      "2018-02-23 17:00:40,060 [MainThread  ] [WARNI]  Did not find trained estimator GaussianNaiveBayes for datasetbalance_scale\n",
      "2018-02-23 17:00:40,060 [MainThread  ] [WARNI]  Did not find trained estimator GaussianNaiveBayes for datasetbalance_scale\n",
      "2018-02-23 17:00:40,086 [MainThread  ] [WARNI]  Did not find trained estimator BernoulliNaiveBayes for datasetbalance_scale\n",
      "2018-02-23 17:00:40,086 [MainThread  ] [WARNI]  Did not find trained estimator BernoulliNaiveBayes for datasetbalance_scale\n",
      "2018-02-23 17:00:40,086 [MainThread  ] [WARNI]  Did not find trained estimator BernoulliNaiveBayes for datasetbalance_scale\n"
     ]
    },
    {
     "name": "stdout",
     "output_type": "stream",
     "text": [
      "GradientBoostingClassifier\n",
      "SVC\n",
      "GaussianNaiveBayes\n",
      "BernoulliNaiveBayes\n",
      "NeuralNetworkDeepClassifier"
     ]
    },
    {
     "name": "stderr",
     "output_type": "stream",
     "text": [
      "2018-02-23 17:00:41,878 [MainThread  ] [WARNI]  Did not find trained estimator NeuralNetworkDeepClassifier for datasetbalance_scale\n",
      "2018-02-23 17:00:41,878 [MainThread  ] [WARNI]  Did not find trained estimator NeuralNetworkDeepClassifier for datasetbalance_scale\n",
      "2018-02-23 17:00:41,878 [MainThread  ] [WARNI]  Did not find trained estimator NeuralNetworkDeepClassifier for datasetbalance_scale\n",
      "2018-02-23 17:00:41,888 [MainThread  ] [WARNI]  Did not find trained estimator PassiveAggressiveClassifier for datasetbalance_scale\n",
      "2018-02-23 17:00:41,888 [MainThread  ] [WARNI]  Did not find trained estimator PassiveAggressiveClassifier for datasetbalance_scale\n",
      "2018-02-23 17:00:41,888 [MainThread  ] [WARNI]  Did not find trained estimator PassiveAggressiveClassifier for datasetbalance_scale\n",
      "2018-02-23 17:00:41,897 [MainThread  ] [WARNI]  Did not find trained estimator BaselineClassifier for datasetbalance_scale\n",
      "2018-02-23 17:00:41,897 [MainThread  ] [WARNI]  Did not find trained estimator BaselineClassifier for datasetbalance_scale\n",
      "2018-02-23 17:00:41,897 [MainThread  ] [WARNI]  Did not find trained estimator BaselineClassifier for datasetbalance_scale\n",
      "2018-02-23 17:00:41,963 [MainThread  ] [WARNI]  Did not find trained estimator LogisticRegression for datasetballoons\n",
      "2018-02-23 17:00:41,963 [MainThread  ] [WARNI]  Did not find trained estimator LogisticRegression for datasetballoons\n",
      "2018-02-23 17:00:41,963 [MainThread  ] [WARNI]  Did not find trained estimator LogisticRegression for datasetballoons\n",
      "2018-02-23 17:00:42,003 [MainThread  ] [WARNI]  Did not find trained estimator RidgeRegression for datasetballoons\n",
      "2018-02-23 17:00:42,003 [MainThread  ] [WARNI]  Did not find trained estimator RidgeRegression for datasetballoons\n",
      "2018-02-23 17:00:42,003 [MainThread  ] [WARNI]  Did not find trained estimator RidgeRegression for datasetballoons\n",
      "2018-02-23 17:00:42,028 [MainThread  ] [WARNI]  Did not find trained estimator Lasso for datasetballoons\n",
      "2018-02-23 17:00:42,028 [MainThread  ] [WARNI]  Did not find trained estimator Lasso for datasetballoons\n",
      "2018-02-23 17:00:42,028 [MainThread  ] [WARNI]  Did not find trained estimator Lasso for datasetballoons\n",
      "2018-02-23 17:00:42,050 [MainThread  ] [WARNI]  Did not find trained estimator LassoLars for datasetballoons\n",
      "2018-02-23 17:00:42,050 [MainThread  ] [WARNI]  Did not find trained estimator LassoLars for datasetballoons\n",
      "2018-02-23 17:00:42,050 [MainThread  ] [WARNI]  Did not find trained estimator LassoLars for datasetballoons\n",
      "2018-02-23 17:00:42,079 [MainThread  ] [WARNI]  Did not find trained estimator RandomForestClassifier for datasetballoons"
     ]
    },
    {
     "name": "stdout",
     "output_type": "stream",
     "text": [
      "\n",
      "PassiveAggressiveClassifier\n",
      "BaselineClassifier\n",
      "LogisticRegression\n",
      "RidgeRegression\n",
      "Lasso\n",
      "LassoLars\n",
      "RandomForestClassifier\n"
     ]
    },
    {
     "name": "stderr",
     "output_type": "stream",
     "text": [
      "\n",
      "2018-02-23 17:00:42,079 [MainThread  ] [WARNI]  Did not find trained estimator RandomForestClassifier for datasetballoons\n",
      "2018-02-23 17:00:42,079 [MainThread  ] [WARNI]  Did not find trained estimator RandomForestClassifier for datasetballoons\n",
      "2018-02-23 17:00:42,120 [MainThread  ] [WARNI]  Did not find trained estimator BaggingClassifier for datasetballoons\n",
      "2018-02-23 17:00:42,120 [MainThread  ] [WARNI]  Did not find trained estimator BaggingClassifier for datasetballoons\n",
      "2018-02-23 17:00:42,120 [MainThread  ] [WARNI]  Did not find trained estimator BaggingClassifier for datasetballoons\n",
      "2018-02-23 17:00:42,155 [MainThread  ] [WARNI]  Did not find trained estimator GradientBoostingClassifier for datasetballoons\n",
      "2018-02-23 17:00:42,155 [MainThread  ] [WARNI]  Did not find trained estimator GradientBoostingClassifier for datasetballoons\n",
      "2018-02-23 17:00:42,155 [MainThread  ] [WARNI]  Did not find trained estimator GradientBoostingClassifier for datasetballoons\n",
      "2018-02-23 17:00:42,180 [MainThread  ] [WARNI]  Did not find trained estimator SVC for datasetballoons\n",
      "2018-02-23 17:00:42,180 [MainThread  ] [WARNI]  Did not find trained estimator SVC for datasetballoons\n",
      "2018-02-23 17:00:42,180 [MainThread  ] [WARNI]  Did not find trained estimator SVC for datasetballoons\n",
      "2018-02-23 17:00:42,198 [MainThread  ] [WARNI]  Did not find trained estimator GaussianNaiveBayes for datasetballoons\n",
      "2018-02-23 17:00:42,198 [MainThread  ] [WARNI]  Did not find trained estimator GaussianNaiveBayes for datasetballoons\n",
      "2018-02-23 17:00:42,198 [MainThread  ] [WARNI]  Did not find trained estimator GaussianNaiveBayes for datasetballoons\n",
      "2018-02-23 17:00:42,221 [MainThread  ] [WARNI]  Did not find trained estimator BernoulliNaiveBayes for datasetballoons\n",
      "2018-02-23 17:00:42,221 [MainThread  ] [WARNI]  Did not find trained estimator BernoulliNaiveBayes for datasetballoons\n",
      "2018-02-23 17:00:42,221 [MainThread  ] [WARNI]  Did not find trained estimator BernoulliNaiveBayes for datasetballoons\n"
     ]
    },
    {
     "name": "stdout",
     "output_type": "stream",
     "text": [
      "BaggingClassifier\n",
      "GradientBoostingClassifier\n",
      "SVC\n",
      "GaussianNaiveBayes\n",
      "BernoulliNaiveBayes\n",
      "NeuralNetworkDeepClassifier\n"
     ]
    },
    {
     "name": "stderr",
     "output_type": "stream",
     "text": [
      "2018-02-23 17:00:44,341 [MainThread  ] [WARNI]  Did not find trained estimator NeuralNetworkDeepClassifier for datasetballoons\n",
      "2018-02-23 17:00:44,341 [MainThread  ] [WARNI]  Did not find trained estimator NeuralNetworkDeepClassifier for datasetballoons\n",
      "2018-02-23 17:00:44,341 [MainThread  ] [WARNI]  Did not find trained estimator NeuralNetworkDeepClassifier for datasetballoons\n",
      "2018-02-23 17:00:44,365 [MainThread  ] [WARNI]  Did not find trained estimator PassiveAggressiveClassifier for datasetballoons\n",
      "2018-02-23 17:00:44,365 [MainThread  ] [WARNI]  Did not find trained estimator PassiveAggressiveClassifier for datasetballoons\n",
      "2018-02-23 17:00:44,365 [MainThread  ] [WARNI]  Did not find trained estimator PassiveAggressiveClassifier for datasetballoons\n",
      "2018-02-23 17:00:44,387 [MainThread  ] [WARNI]  Did not find trained estimator BaselineClassifier for datasetballoons\n",
      "2018-02-23 17:00:44,387 [MainThread  ] [WARNI]  Did not find trained estimator BaselineClassifier for datasetballoons\n",
      "2018-02-23 17:00:44,387 [MainThread  ] [WARNI]  Did not find trained estimator BaselineClassifier for datasetballoons\n",
      "2018-02-23 17:00:44,515 [MainThread  ] [WARNI]  Did not find trained estimator LogisticRegression for datasetbank\n",
      "2018-02-23 17:00:44,515 [MainThread  ] [WARNI]  Did not find trained estimator LogisticRegression for datasetbank\n",
      "2018-02-23 17:00:44,515 [MainThread  ] [WARNI]  Did not find trained estimator LogisticRegression for datasetbank\n",
      "2018-02-23 17:00:44,530 [MainThread  ] [WARNI]  Did not find trained estimator RidgeRegression for datasetbank\n",
      "2018-02-23 17:00:44,530 [MainThread  ] [WARNI]  Did not find trained estimator RidgeRegression for datasetbank\n",
      "2018-02-23 17:00:44,530 [MainThread  ] [WARNI]  Did not find trained estimator RidgeRegression for datasetbank\n",
      "2018-02-23 17:00:44,546 [MainThread  ] [WARNI]  Did not find trained estimator Lasso for datasetbank\n"
     ]
    },
    {
     "name": "stdout",
     "output_type": "stream",
     "text": [
      "PassiveAggressiveClassifier\n",
      "BaselineClassifier\n",
      "LogisticRegression\n",
      "RidgeRegression\n",
      "Lasso\n"
     ]
    },
    {
     "name": "stderr",
     "output_type": "stream",
     "text": [
      "2018-02-23 17:00:44,546 [MainThread  ] [WARNI]  Did not find trained estimator Lasso for datasetbank\n",
      "2018-02-23 17:00:44,546 [MainThread  ] [WARNI]  Did not find trained estimator Lasso for datasetbank\n",
      "2018-02-23 17:00:44,569 [MainThread  ] [WARNI]  Did not find trained estimator LassoLars for datasetbank\n",
      "2018-02-23 17:00:44,569 [MainThread  ] [WARNI]  Did not find trained estimator LassoLars for datasetbank\n",
      "2018-02-23 17:00:44,569 [MainThread  ] [WARNI]  Did not find trained estimator LassoLars for datasetbank\n",
      "2018-02-23 17:00:44,614 [MainThread  ] [WARNI]  Did not find trained estimator RandomForestClassifier for datasetbank\n",
      "2018-02-23 17:00:44,614 [MainThread  ] [WARNI]  Did not find trained estimator RandomForestClassifier for datasetbank\n",
      "2018-02-23 17:00:44,614 [MainThread  ] [WARNI]  Did not find trained estimator RandomForestClassifier for datasetbank\n",
      "2018-02-23 17:00:44,735 [MainThread  ] [WARNI]  Did not find trained estimator BaggingClassifier for datasetbank\n",
      "2018-02-23 17:00:44,735 [MainThread  ] [WARNI]  Did not find trained estimator BaggingClassifier for datasetbank\n",
      "2018-02-23 17:00:44,735 [MainThread  ] [WARNI]  Did not find trained estimator BaggingClassifier for datasetbank\n"
     ]
    },
    {
     "name": "stdout",
     "output_type": "stream",
     "text": [
      "LassoLars\n",
      "RandomForestClassifier\n",
      "BaggingClassifier\n",
      "GradientBoostingClassifier\n"
     ]
    },
    {
     "name": "stderr",
     "output_type": "stream",
     "text": [
      "2018-02-23 17:00:45,049 [MainThread  ] [WARNI]  Did not find trained estimator GradientBoostingClassifier for datasetbank\n",
      "2018-02-23 17:00:45,049 [MainThread  ] [WARNI]  Did not find trained estimator GradientBoostingClassifier for datasetbank\n",
      "2018-02-23 17:00:45,049 [MainThread  ] [WARNI]  Did not find trained estimator GradientBoostingClassifier for datasetbank\n",
      "2018-02-23 17:00:45,066 [MainThread  ] [WARNI]  Did not find trained estimator SVC for datasetbank\n",
      "2018-02-23 17:00:45,066 [MainThread  ] [WARNI]  Did not find trained estimator SVC for datasetbank\n",
      "2018-02-23 17:00:45,066 [MainThread  ] [WARNI]  Did not find trained estimator SVC for datasetbank\n",
      "2018-02-23 17:00:45,089 [MainThread  ] [WARNI]  Did not find trained estimator GaussianNaiveBayes for datasetbank\n",
      "2018-02-23 17:00:45,089 [MainThread  ] [WARNI]  Did not find trained estimator GaussianNaiveBayes for datasetbank\n",
      "2018-02-23 17:00:45,089 [MainThread  ] [WARNI]  Did not find trained estimator GaussianNaiveBayes for datasetbank\n",
      "2018-02-23 17:00:45,111 [MainThread  ] [WARNI]  Did not find trained estimator BernoulliNaiveBayes for datasetbank\n",
      "2018-02-23 17:00:45,111 [MainThread  ] [WARNI]  Did not find trained estimator BernoulliNaiveBayes for datasetbank\n",
      "2018-02-23 17:00:45,111 [MainThread  ] [WARNI]  Did not find trained estimator BernoulliNaiveBayes for datasetbank\n"
     ]
    },
    {
     "name": "stdout",
     "output_type": "stream",
     "text": [
      "SVC\n",
      "GaussianNaiveBayes\n",
      "BernoulliNaiveBayes\n",
      "NeuralNetworkDeepClassifier\n"
     ]
    },
    {
     "name": "stderr",
     "output_type": "stream",
     "text": [
      "2018-02-23 17:00:47,068 [MainThread  ] [WARNI]  Did not find trained estimator NeuralNetworkDeepClassifier for datasetbank\n",
      "2018-02-23 17:00:47,068 [MainThread  ] [WARNI]  Did not find trained estimator NeuralNetworkDeepClassifier for datasetbank\n",
      "2018-02-23 17:00:47,068 [MainThread  ] [WARNI]  Did not find trained estimator NeuralNetworkDeepClassifier for datasetbank\n",
      "2018-02-23 17:00:47,098 [MainThread  ] [WARNI]  Did not find trained estimator PassiveAggressiveClassifier for datasetbank\n",
      "2018-02-23 17:00:47,098 [MainThread  ] [WARNI]  Did not find trained estimator PassiveAggressiveClassifier for datasetbank\n",
      "2018-02-23 17:00:47,098 [MainThread  ] [WARNI]  Did not find trained estimator PassiveAggressiveClassifier for datasetbank\n",
      "2018-02-23 17:00:47,123 [MainThread  ] [WARNI]  Did not find trained estimator BaselineClassifier for datasetbank\n",
      "2018-02-23 17:00:47,123 [MainThread  ] [WARNI]  Did not find trained estimator BaselineClassifier for datasetbank\n",
      "2018-02-23 17:00:47,123 [MainThread  ] [WARNI]  Did not find trained estimator BaselineClassifier for datasetbank\n"
     ]
    },
    {
     "name": "stdout",
     "output_type": "stream",
     "text": [
      "PassiveAggressiveClassifier\n",
      "BaselineClassifier\n"
     ]
    },
    {
     "name": "stderr",
     "output_type": "stream",
     "text": [
      "2018-02-23 17:00:47,317 [MainThread  ] [WARNI]  Did not find trained estimator LogisticRegression for datasetblood\n",
      "2018-02-23 17:00:47,317 [MainThread  ] [WARNI]  Did not find trained estimator LogisticRegression for datasetblood\n",
      "2018-02-23 17:00:47,317 [MainThread  ] [WARNI]  Did not find trained estimator LogisticRegression for datasetblood\n",
      "2018-02-23 17:00:47,333 [MainThread  ] [WARNI]  Did not find trained estimator RidgeRegression for datasetblood\n",
      "2018-02-23 17:00:47,333 [MainThread  ] [WARNI]  Did not find trained estimator RidgeRegression for datasetblood\n",
      "2018-02-23 17:00:47,333 [MainThread  ] [WARNI]  Did not find trained estimator RidgeRegression for datasetblood\n",
      "2018-02-23 17:00:47,350 [MainThread  ] [WARNI]  Did not find trained estimator Lasso for datasetblood\n",
      "2018-02-23 17:00:47,350 [MainThread  ] [WARNI]  Did not find trained estimator Lasso for datasetblood\n",
      "2018-02-23 17:00:47,350 [MainThread  ] [WARNI]  Did not find trained estimator Lasso for datasetblood\n",
      "2018-02-23 17:00:47,369 [MainThread  ] [WARNI]  Did not find trained estimator LassoLars for datasetblood\n",
      "2018-02-23 17:00:47,369 [MainThread  ] [WARNI]  Did not find trained estimator LassoLars for datasetblood\n",
      "2018-02-23 17:00:47,369 [MainThread  ] [WARNI]  Did not find trained estimator LassoLars for datasetblood\n",
      "2018-02-23 17:00:47,398 [MainThread  ] [WARNI]  Did not find trained estimator RandomForestClassifier for datasetblood\n",
      "2018-02-23 17:00:47,398 [MainThread  ] [WARNI]  Did not find trained estimator RandomForestClassifier for datasetblood\n",
      "2018-02-23 17:00:47,398 [MainThread  ] [WARNI]  Did not find trained estimator RandomForestClassifier for datasetblood\n",
      "2018-02-23 17:00:47,497 [MainThread  ] [WARNI]  Did not find trained estimator BaggingClassifier for datasetblood\n",
      "2018-02-23 17:00:47,497 [MainThread  ] [WARNI]  Did not find trained estimator BaggingClassifier for datasetblood\n",
      "2018-02-23 17:00:47,497 [MainThread  ] [WARNI]  Did not find trained estimator BaggingClassifier for datasetblood\n"
     ]
    },
    {
     "name": "stdout",
     "output_type": "stream",
     "text": [
      "LogisticRegression\n",
      "RidgeRegression\n",
      "Lasso\n",
      "LassoLars\n",
      "RandomForestClassifier\n",
      "BaggingClassifier\n",
      "GradientBoostingClassifier\n"
     ]
    },
    {
     "name": "stderr",
     "output_type": "stream",
     "text": [
      "2018-02-23 17:00:47,862 [MainThread  ] [WARNI]  Did not find trained estimator GradientBoostingClassifier for datasetblood\n",
      "2018-02-23 17:00:47,862 [MainThread  ] [WARNI]  Did not find trained estimator GradientBoostingClassifier for datasetblood\n",
      "2018-02-23 17:00:47,862 [MainThread  ] [WARNI]  Did not find trained estimator GradientBoostingClassifier for datasetblood\n",
      "2018-02-23 17:00:47,886 [MainThread  ] [WARNI]  Did not find trained estimator SVC for datasetblood\n",
      "2018-02-23 17:00:47,886 [MainThread  ] [WARNI]  Did not find trained estimator SVC for datasetblood\n",
      "2018-02-23 17:00:47,886 [MainThread  ] [WARNI]  Did not find trained estimator SVC for datasetblood\n",
      "2018-02-23 17:00:47,906 [MainThread  ] [WARNI]  Did not find trained estimator GaussianNaiveBayes for datasetblood\n",
      "2018-02-23 17:00:47,906 [MainThread  ] [WARNI]  Did not find trained estimator GaussianNaiveBayes for datasetblood\n",
      "2018-02-23 17:00:47,906 [MainThread  ] [WARNI]  Did not find trained estimator GaussianNaiveBayes for datasetblood\n",
      "2018-02-23 17:00:47,931 [MainThread  ] [WARNI]  Did not find trained estimator BernoulliNaiveBayes for datasetblood\n",
      "2018-02-23 17:00:47,931 [MainThread  ] [WARNI]  Did not find trained estimator BernoulliNaiveBayes for datasetblood\n",
      "2018-02-23 17:00:47,931 [MainThread  ] [WARNI]  Did not find trained estimator BernoulliNaiveBayes for datasetblood\n"
     ]
    },
    {
     "name": "stdout",
     "output_type": "stream",
     "text": [
      "SVC\n",
      "GaussianNaiveBayes\n",
      "BernoulliNaiveBayes\n",
      "NeuralNetworkDeepClassifier\n"
     ]
    },
    {
     "name": "stderr",
     "output_type": "stream",
     "text": [
      "2018-02-23 17:00:49,953 [MainThread  ] [WARNI]  Did not find trained estimator NeuralNetworkDeepClassifier for datasetblood\n",
      "2018-02-23 17:00:49,953 [MainThread  ] [WARNI]  Did not find trained estimator NeuralNetworkDeepClassifier for datasetblood\n",
      "2018-02-23 17:00:49,953 [MainThread  ] [WARNI]  Did not find trained estimator NeuralNetworkDeepClassifier for datasetblood\n",
      "2018-02-23 17:00:49,986 [MainThread  ] [WARNI]  Did not find trained estimator PassiveAggressiveClassifier for datasetblood\n",
      "2018-02-23 17:00:49,986 [MainThread  ] [WARNI]  Did not find trained estimator PassiveAggressiveClassifier for datasetblood\n",
      "2018-02-23 17:00:49,986 [MainThread  ] [WARNI]  Did not find trained estimator PassiveAggressiveClassifier for datasetblood\n",
      "2018-02-23 17:00:50,020 [MainThread  ] [WARNI]  Did not find trained estimator BaselineClassifier for datasetblood\n",
      "2018-02-23 17:00:50,020 [MainThread  ] [WARNI]  Did not find trained estimator BaselineClassifier for datasetblood\n",
      "2018-02-23 17:00:50,020 [MainThread  ] [WARNI]  Did not find trained estimator BaselineClassifier for datasetblood\n",
      "2018-02-23 17:00:50,123 [MainThread  ] [WARNI]  Did not find trained estimator LogisticRegression for datasetbreast_cancer\n",
      "2018-02-23 17:00:50,123 [MainThread  ] [WARNI]  Did not find trained estimator LogisticRegression for datasetbreast_cancer\n",
      "2018-02-23 17:00:50,123 [MainThread  ] [WARNI]  Did not find trained estimator LogisticRegression for datasetbreast_cancer\n",
      "2018-02-23 17:00:50,141 [MainThread  ] [WARNI]  Did not find trained estimator RidgeRegression for datasetbreast_cancer\n",
      "2018-02-23 17:00:50,141 [MainThread  ] [WARNI]  Did not find trained estimator RidgeRegression for datasetbreast_cancer\n",
      "2018-02-23 17:00:50,141 [MainThread  ] [WARNI]  Did not find trained estimator RidgeRegression for datasetbreast_cancer\n",
      "2018-02-23 17:00:50,155 [MainThread  ] [WARNI]  Did not find trained estimator Lasso for datasetbreast_cancer\n",
      "2018-02-23 17:00:50,155 [MainThread  ] [WARNI]  Did not find trained estimator Lasso for datasetbreast_cancer\n",
      "2018-02-23 17:00:50,155 [MainThread  ] [WARNI]  Did not find trained estimator Lasso for datasetbreast_cancer\n"
     ]
    },
    {
     "name": "stdout",
     "output_type": "stream",
     "text": [
      "PassiveAggressiveClassifier\n",
      "BaselineClassifier\n",
      "LogisticRegression\n",
      "RidgeRegression\n",
      "Lasso\n",
      "LassoLars\n"
     ]
    },
    {
     "name": "stderr",
     "output_type": "stream",
     "text": [
      "2018-02-23 17:00:50,167 [MainThread  ] [WARNI]  Did not find trained estimator LassoLars for datasetbreast_cancer\n",
      "2018-02-23 17:00:50,167 [MainThread  ] [WARNI]  Did not find trained estimator LassoLars for datasetbreast_cancer\n",
      "2018-02-23 17:00:50,167 [MainThread  ] [WARNI]  Did not find trained estimator LassoLars for datasetbreast_cancer\n",
      "2018-02-23 17:00:50,188 [MainThread  ] [WARNI]  Did not find trained estimator RandomForestClassifier for datasetbreast_cancer\n",
      "2018-02-23 17:00:50,188 [MainThread  ] [WARNI]  Did not find trained estimator RandomForestClassifier for datasetbreast_cancer\n",
      "2018-02-23 17:00:50,188 [MainThread  ] [WARNI]  Did not find trained estimator RandomForestClassifier for datasetbreast_cancer\n"
     ]
    },
    {
     "name": "stdout",
     "output_type": "stream",
     "text": [
      "RandomForestClassifier\n",
      "BaggingClassifier\n"
     ]
    },
    {
     "name": "stderr",
     "output_type": "stream",
     "text": [
      "2018-02-23 17:00:50,946 [MainThread  ] [WARNI]  Did not find trained estimator BaggingClassifier for datasetbreast_cancer\n",
      "2018-02-23 17:00:50,946 [MainThread  ] [WARNI]  Did not find trained estimator BaggingClassifier for datasetbreast_cancer\n",
      "2018-02-23 17:00:50,946 [MainThread  ] [WARNI]  Did not find trained estimator BaggingClassifier for datasetbreast_cancer\n"
     ]
    },
    {
     "name": "stdout",
     "output_type": "stream",
     "text": [
      "GradientBoostingClassifier\n"
     ]
    },
    {
     "name": "stderr",
     "output_type": "stream",
     "text": [
      "2018-02-23 17:00:51,471 [MainThread  ] [WARNI]  Did not find trained estimator GradientBoostingClassifier for datasetbreast_cancer\n",
      "2018-02-23 17:00:51,471 [MainThread  ] [WARNI]  Did not find trained estimator GradientBoostingClassifier for datasetbreast_cancer\n",
      "2018-02-23 17:00:51,471 [MainThread  ] [WARNI]  Did not find trained estimator GradientBoostingClassifier for datasetbreast_cancer\n",
      "2018-02-23 17:00:51,488 [MainThread  ] [WARNI]  Did not find trained estimator SVC for datasetbreast_cancer\n",
      "2018-02-23 17:00:51,488 [MainThread  ] [WARNI]  Did not find trained estimator SVC for datasetbreast_cancer\n",
      "2018-02-23 17:00:51,488 [MainThread  ] [WARNI]  Did not find trained estimator SVC for datasetbreast_cancer\n",
      "2018-02-23 17:00:51,505 [MainThread  ] [WARNI]  Did not find trained estimator GaussianNaiveBayes for datasetbreast_cancer\n",
      "2018-02-23 17:00:51,505 [MainThread  ] [WARNI]  Did not find trained estimator GaussianNaiveBayes for datasetbreast_cancer\n",
      "2018-02-23 17:00:51,505 [MainThread  ] [WARNI]  Did not find trained estimator GaussianNaiveBayes for datasetbreast_cancer\n",
      "2018-02-23 17:00:51,521 [MainThread  ] [WARNI]  Did not find trained estimator BernoulliNaiveBayes for datasetbreast_cancer\n",
      "2018-02-23 17:00:51,521 [MainThread  ] [WARNI]  Did not find trained estimator BernoulliNaiveBayes for datasetbreast_cancer\n",
      "2018-02-23 17:00:51,521 [MainThread  ] [WARNI]  Did not find trained estimator BernoulliNaiveBayes for datasetbreast_cancer\n"
     ]
    },
    {
     "name": "stdout",
     "output_type": "stream",
     "text": [
      "SVC\n",
      "GaussianNaiveBayes\n",
      "BernoulliNaiveBayes\n",
      "NeuralNetworkDeepClassifier\n"
     ]
    },
    {
     "name": "stderr",
     "output_type": "stream",
     "text": [
      "2018-02-23 17:00:53,595 [MainThread  ] [WARNI]  Did not find trained estimator NeuralNetworkDeepClassifier for datasetbreast_cancer\n",
      "2018-02-23 17:00:53,595 [MainThread  ] [WARNI]  Did not find trained estimator NeuralNetworkDeepClassifier for datasetbreast_cancer\n",
      "2018-02-23 17:00:53,595 [MainThread  ] [WARNI]  Did not find trained estimator NeuralNetworkDeepClassifier for datasetbreast_cancer\n",
      "2018-02-23 17:00:53,624 [MainThread  ] [WARNI]  Did not find trained estimator PassiveAggressiveClassifier for datasetbreast_cancer\n",
      "2018-02-23 17:00:53,624 [MainThread  ] [WARNI]  Did not find trained estimator PassiveAggressiveClassifier for datasetbreast_cancer\n",
      "2018-02-23 17:00:53,624 [MainThread  ] [WARNI]  Did not find trained estimator PassiveAggressiveClassifier for datasetbreast_cancer\n",
      "2018-02-23 17:00:53,660 [MainThread  ] [WARNI]  Did not find trained estimator BaselineClassifier for datasetbreast_cancer\n",
      "2018-02-23 17:00:53,660 [MainThread  ] [WARNI]  Did not find trained estimator BaselineClassifier for datasetbreast_cancer\n",
      "2018-02-23 17:00:53,660 [MainThread  ] [WARNI]  Did not find trained estimator BaselineClassifier for datasetbreast_cancer\n",
      "2018-02-23 17:00:53,743 [MainThread  ] [WARNI]  Did not find trained estimator LogisticRegression for datasetbreast_cancer_wisc\n",
      "2018-02-23 17:00:53,743 [MainThread  ] [WARNI]  Did not find trained estimator LogisticRegression for datasetbreast_cancer_wisc\n",
      "2018-02-23 17:00:53,743 [MainThread  ] [WARNI]  Did not find trained estimator LogisticRegression for datasetbreast_cancer_wisc\n",
      "2018-02-23 17:00:53,754 [MainThread  ] [WARNI]  Did not find trained estimator RidgeRegression for datasetbreast_cancer_wisc\n",
      "2018-02-23 17:00:53,754 [MainThread  ] [WARNI]  Did not find trained estimator RidgeRegression for datasetbreast_cancer_wisc\n",
      "2018-02-23 17:00:53,754 [MainThread  ] [WARNI]  Did not find trained estimator RidgeRegression for datasetbreast_cancer_wisc\n",
      "2018-02-23 17:00:53,763 [MainThread  ] [WARNI]  Did not find trained estimator Lasso for datasetbreast_cancer_wisc\n",
      "2018-02-23 17:00:53,763 [MainThread  ] [WARNI]  Did not find trained estimator Lasso for datasetbreast_cancer_wisc\n",
      "2018-02-23 17:00:53,763 [MainThread  ] [WARNI]  Did not find trained estimator Lasso for datasetbreast_cancer_wisc\n",
      "2018-02-23 17:00:53,774 [MainThread  ] [WARNI]  Did not find trained estimator LassoLars for datasetbreast_cancer_wisc\n",
      "2018-02-23 17:00:53,774 [MainThread  ] [WARNI]  Did not find trained estimator LassoLars for datasetbreast_cancer_wisc\n",
      "2018-02-23 17:00:53,774 [MainThread  ] [WARNI]  Did not find trained estimator LassoLars for datasetbreast_cancer_wisc\n",
      "2018-02-23 17:00:53,790 [MainThread  ] [WARNI]  Did not find trained estimator RandomForestClassifier for datasetbreast_cancer_wisc\n",
      "2018-02-23 17:00:53,790 [MainThread  ] [WARNI]  Did not find trained estimator RandomForestClassifier for datasetbreast_cancer_wisc\n",
      "2018-02-23 17:00:53,790 [MainThread  ] [WARNI]  Did not find trained estimator RandomForestClassifier for datasetbreast_cancer_wisc\n"
     ]
    },
    {
     "name": "stdout",
     "output_type": "stream",
     "text": [
      "PassiveAggressiveClassifier\n",
      "BaselineClassifier\n",
      "LogisticRegression\n",
      "RidgeRegression\n",
      "Lasso\n",
      "LassoLars\n",
      "RandomForestClassifier\n",
      "BaggingClassifier\n"
     ]
    },
    {
     "name": "stderr",
     "output_type": "stream",
     "text": [
      "2018-02-23 17:00:53,927 [MainThread  ] [WARNI]  Did not find trained estimator BaggingClassifier for datasetbreast_cancer_wisc\n",
      "2018-02-23 17:00:53,927 [MainThread  ] [WARNI]  Did not find trained estimator BaggingClassifier for datasetbreast_cancer_wisc\n",
      "2018-02-23 17:00:53,927 [MainThread  ] [WARNI]  Did not find trained estimator BaggingClassifier for datasetbreast_cancer_wisc\n",
      "2018-02-23 17:00:53,949 [MainThread  ] [WARNI]  Did not find trained estimator GradientBoostingClassifier for datasetbreast_cancer_wisc\n",
      "2018-02-23 17:00:53,949 [MainThread  ] [WARNI]  Did not find trained estimator GradientBoostingClassifier for datasetbreast_cancer_wisc\n",
      "2018-02-23 17:00:53,949 [MainThread  ] [WARNI]  Did not find trained estimator GradientBoostingClassifier for datasetbreast_cancer_wisc\n",
      "2018-02-23 17:00:53,963 [MainThread  ] [WARNI]  Did not find trained estimator SVC for datasetbreast_cancer_wisc\n",
      "2018-02-23 17:00:53,963 [MainThread  ] [WARNI]  Did not find trained estimator SVC for datasetbreast_cancer_wisc\n",
      "2018-02-23 17:00:53,963 [MainThread  ] [WARNI]  Did not find trained estimator SVC for datasetbreast_cancer_wisc\n",
      "2018-02-23 17:00:53,973 [MainThread  ] [WARNI]  Did not find trained estimator GaussianNaiveBayes for datasetbreast_cancer_wisc\n",
      "2018-02-23 17:00:53,973 [MainThread  ] [WARNI]  Did not find trained estimator GaussianNaiveBayes for datasetbreast_cancer_wisc\n",
      "2018-02-23 17:00:53,973 [MainThread  ] [WARNI]  Did not find trained estimator GaussianNaiveBayes for datasetbreast_cancer_wisc\n",
      "2018-02-23 17:00:53,991 [MainThread  ] [WARNI]  Did not find trained estimator BernoulliNaiveBayes for datasetbreast_cancer_wisc\n",
      "2018-02-23 17:00:53,991 [MainThread  ] [WARNI]  Did not find trained estimator BernoulliNaiveBayes for datasetbreast_cancer_wisc\n",
      "2018-02-23 17:00:53,991 [MainThread  ] [WARNI]  Did not find trained estimator BernoulliNaiveBayes for datasetbreast_cancer_wisc\n"
     ]
    },
    {
     "name": "stdout",
     "output_type": "stream",
     "text": [
      "GradientBoostingClassifier\n",
      "SVC\n",
      "GaussianNaiveBayes\n",
      "BernoulliNaiveBayes\n",
      "NeuralNetworkDeepClassifier\n"
     ]
    },
    {
     "name": "stderr",
     "output_type": "stream",
     "text": [
      "2018-02-23 17:00:56,304 [MainThread  ] [WARNI]  Did not find trained estimator NeuralNetworkDeepClassifier for datasetbreast_cancer_wisc\n",
      "2018-02-23 17:00:56,304 [MainThread  ] [WARNI]  Did not find trained estimator NeuralNetworkDeepClassifier for datasetbreast_cancer_wisc\n",
      "2018-02-23 17:00:56,304 [MainThread  ] [WARNI]  Did not find trained estimator NeuralNetworkDeepClassifier for datasetbreast_cancer_wisc\n",
      "2018-02-23 17:00:56,321 [MainThread  ] [WARNI]  Did not find trained estimator PassiveAggressiveClassifier for datasetbreast_cancer_wisc\n",
      "2018-02-23 17:00:56,321 [MainThread  ] [WARNI]  Did not find trained estimator PassiveAggressiveClassifier for datasetbreast_cancer_wisc\n",
      "2018-02-23 17:00:56,321 [MainThread  ] [WARNI]  Did not find trained estimator PassiveAggressiveClassifier for datasetbreast_cancer_wisc\n",
      "2018-02-23 17:00:56,341 [MainThread  ] [WARNI]  Did not find trained estimator BaselineClassifier for datasetbreast_cancer_wisc\n",
      "2018-02-23 17:00:56,341 [MainThread  ] [WARNI]  Did not find trained estimator BaselineClassifier for datasetbreast_cancer_wisc\n",
      "2018-02-23 17:00:56,341 [MainThread  ] [WARNI]  Did not find trained estimator BaselineClassifier for datasetbreast_cancer_wisc\n",
      "2018-02-23 17:00:56,495 [MainThread  ] [WARNI]  Did not find trained estimator LogisticRegression for datasetbreast_cancer_wisc_diag\n",
      "2018-02-23 17:00:56,495 [MainThread  ] [WARNI]  Did not find trained estimator LogisticRegression for datasetbreast_cancer_wisc_diag\n",
      "2018-02-23 17:00:56,495 [MainThread  ] [WARNI]  Did not find trained estimator LogisticRegression for datasetbreast_cancer_wisc_diag\n"
     ]
    },
    {
     "name": "stdout",
     "output_type": "stream",
     "text": [
      "PassiveAggressiveClassifier\n",
      "BaselineClassifier\n",
      "LogisticRegression\n",
      "RidgeRegression\n"
     ]
    },
    {
     "name": "stderr",
     "output_type": "stream",
     "text": [
      "2018-02-23 17:00:56,521 [MainThread  ] [WARNI]  Did not find trained estimator RidgeRegression for datasetbreast_cancer_wisc_diag\n",
      "2018-02-23 17:00:56,521 [MainThread  ] [WARNI]  Did not find trained estimator RidgeRegression for datasetbreast_cancer_wisc_diag\n",
      "2018-02-23 17:00:56,521 [MainThread  ] [WARNI]  Did not find trained estimator RidgeRegression for datasetbreast_cancer_wisc_diag\n",
      "2018-02-23 17:00:56,546 [MainThread  ] [WARNI]  Did not find trained estimator Lasso for datasetbreast_cancer_wisc_diag\n",
      "2018-02-23 17:00:56,546 [MainThread  ] [WARNI]  Did not find trained estimator Lasso for datasetbreast_cancer_wisc_diag\n",
      "2018-02-23 17:00:56,546 [MainThread  ] [WARNI]  Did not find trained estimator Lasso for datasetbreast_cancer_wisc_diag\n",
      "2018-02-23 17:00:56,577 [MainThread  ] [WARNI]  Did not find trained estimator LassoLars for datasetbreast_cancer_wisc_diag\n",
      "2018-02-23 17:00:56,577 [MainThread  ] [WARNI]  Did not find trained estimator LassoLars for datasetbreast_cancer_wisc_diag\n",
      "2018-02-23 17:00:56,577 [MainThread  ] [WARNI]  Did not find trained estimator LassoLars for datasetbreast_cancer_wisc_diag\n",
      "2018-02-23 17:00:56,607 [MainThread  ] [WARNI]  Did not find trained estimator RandomForestClassifier for datasetbreast_cancer_wisc_diag\n",
      "2018-02-23 17:00:56,607 [MainThread  ] [WARNI]  Did not find trained estimator RandomForestClassifier for datasetbreast_cancer_wisc_diag\n",
      "2018-02-23 17:00:56,607 [MainThread  ] [WARNI]  Did not find trained estimator RandomForestClassifier for datasetbreast_cancer_wisc_diag\n",
      "2018-02-23 17:00:56,650 [MainThread  ] [WARNI]  Did not find trained estimator BaggingClassifier for datasetbreast_cancer_wisc_diag\n",
      "2018-02-23 17:00:56,650 [MainThread  ] [WARNI]  Did not find trained estimator BaggingClassifier for datasetbreast_cancer_wisc_diag\n",
      "2018-02-23 17:00:56,650 [MainThread  ] [WARNI]  Did not find trained estimator BaggingClassifier for datasetbreast_cancer_wisc_diag\n"
     ]
    },
    {
     "name": "stdout",
     "output_type": "stream",
     "text": [
      "Lasso\n",
      "LassoLars\n",
      "RandomForestClassifier\n",
      "BaggingClassifier\n",
      "GradientBoostingClassifier\n"
     ]
    },
    {
     "name": "stderr",
     "output_type": "stream",
     "text": [
      "2018-02-23 17:00:56,768 [MainThread  ] [WARNI]  Did not find trained estimator GradientBoostingClassifier for datasetbreast_cancer_wisc_diag\n",
      "2018-02-23 17:00:56,768 [MainThread  ] [WARNI]  Did not find trained estimator GradientBoostingClassifier for datasetbreast_cancer_wisc_diag\n",
      "2018-02-23 17:00:56,768 [MainThread  ] [WARNI]  Did not find trained estimator GradientBoostingClassifier for datasetbreast_cancer_wisc_diag\n",
      "2018-02-23 17:00:56,796 [MainThread  ] [WARNI]  Did not find trained estimator SVC for datasetbreast_cancer_wisc_diag\n",
      "2018-02-23 17:00:56,796 [MainThread  ] [WARNI]  Did not find trained estimator SVC for datasetbreast_cancer_wisc_diag\n",
      "2018-02-23 17:00:56,796 [MainThread  ] [WARNI]  Did not find trained estimator SVC for datasetbreast_cancer_wisc_diag\n",
      "2018-02-23 17:00:56,825 [MainThread  ] [WARNI]  Did not find trained estimator GaussianNaiveBayes for datasetbreast_cancer_wisc_diag\n",
      "2018-02-23 17:00:56,825 [MainThread  ] [WARNI]  Did not find trained estimator GaussianNaiveBayes for datasetbreast_cancer_wisc_diag\n",
      "2018-02-23 17:00:56,825 [MainThread  ] [WARNI]  Did not find trained estimator GaussianNaiveBayes for datasetbreast_cancer_wisc_diag\n",
      "2018-02-23 17:00:56,848 [MainThread  ] [WARNI]  Did not find trained estimator BernoulliNaiveBayes for datasetbreast_cancer_wisc_diag\n",
      "2018-02-23 17:00:56,848 [MainThread  ] [WARNI]  Did not find trained estimator BernoulliNaiveBayes for datasetbreast_cancer_wisc_diag\n",
      "2018-02-23 17:00:56,848 [MainThread  ] [WARNI]  Did not find trained estimator BernoulliNaiveBayes for datasetbreast_cancer_wisc_diag\n"
     ]
    },
    {
     "name": "stdout",
     "output_type": "stream",
     "text": [
      "SVC\n",
      "GaussianNaiveBayes\n",
      "BernoulliNaiveBayes\n",
      "NeuralNetworkDeepClassifier\n"
     ]
    },
    {
     "name": "stderr",
     "output_type": "stream",
     "text": [
      "2018-02-23 17:00:59,366 [MainThread  ] [WARNI]  Did not find trained estimator NeuralNetworkDeepClassifier for datasetbreast_cancer_wisc_diag\n",
      "2018-02-23 17:00:59,366 [MainThread  ] [WARNI]  Did not find trained estimator NeuralNetworkDeepClassifier for datasetbreast_cancer_wisc_diag\n",
      "2018-02-23 17:00:59,366 [MainThread  ] [WARNI]  Did not find trained estimator NeuralNetworkDeepClassifier for datasetbreast_cancer_wisc_diag\n",
      "2018-02-23 17:00:59,396 [MainThread  ] [WARNI]  Did not find trained estimator PassiveAggressiveClassifier for datasetbreast_cancer_wisc_diag\n",
      "2018-02-23 17:00:59,396 [MainThread  ] [WARNI]  Did not find trained estimator PassiveAggressiveClassifier for datasetbreast_cancer_wisc_diag\n",
      "2018-02-23 17:00:59,396 [MainThread  ] [WARNI]  Did not find trained estimator PassiveAggressiveClassifier for datasetbreast_cancer_wisc_diag\n",
      "2018-02-23 17:00:59,428 [MainThread  ] [WARNI]  Did not find trained estimator BaselineClassifier for datasetbreast_cancer_wisc_diag\n",
      "2018-02-23 17:00:59,428 [MainThread  ] [WARNI]  Did not find trained estimator BaselineClassifier for datasetbreast_cancer_wisc_diag\n",
      "2018-02-23 17:00:59,428 [MainThread  ] [WARNI]  Did not find trained estimator BaselineClassifier for datasetbreast_cancer_wisc_diag\n"
     ]
    },
    {
     "name": "stdout",
     "output_type": "stream",
     "text": [
      "PassiveAggressiveClassifier\n",
      "BaselineClassifier\n"
     ]
    },
    {
     "name": "stderr",
     "output_type": "stream",
     "text": [
      "2018-02-23 17:00:59,621 [MainThread  ] [WARNI]  Did not find trained estimator LogisticRegression for datasetbreast_cancer_wisc_prog\n",
      "2018-02-23 17:00:59,621 [MainThread  ] [WARNI]  Did not find trained estimator LogisticRegression for datasetbreast_cancer_wisc_prog\n",
      "2018-02-23 17:00:59,621 [MainThread  ] [WARNI]  Did not find trained estimator LogisticRegression for datasetbreast_cancer_wisc_prog\n",
      "2018-02-23 17:00:59,646 [MainThread  ] [WARNI]  Did not find trained estimator RidgeRegression for datasetbreast_cancer_wisc_prog\n",
      "2018-02-23 17:00:59,646 [MainThread  ] [WARNI]  Did not find trained estimator RidgeRegression for datasetbreast_cancer_wisc_prog\n",
      "2018-02-23 17:00:59,646 [MainThread  ] [WARNI]  Did not find trained estimator RidgeRegression for datasetbreast_cancer_wisc_prog\n",
      "2018-02-23 17:00:59,673 [MainThread  ] [WARNI]  Did not find trained estimator Lasso for datasetbreast_cancer_wisc_prog\n",
      "2018-02-23 17:00:59,673 [MainThread  ] [WARNI]  Did not find trained estimator Lasso for datasetbreast_cancer_wisc_prog\n",
      "2018-02-23 17:00:59,673 [MainThread  ] [WARNI]  Did not find trained estimator Lasso for datasetbreast_cancer_wisc_prog\n",
      "2018-02-23 17:00:59,702 [MainThread  ] [WARNI]  Did not find trained estimator LassoLars for datasetbreast_cancer_wisc_prog\n",
      "2018-02-23 17:00:59,702 [MainThread  ] [WARNI]  Did not find trained estimator LassoLars for datasetbreast_cancer_wisc_prog\n",
      "2018-02-23 17:00:59,702 [MainThread  ] [WARNI]  Did not find trained estimator LassoLars for datasetbreast_cancer_wisc_prog\n",
      "2018-02-23 17:00:59,754 [MainThread  ] [WARNI]  Did not find trained estimator RandomForestClassifier for datasetbreast_cancer_wisc_prog\n",
      "2018-02-23 17:00:59,754 [MainThread  ] [WARNI]  Did not find trained estimator RandomForestClassifier for datasetbreast_cancer_wisc_prog\n",
      "2018-02-23 17:00:59,754 [MainThread  ] [WARNI]  Did not find trained estimator RandomForestClassifier for datasetbreast_cancer_wisc_prog\n"
     ]
    },
    {
     "name": "stdout",
     "output_type": "stream",
     "text": [
      "LogisticRegression\n",
      "RidgeRegression\n",
      "Lasso\n",
      "LassoLars\n",
      "RandomForestClassifier\n",
      "BaggingClassifier\n"
     ]
    },
    {
     "name": "stderr",
     "output_type": "stream",
     "text": [
      "2018-02-23 17:00:59,807 [MainThread  ] [WARNI]  Did not find trained estimator BaggingClassifier for datasetbreast_cancer_wisc_prog\n",
      "2018-02-23 17:00:59,807 [MainThread  ] [WARNI]  Did not find trained estimator BaggingClassifier for datasetbreast_cancer_wisc_prog\n",
      "2018-02-23 17:00:59,807 [MainThread  ] [WARNI]  Did not find trained estimator BaggingClassifier for datasetbreast_cancer_wisc_prog\n"
     ]
    }
   ],
   "source": [
    "instantiated_models = instantiate_default_estimators(estimators=['Classification'], verbose=1)\n",
    "orchest.predict_all(trained_models_dir='data/trained_models', estimators=instantiated_models)"
   ]
  }
 ],
 "metadata": {
  "kernelspec": {
   "display_name": "py36",
   "language": "python",
   "name": "py36"
  },
  "language_info": {
   "codemirror_mode": {
    "name": "ipython",
    "version": 3
   },
   "file_extension": ".py",
   "mimetype": "text/x-python",
   "name": "python",
   "nbconvert_exporter": "python",
   "pygments_lexer": "ipython3",
   "version": "3.6.3"
  }
 },
 "nbformat": 4,
 "nbformat_minor": 2
}
