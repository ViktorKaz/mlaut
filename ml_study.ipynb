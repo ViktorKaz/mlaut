{
 "cells": [
  {
   "cell_type": "code",
   "execution_count": 1,
   "metadata": {},
   "outputs": [],
   "source": [
    "from src.static_variables import (HDF5_DATA_FILENAME, X_TRAIN_DIR, X_TEST_DIR, Y_TRAIN_DIR, Y_TEST_DIR, SPLIT_DATASETS_DIR)\n",
    "import numpy as np\n",
    "import pandas as pd\n",
    "from sklearn.model_selection import train_test_split\n",
    "import h5py\n",
    "import pickle\n",
    "from scipy.io import arff\n",
    "from src.run_experiments import RunExperiments"
   ]
  },
  {
   "cell_type": "code",
   "execution_count": 2,
   "metadata": {},
   "outputs": [],
   "source": [
    "from src.files_io import FilesIO\n",
    "from src.models_container import ModelsContainer"
   ]
  },
  {
   "cell_type": "code",
   "execution_count": 3,
   "metadata": {},
   "outputs": [],
   "source": [
    "#load dataset\n",
    "abalone = arff.loadarff('Delgado_data/abalone/abalone.arff')\n",
    "abalone = pd.DataFrame(abalone[0])\n",
    "wine_quality = arff.loadarff('Delgado_data/wine-quality-red/wine-quality-red.arff')\n",
    "wine_quality = pd.DataFrame(wine_quality[0])"
   ]
  },
  {
   "cell_type": "code",
   "execution_count": 4,
   "metadata": {},
   "outputs": [],
   "source": [
    "#create new instance of FilesIO class\n",
    "f = FilesIO('data/test.hdf5')"
   ]
  },
  {
   "cell_type": "code",
   "execution_count": 5,
   "metadata": {
    "scrolled": true
   },
   "outputs": [
    {
     "name": "stderr",
     "output_type": "stream",
     "text": [
      "/media/viktor/Data/PhD/ml_experiments/py36/lib/python3.6/site-packages/ipykernel_launcher.py:8: PerformanceWarning: \n",
      "your performance may suffer as PyTables will pickle object types that it cannot\n",
      "map directly to c-types [inferred_type->bytes,key->block1_values] [items->['clase']]\n",
      "\n",
      "  \n"
     ]
    }
   ],
   "source": [
    "#save original dataset in HDF5 database\n",
    "metadata = [\n",
    "    {'class_name':'clase', 'dataset_name':'abalone'},\n",
    "    {'class_name':'clase', 'dataset_name':'wine_quality'},       \n",
    "           ]\n",
    "f.save_datasets(datasets =[abalone, wine_quality], \n",
    "                dataset_names=['abalone','wine_quality'], \n",
    "                dts_metadata=metadata)"
   ]
  },
  {
   "cell_type": "code",
   "execution_count": 6,
   "metadata": {
    "scrolled": true
   },
   "outputs": [
    {
     "name": "stderr",
     "output_type": "stream",
     "text": [
      "/media/viktor/Data/PhD/ml_experiments/src/files_io.py:171: PerformanceWarning: \n",
      "your performance may suffer as PyTables will pickle object types that it cannot\n",
      "map directly to c-types [inferred_type->bytes,key->values] [items->None]\n",
      "\n",
      "  verbose = None)\n"
     ]
    }
   ],
   "source": [
    "#create train /test split and save to database\n",
    "f.split_and_save(dataset_paths=['abalone','wine_quality'], save_loc='split_datasets')\n",
    "\n"
   ]
  },
  {
   "cell_type": "code",
   "execution_count": 23,
   "metadata": {},
   "outputs": [],
   "source": [
    "#alternative split without saving to database\n",
    "X_train, X_test, y_train, y_test = f.split_dataset('abalone', test_size=0.33)\n",
    "y_train = np.array(y_train, dtype=int).ravel()\n",
    "y_test = np.array(y_test, dtype=int).ravel()"
   ]
  },
  {
   "cell_type": "code",
   "execution_count": 24,
   "metadata": {
    "scrolled": true
   },
   "outputs": [],
   "source": [
    "models_container = ModelsContainer()\n",
    "experiments = RunExperiments()"
   ]
  },
  {
   "cell_type": "code",
   "execution_count": 25,
   "metadata": {},
   "outputs": [],
   "source": [
    "#example to instantiate models\n",
    "instantiated_models = models_container.instantiate_models(RandomForestClassifier=None, SVM=None)"
   ]
  },
  {
   "cell_type": "code",
   "execution_count": 26,
   "metadata": {
    "scrolled": false
   },
   "outputs": [
    {
     "name": "stdout",
     "output_type": "stream",
     "text": [
      "Fitting 3 folds for each of 36 candidates, totalling 108 fits\n",
      "Fitting 3 folds for each of 4 candidates, totalling 12 fits\n"
     ]
    },
    {
     "name": "stderr",
     "output_type": "stream",
     "text": [
      "[Parallel(n_jobs=4)]: Done 108 out of 108 | elapsed:    3.9s finished\n",
      "[Parallel(n_jobs=4)]: Done  12 out of  12 | elapsed:    1.6s finished\n"
     ]
    },
    {
     "name": "stdout",
     "output_type": "stream",
     "text": [
      "Fitting 3 folds for each of 2 candidates, totalling 6 fits\n"
     ]
    },
    {
     "name": "stderr",
     "output_type": "stream",
     "text": [
      "[Parallel(n_jobs=4)]: Done   6 out of   6 | elapsed:    0.0s remaining:    0.0s\n",
      "[Parallel(n_jobs=4)]: Done   6 out of   6 | elapsed:    0.0s finished\n"
     ]
    }
   ],
   "source": [
    "modelling_strategies = models_container.create_models()\n",
    "trained_models, _ = experiments.run_experiments( X_train=X_train, y_train=y_train, model_container=modelling_strategies)"
   ]
  }
 ],
 "metadata": {
  "kernelspec": {
   "display_name": "Python 3",
   "language": "python",
   "name": "python3"
  },
  "language_info": {
   "codemirror_mode": {
    "name": "ipython",
    "version": 3
   },
   "file_extension": ".py",
   "mimetype": "text/x-python",
   "name": "python",
   "nbconvert_exporter": "python",
   "pygments_lexer": "ipython3",
   "version": "3.6.3"
  }
 },
 "nbformat": 4,
 "nbformat_minor": 2
}
