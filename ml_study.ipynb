{
 "cells": [
  {
   "cell_type": "code",
   "execution_count": null,
   "metadata": {},
   "outputs": [],
   "source": [
    "from src.static_variables import (HDF5_DATA_FILENAME, X_TRAIN_DIR, X_TEST_DIR, Y_TRAIN_DIR, Y_TEST_DIR, SPLIT_DATASETS_DIR)\n",
    "import numpy as np\n",
    "import pandas as pd\n",
    "from sklearn.model_selection import train_test_split\n",
    "import h5py\n",
    "import pickle\n",
    "from scipy.io import arff"
   ]
  },
  {
   "cell_type": "code",
   "execution_count": 1,
   "metadata": {},
   "outputs": [],
   "source": [
    "from src.delgado_datasets import DownloadAndConvertDelgadoDatasets\n",
    "from mleap import Data"
   ]
  },
  {
   "cell_type": "code",
   "execution_count": 2,
   "metadata": {},
   "outputs": [
    {
     "name": "stdout",
     "output_type": "stream",
     "text": [
      "Error: Dataset Delgado_data\\molec-biol-protein-second has a different number of arff files\n"
     ]
    }
   ],
   "source": [
    "delgado = DownloadAndConvertDelgadoDatasets()\n",
    "datasets, dataset_names, metadata = delgado.download_and_extract_datasets(verbose = False)"
   ]
  },
  {
   "cell_type": "code",
   "execution_count": 3,
   "metadata": {},
   "outputs": [
    {
     "ename": "IndexError",
     "evalue": "tuple index out of range",
     "output_type": "error",
     "traceback": [
      "\u001b[1;31m---------------------------------------------------------------------------\u001b[0m",
      "\u001b[1;31mIndexError\u001b[0m                                Traceback (most recent call last)",
      "\u001b[1;32m<ipython-input-3-322f2a9f2a06>\u001b[0m in \u001b[0;36m<module>\u001b[1;34m()\u001b[0m\n\u001b[0;32m      1\u001b[0m \u001b[0mdata\u001b[0m \u001b[1;33m=\u001b[0m \u001b[0mData\u001b[0m\u001b[1;33m(\u001b[0m\u001b[1;33m)\u001b[0m\u001b[1;33m\u001b[0m\u001b[0m\n\u001b[1;32m----> 2\u001b[1;33m \u001b[0mdata\u001b[0m\u001b[1;33m.\u001b[0m\u001b[0mpandas_to_db\u001b[0m\u001b[1;33m(\u001b[0m\u001b[1;34m'delgado_datasets'\u001b[0m\u001b[1;33m,\u001b[0m \u001b[0mdatasets\u001b[0m\u001b[1;33m,\u001b[0m \u001b[0mmetadata\u001b[0m\u001b[1;33m,\u001b[0m \u001b[1;34m'data/test.hdf5'\u001b[0m\u001b[1;33m)\u001b[0m\u001b[1;33m\u001b[0m\u001b[0m\n\u001b[0m",
      "\u001b[1;32mL:\\PhD\\ml_experiments\\mleap\\data.py\u001b[0m in \u001b[0;36mpandas_to_db\u001b[1;34m(self, save_loc_hdf5, datasets, dts_metadata, save_loc_hdd)\u001b[0m\n\u001b[0;32m      6\u001b[0m     \u001b[1;32mdef\u001b[0m \u001b[0mpandas_to_db\u001b[0m\u001b[1;33m(\u001b[0m\u001b[0mself\u001b[0m\u001b[1;33m,\u001b[0m \u001b[0msave_loc_hdf5\u001b[0m\u001b[1;33m,\u001b[0m \u001b[0mdatasets\u001b[0m\u001b[1;33m,\u001b[0m \u001b[0mdts_metadata\u001b[0m\u001b[1;33m,\u001b[0m \u001b[0msave_loc_hdd\u001b[0m\u001b[1;33m)\u001b[0m\u001b[1;33m:\u001b[0m\u001b[1;33m\u001b[0m\u001b[0m\n\u001b[0;32m      7\u001b[0m         \u001b[0mfiles_io\u001b[0m \u001b[1;33m=\u001b[0m \u001b[0mFilesIO\u001b[0m\u001b[1;33m(\u001b[0m\u001b[0msave_loc_hdd\u001b[0m\u001b[1;33m)\u001b[0m\u001b[1;33m\u001b[0m\u001b[0m\n\u001b[1;32m----> 8\u001b[1;33m         \u001b[0mfiles_io\u001b[0m\u001b[1;33m.\u001b[0m\u001b[0msave_datasets\u001b[0m\u001b[1;33m(\u001b[0m\u001b[0msave_loc_hdf5\u001b[0m\u001b[1;33m,\u001b[0m \u001b[0mdatasets\u001b[0m\u001b[1;33m,\u001b[0m \u001b[0mdts_metadata\u001b[0m\u001b[1;33m)\u001b[0m\u001b[1;33m\u001b[0m\u001b[0m\n\u001b[0m\u001b[0;32m      9\u001b[0m \u001b[1;33m\u001b[0m\u001b[0m\n\u001b[0;32m     10\u001b[0m \u001b[1;33m\u001b[0m\u001b[0m\n",
      "\u001b[1;32mL:\\PhD\\ml_experiments\\mleap\\files_io.py\u001b[0m in \u001b[0;36msave_datasets\u001b[1;34m(self, save_loc_hdf5, datasets, dts_metadata, verbose)\u001b[0m\n\u001b[0;32m    136\u001b[0m             \u001b[0msave_loc\u001b[0m \u001b[1;33m=\u001b[0m \u001b[0msave_loc_hdf5\u001b[0m \u001b[1;33m+\u001b[0m \u001b[0mdts_name\u001b[0m\u001b[1;33m\u001b[0m\u001b[0m\n\u001b[0;32m    137\u001b[0m             \u001b[0mstore\u001b[0m\u001b[1;33m[\u001b[0m\u001b[0msave_loc\u001b[0m\u001b[1;33m]\u001b[0m \u001b[1;33m=\u001b[0m \u001b[0mdts\u001b[0m\u001b[1;33m[\u001b[0m\u001b[1;36m0\u001b[0m\u001b[1;33m]\u001b[0m\u001b[1;33m\u001b[0m\u001b[0m\n\u001b[1;32m--> 138\u001b[1;33m             \u001b[0mstore\u001b[0m\u001b[1;33m.\u001b[0m\u001b[0mget_storer\u001b[0m\u001b[1;33m(\u001b[0m\u001b[0mdts_name\u001b[0m\u001b[1;33m)\u001b[0m\u001b[1;33m.\u001b[0m\u001b[0mattrs\u001b[0m\u001b[1;33m.\u001b[0m\u001b[0mmetadata\u001b[0m \u001b[1;33m=\u001b[0m \u001b[0mdts\u001b[0m\u001b[1;33m[\u001b[0m\u001b[1;36m2\u001b[0m\u001b[1;33m]\u001b[0m\u001b[1;33m\u001b[0m\u001b[0m\n\u001b[0m\u001b[0;32m    139\u001b[0m         \u001b[0mstore\u001b[0m\u001b[1;33m.\u001b[0m\u001b[0mclose\u001b[0m\u001b[1;33m(\u001b[0m\u001b[1;33m)\u001b[0m\u001b[1;33m\u001b[0m\u001b[0m\n\u001b[0;32m    140\u001b[0m \u001b[1;33m\u001b[0m\u001b[0m\n",
      "\u001b[1;31mIndexError\u001b[0m: tuple index out of range"
     ]
    }
   ],
   "source": [
    "data = Data()\n",
    "data.pandas_to_db('delgado_datasets/', datasets, metadata, 'data/delgado.hdf5')"
   ]
  },
  {
   "cell_type": "markdown",
   "metadata": {
    "scrolled": false
   },
   "source": [
    " Run experiments on multiple datasets"
   ]
  },
  {
   "cell_type": "code",
   "execution_count": null,
   "metadata": {},
   "outputs": [],
   "source": [
    "from src.test_orchestrator import TestOrchestrator"
   ]
  },
  {
   "cell_type": "code",
   "execution_count": null,
   "metadata": {},
   "outputs": [],
   "source": [
    "files_io = FilesIO('data/orchestrator_test.hdf5')"
   ]
  },
  {
   "cell_type": "code",
   "execution_count": null,
   "metadata": {},
   "outputs": [],
   "source": [
    "#load datasets in pandas dataframes and save them in the hdf5 database\n",
    "abalone = arff.loadarff('Delgado_data/abalone/abalone.arff')\n",
    "abalone = pd.DataFrame(abalone[0])\n",
    "abalone['clase'] = pd.Series(abalone['clase'], dtype=int)\n",
    "\n",
    "wine_quality_red = arff.loadarff('Delgado_data/wine-quality-red/wine-quality-red.arff')\n",
    "wine_quality_red = pd.DataFrame(wine_quality_red[0])\n",
    "wine_quality_red['clase'] = pd.Series(wine_quality_red['clase'], dtype=int)\n",
    "\n",
    "wine_quality_white = arff.loadarff('Delgado_data/wine-quality-white/wine-quality-white.arff')\n",
    "wine_quality_white = pd.DataFrame(wine_quality_white[0])\n",
    "wine_quality_white['clase'] = pd.Series(wine_quality_white['clase'], dtype=int)\n",
    "\n",
    "metadata = [\n",
    "    {'class_name':'clase', 'dataset_name':'abalone'},\n",
    "    {'class_name':'clase', 'dataset_name':'wine_quality_red'},\n",
    "    {'class_name':'clase', 'dataset_name':'wine_quality_white'},       \n",
    "\n",
    "           ]\n",
    "files_io.save_datasets(datasets =[abalone, wine_quality_red,wine_quality_white ], \n",
    "                dataset_names=['abalone', 'wine_quality_red', 'wine_quality_white'], \n",
    "                dts_metadata=metadata)"
   ]
  },
  {
   "cell_type": "code",
   "execution_count": null,
   "metadata": {},
   "outputs": [],
   "source": [
    "#split datasets to train and test\n",
    "files_io.split_and_save(dataset_paths=['abalone', 'wine_quality_white', 'wine_quality_red'],\n",
    "                        save_loc ='split_datasets')"
   ]
  },
  {
   "cell_type": "code",
   "execution_count": null,
   "metadata": {},
   "outputs": [],
   "source": [
    "# instantiate machine learning strategies\n",
    "models_container = ModelsContainer()\n",
    "instantiated_models = models_container.instantiate_models(RandomForestClassifier=None, SVM=None, LogisticRegression=None)"
   ]
  },
  {
   "cell_type": "code",
   "execution_count": null,
   "metadata": {},
   "outputs": [],
   "source": [
    "#run experiments\n",
    "f = FilesIO('data/orchestrator_test.hdf5')\n",
    "datasets = files_io.list_datasets('split_datasets')\n",
    "experiments = RunExperiments()\n",
    "\n",
    "test_orchestrator = TestOrchestrator('split_datasets', files_io, experiments)\n",
    "test_orchestrator.run_experiments(datasets, instantiated_models)\n"
   ]
  },
  {
   "cell_type": "markdown",
   "metadata": {},
   "source": [
    "## Perfom Statistical tests"
   ]
  },
  {
   "cell_type": "code",
   "execution_count": null,
   "metadata": {
    "scrolled": true
   },
   "outputs": [],
   "source": [
    "analyze = AnalyseResults(files_io)\n",
    "t_test, t_test_df = analyze.perform_t_test()\n",
    "sign_test, sign_test_df2 = analyze.perform_sign_test()\n",
    "t_test_bonferroni, t_test_bonferroni_df = analyze.perform_t_test_with_bonferroni_correction()\n",
    "wilcoxon_test, wilcoxon_test_df = analyze.perform_wilcoxon()\n",
    "friedman_test, friedman_test_df = analyze.perform_friedman_test()"
   ]
  },
  {
   "cell_type": "markdown",
   "metadata": {},
   "source": [
    "## Run experiments for one dataset only"
   ]
  },
  {
   "cell_type": "code",
   "execution_count": null,
   "metadata": {},
   "outputs": [],
   "source": [
    "#load dataset\n",
    "abalone = arff.loadarff('Delgado_data/abalone/abalone.arff')\n",
    "abalone = pd.DataFrame(abalone[0])\n",
    "abalone['clase'] = pd.Series(abalone['clase'], dtype=int)"
   ]
  },
  {
   "cell_type": "code",
   "execution_count": null,
   "metadata": {},
   "outputs": [],
   "source": [
    "#create new instance of FilesIO class\n",
    "f = FilesIO('data/test.hdf5')"
   ]
  },
  {
   "cell_type": "code",
   "execution_count": null,
   "metadata": {
    "scrolled": true
   },
   "outputs": [],
   "source": [
    "#save original dataset in HDF5 database\n",
    "metadata = [\n",
    "    {'class_name':'clase', 'dataset_name':'abalone'},\n",
    "    {'class_name':'clase', 'dataset_name':'wine_quality'},       \n",
    "           ]\n",
    "f.save_datasets(datasets =[abalone], \n",
    "                dataset_names=['abalone'], \n",
    "                dts_metadata=metadata)"
   ]
  },
  {
   "cell_type": "code",
   "execution_count": null,
   "metadata": {},
   "outputs": [],
   "source": [
    "#create train / test split\n",
    "X_train, X_test, y_train, y_test = f.split_dataset('abalone', test_size=0.33)\n",
    "y_train = np.array(y_train, dtype=int).ravel()\n",
    "y_test = np.array(y_test, dtype=int).ravel()"
   ]
  },
  {
   "cell_type": "code",
   "execution_count": null,
   "metadata": {
    "scrolled": true
   },
   "outputs": [],
   "source": [
    "# optional: create train /test split and save to database\n",
    "#f.split_and_save(dataset_paths=['abalone','wine_quality'], save_loc='split_datasets')"
   ]
  },
  {
   "cell_type": "code",
   "execution_count": null,
   "metadata": {
    "scrolled": true
   },
   "outputs": [],
   "source": [
    "# instantiate machine learning strategies\n",
    "models_container = ModelsContainer()\n",
    "instantiated_models = models_container.instantiate_models(RandomForestClassifier=None, SVM=None)"
   ]
  },
  {
   "cell_type": "code",
   "execution_count": null,
   "metadata": {},
   "outputs": [],
   "source": [
    "#run machine learning experiments\n",
    "experiments = RunExperiments()\n",
    "trained_models, _ = experiments.run_experiments( X_train=X_train, \n",
    "                                                y_train=y_train, \n",
    "                                                model_container=instantiated_models)"
   ]
  }
 ],
 "metadata": {
  "kernelspec": {
   "display_name": "Python 3",
   "language": "python",
   "name": "python3"
  },
  "language_info": {
   "codemirror_mode": {
    "name": "ipython",
    "version": 3
   },
   "file_extension": ".py",
   "mimetype": "text/x-python",
   "name": "python",
   "nbconvert_exporter": "python",
   "pygments_lexer": "ipython3",
   "version": "3.6.3"
  }
 },
 "nbformat": 4,
 "nbformat_minor": 2
}
