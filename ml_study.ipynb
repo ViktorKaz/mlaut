{
 "cells": [
  {
   "cell_type": "code",
   "execution_count": 1,
   "metadata": {},
   "outputs": [],
   "source": [
    "from src.files_io import FilesIO\n",
    "from src.static_variables import HDF5_DATA_FILENAME\n",
    "import pandas as pd\n",
    "from sklearn.model_selection import train_test_split"
   ]
  },
  {
   "cell_type": "code",
   "execution_count": 2,
   "metadata": {
    "scrolled": true
   },
   "outputs": [],
   "source": [
    "files_io = FilesIO(HDF5_DATA_FILENAME)"
   ]
  },
  {
   "cell_type": "code",
   "execution_count": 10,
   "metadata": {},
   "outputs": [],
   "source": [
    "ll = ['test', 'best', 'guest']\n",
    "str_append = 'ne/'\n",
    "\n",
    "ll = [str_append + l for l in ll]"
   ]
  },
  {
   "cell_type": "code",
   "execution_count": 15,
   "metadata": {},
   "outputs": [
    {
     "data": {
      "text/plain": [
       "[{'source': 'deg'}, {'source': 'deg'}, {'source': 'deg'}, {'source': 'deg'}]"
      ]
     },
     "execution_count": 15,
     "metadata": {},
     "output_type": "execute_result"
    }
   ],
   "source": [
    "meta = []\n",
    "t = {'source': 'deg'}\n",
    "\n",
    "meta = [t]*4\n",
    "meta"
   ]
  },
  {
   "cell_type": "code",
   "execution_count": 3,
   "metadata": {
    "scrolled": true
   },
   "outputs": [
    {
     "data": {
      "text/plain": [
       "['reformatted_datasets/abalone',\n",
       " 'reformatted_datasets/acute_inflammation',\n",
       " 'reformatted_datasets/acute_nephritis',\n",
       " 'reformatted_datasets/adult',\n",
       " 'reformatted_datasets/annealing',\n",
       " 'reformatted_datasets/arrhythmia',\n",
       " 'reformatted_datasets/audiology_std',\n",
       " 'reformatted_datasets/balance_scale',\n",
       " 'reformatted_datasets/balloons',\n",
       " 'reformatted_datasets/bank',\n",
       " 'reformatted_datasets/blood',\n",
       " 'reformatted_datasets/breast_cancer',\n",
       " 'reformatted_datasets/breast_cancer_wisc',\n",
       " 'reformatted_datasets/breast_cancer_wisc_diag',\n",
       " 'reformatted_datasets/breast_cancer_wisc_prog',\n",
       " 'reformatted_datasets/breast_tissue',\n",
       " 'reformatted_datasets/car',\n",
       " 'reformatted_datasets/cardiotocography_10clases',\n",
       " 'reformatted_datasets/cardiotocography_3clases',\n",
       " 'reformatted_datasets/chess_krvk',\n",
       " 'reformatted_datasets/chess_krvkp',\n",
       " 'reformatted_datasets/congressional_voting',\n",
       " 'reformatted_datasets/conn_bench_sonar_mines_rocks',\n",
       " 'reformatted_datasets/conn_bench_vowel_deterding',\n",
       " 'reformatted_datasets/connect_4',\n",
       " 'reformatted_datasets/contrac',\n",
       " 'reformatted_datasets/credit_approval',\n",
       " 'reformatted_datasets/cylinder_bands',\n",
       " 'reformatted_datasets/dermatology',\n",
       " 'reformatted_datasets/echocardiogram',\n",
       " 'reformatted_datasets/ecoli',\n",
       " 'reformatted_datasets/energy_y1',\n",
       " 'reformatted_datasets/energy_y2',\n",
       " 'reformatted_datasets/fertility',\n",
       " 'reformatted_datasets/flags',\n",
       " 'reformatted_datasets/glass',\n",
       " 'reformatted_datasets/haberman_survival',\n",
       " 'reformatted_datasets/hayes_roth',\n",
       " 'reformatted_datasets/heart_cleveland',\n",
       " 'reformatted_datasets/heart_hungarian',\n",
       " 'reformatted_datasets/heart_switzerland',\n",
       " 'reformatted_datasets/heart_va',\n",
       " 'reformatted_datasets/hepatitis',\n",
       " 'reformatted_datasets/hill_valley',\n",
       " 'reformatted_datasets/horse_colic',\n",
       " 'reformatted_datasets/ilpd_indian_liver',\n",
       " 'reformatted_datasets/image_segmentation',\n",
       " 'reformatted_datasets/ionosphere',\n",
       " 'reformatted_datasets/iris',\n",
       " 'reformatted_datasets/led_display',\n",
       " 'reformatted_datasets/lenses',\n",
       " 'reformatted_datasets/letter',\n",
       " 'reformatted_datasets/libras',\n",
       " 'reformatted_datasets/low_res_spect',\n",
       " 'reformatted_datasets/lung_cancer',\n",
       " 'reformatted_datasets/lymphography',\n",
       " 'reformatted_datasets/magic',\n",
       " 'reformatted_datasets/mammographic',\n",
       " 'reformatted_datasets/miniboone',\n",
       " 'reformatted_datasets/molec_biol_promoter',\n",
       " 'reformatted_datasets/molec_biol_splice',\n",
       " 'reformatted_datasets/monks_1',\n",
       " 'reformatted_datasets/monks_2',\n",
       " 'reformatted_datasets/monks_3',\n",
       " 'reformatted_datasets/mushroom',\n",
       " 'reformatted_datasets/musk_1',\n",
       " 'reformatted_datasets/musk_2',\n",
       " 'reformatted_datasets/nursery',\n",
       " 'reformatted_datasets/oocytes_merluccius_nucleus_4d',\n",
       " 'reformatted_datasets/oocytes_merluccius_states_2f',\n",
       " 'reformatted_datasets/oocytes_trisopterus_nucleus_2f',\n",
       " 'reformatted_datasets/oocytes_trisopterus_states_5b',\n",
       " 'reformatted_datasets/optical',\n",
       " 'reformatted_datasets/ozone',\n",
       " 'reformatted_datasets/page_blocks',\n",
       " 'reformatted_datasets/parkinsons',\n",
       " 'reformatted_datasets/pendigits',\n",
       " 'reformatted_datasets/pima',\n",
       " 'reformatted_datasets/pittsburg_bridges_MATERIAL',\n",
       " 'reformatted_datasets/pittsburg_bridges_REL_L',\n",
       " 'reformatted_datasets/pittsburg_bridges_SPAN',\n",
       " 'reformatted_datasets/pittsburg_bridges_TYPE',\n",
       " 'reformatted_datasets/pittsburg_bridges_T_OR_D',\n",
       " 'reformatted_datasets/planning',\n",
       " 'reformatted_datasets/plant_margin',\n",
       " 'reformatted_datasets/plant_shape',\n",
       " 'reformatted_datasets/plant_texture',\n",
       " 'reformatted_datasets/post_operative',\n",
       " 'reformatted_datasets/primary_tumor',\n",
       " 'reformatted_datasets/ringnorm',\n",
       " 'reformatted_datasets/seeds',\n",
       " 'reformatted_datasets/semeion',\n",
       " 'reformatted_datasets/soybean',\n",
       " 'reformatted_datasets/spambase',\n",
       " 'reformatted_datasets/spect',\n",
       " 'reformatted_datasets/spectf',\n",
       " 'reformatted_datasets/statlog_australian_credit',\n",
       " 'reformatted_datasets/statlog_german_credit',\n",
       " 'reformatted_datasets/statlog_heart',\n",
       " 'reformatted_datasets/statlog_image',\n",
       " 'reformatted_datasets/statlog_landsat',\n",
       " 'reformatted_datasets/statlog_shuttle',\n",
       " 'reformatted_datasets/statlog_vehicle',\n",
       " 'reformatted_datasets/steel_plates',\n",
       " 'reformatted_datasets/synthetic_control',\n",
       " 'reformatted_datasets/teaching',\n",
       " 'reformatted_datasets/thyroid',\n",
       " 'reformatted_datasets/tic_tac_toe',\n",
       " 'reformatted_datasets/titanic',\n",
       " 'reformatted_datasets/trains',\n",
       " 'reformatted_datasets/twonorm',\n",
       " 'reformatted_datasets/vertebral_column_2clases',\n",
       " 'reformatted_datasets/vertebral_column_3clases',\n",
       " 'reformatted_datasets/wall_following',\n",
       " 'reformatted_datasets/waveform',\n",
       " 'reformatted_datasets/waveform_noise',\n",
       " 'reformatted_datasets/wine',\n",
       " 'reformatted_datasets/wine_quality_red',\n",
       " 'reformatted_datasets/wine_quality_white',\n",
       " 'reformatted_datasets/yeast',\n",
       " 'reformatted_datasets/zoo']"
      ]
     },
     "execution_count": 3,
     "metadata": {},
     "output_type": "execute_result"
    }
   ],
   "source": [
    "files_io.list_datasets()"
   ]
  },
  {
   "cell_type": "code",
   "execution_count": 4,
   "metadata": {},
   "outputs": [],
   "source": [
    "dts, meta = files_io.load_dataset('reformatted_datasets/zoo')"
   ]
  },
  {
   "cell_type": "code",
   "execution_count": 5,
   "metadata": {},
   "outputs": [],
   "source": [
    "class_name = meta['class_name']\n",
    "y = dts[class_name]\n",
    "X = dts.loc[:, dts.columns != class_name]"
   ]
  },
  {
   "cell_type": "code",
   "execution_count": 6,
   "metadata": {},
   "outputs": [],
   "source": [
    "X_train, X_test, y_train, y_test = train_test_split(\n",
    "X, y, test_size=0.33, random_state=42)"
   ]
  },
  {
   "cell_type": "code",
   "execution_count": 7,
   "metadata": {},
   "outputs": [
    {
     "data": {
      "text/plain": [
       "84    0\n",
       "55    0\n",
       "66    0\n",
       "67    0\n",
       "45    0\n",
       "39    5\n",
       "22    0\n",
       "44    0\n",
       "10    0\n",
       "0     0\n",
       "18    3\n",
       "30    5\n",
       "97    5\n",
       "33    1\n",
       "77    6\n",
       "4     0\n",
       "93    0\n",
       "78    1\n",
       "12    3\n",
       "31    0\n",
       "76    2\n",
       "89    4\n",
       "26    4\n",
       "42    5\n",
       "70    0\n",
       "15    6\n",
       "40    5\n",
       "72    6\n",
       "9     0\n",
       "96    0\n",
       "11    1\n",
       "91    2\n",
       "64    0\n",
       "28    0\n",
       "Name: clase, dtype: int64"
      ]
     },
     "execution_count": 7,
     "metadata": {},
     "output_type": "execute_result"
    }
   ],
   "source": [
    "y_test"
   ]
  }
 ],
 "metadata": {
  "kernelspec": {
   "display_name": "Python 3",
   "language": "python",
   "name": "python3"
  },
  "language_info": {
   "codemirror_mode": {
    "name": "ipython",
    "version": 3
   },
   "file_extension": ".py",
   "mimetype": "text/x-python",
   "name": "python",
   "nbconvert_exporter": "python",
   "pygments_lexer": "ipython3",
   "version": "3.6.3"
  }
 },
 "nbformat": 4,
 "nbformat_minor": 2
}
