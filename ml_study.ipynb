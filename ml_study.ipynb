{
 "cells": [
  {
   "cell_type": "code",
   "execution_count": 1,
   "metadata": {},
   "outputs": [],
   "source": [
    "from src.static_variables import (HDF5_DATA_FILENAME, X_TRAIN_DIR, X_TEST_DIR, Y_TRAIN_DIR, Y_TEST_DIR, SPLIT_DATASETS_DIR)\n",
    "import numpy as np\n",
    "import pandas as pd\n",
    "from sklearn.model_selection import train_test_split\n",
    "import h5py\n",
    "import pickle\n",
    "from scipy.io import arff\n",
    "from src.run_experiments import RunExperiments"
   ]
  },
  {
   "cell_type": "code",
   "execution_count": 2,
   "metadata": {},
   "outputs": [],
   "source": [
    "from src.files_io import FilesIO\n",
    "from src.models_container import ModelsContainer"
   ]
  },
  {
   "cell_type": "code",
   "execution_count": null,
   "metadata": {},
   "outputs": [],
   "source": [
    "#load dataset\n",
    "abalone = arff.loadarff('Delgado_data/abalone/abalone.arff')\n",
    "abalone = pd.DataFrame(abalone[0])\n",
    "wine_quality = arff.loadarff('Delgado_data/wine-quality-red/wine-quality-red.arff')\n",
    "wine_quality = pd.DataFrame(wine_quality[0])"
   ]
  },
  {
   "cell_type": "code",
   "execution_count": null,
   "metadata": {},
   "outputs": [],
   "source": [
    "#create new instance of FilesIO class\n",
    "f = FilesIO('data/test.hdf5')"
   ]
  },
  {
   "cell_type": "code",
   "execution_count": null,
   "metadata": {
    "scrolled": true
   },
   "outputs": [],
   "source": [
    "#save original dataset in HDF5 database\n",
    "metadata = [\n",
    "    {'class_name':'clase', 'dataset_name':'abalone'},\n",
    "    {'class_name':'clase', 'dataset_name':'wine_quality'},       \n",
    "           ]\n",
    "f.save_datasets(datasets =[abalone, wine_quality], \n",
    "                dataset_names=['abalone','wine_quality'], \n",
    "                dts_metadata=metadata)"
   ]
  },
  {
   "cell_type": "code",
   "execution_count": null,
   "metadata": {
    "scrolled": false
   },
   "outputs": [],
   "source": [
    "#create train /test split and save to database\n",
    "f.split_and_save(dataset_paths=['abalone','wine_quality'], save_loc='split_datasets')\n",
    "\n",
    "#alternative split without saving to database\n",
    "X_train, X_test, y_train, y_test = f.split_dataset('abalone', test_size=0.33)"
   ]
  },
  {
   "cell_type": "code",
   "execution_count": 4,
   "metadata": {
    "scrolled": true
   },
   "outputs": [],
   "source": [
    "models_container = ModelsContainer()\n",
    "experiments = RunExperiments()"
   ]
  },
  {
   "cell_type": "code",
   "execution_count": 5,
   "metadata": {},
   "outputs": [
    {
     "data": {
      "text/plain": [
       "[['RandomForestClassifier', GridSearchCV(cv=None, error_score='raise',\n",
       "         estimator=RandomForestClassifier(bootstrap=True, class_weight=None, criterion='gini',\n",
       "              max_depth=None, max_features='auto', max_leaf_nodes=None,\n",
       "              min_impurity_decrease=0.0, min_impurity_split=None,\n",
       "              min_samples_leaf=1, min_samples_split=2,\n",
       "              min_weight_fraction_leaf=0.0, n_estimators=10, n_jobs=1,\n",
       "              oob_score=False, random_state=None, verbose=0,\n",
       "              warm_start=False),\n",
       "         fit_params=None, iid=True, n_jobs=1,\n",
       "         param_grid={'n_estimators': [10, 20, 30], 'max_features': ['auto', 'sqrt', 'log2', None], 'max_depth': [5, 15, None]},\n",
       "         pre_dispatch='2*n_jobs', refit=True, return_train_score='warn',\n",
       "         scoring=None, verbose=1)],\n",
       " ['RandomForestClassifier', GridSearchCV(cv=None, error_score='raise',\n",
       "         estimator=RandomForestClassifier(bootstrap=True, class_weight=None, criterion='gini',\n",
       "              max_depth=None, max_features='auto', max_leaf_nodes=None,\n",
       "              min_impurity_decrease=0.0, min_impurity_split=None,\n",
       "              min_samples_leaf=1, min_samples_split=2,\n",
       "              min_weight_fraction_leaf=0.0, n_estimators=10, n_jobs=1,\n",
       "              oob_score=False, random_state=None, verbose=0,\n",
       "              warm_start=False),\n",
       "         fit_params=None, iid=True, n_jobs=1,\n",
       "         param_grid={'n_estimators': [10, 20, 30], 'max_features': ['auto', 'sqrt', 'log2', None], 'max_depth': [5, 15, None]},\n",
       "         pre_dispatch='2*n_jobs', refit=True, return_train_score='warn',\n",
       "         scoring=None, verbose=1)],\n",
       " ['SVM', GridSearchCV(cv=None, error_score='raise',\n",
       "         estimator=SVC(C=1.0, cache_size=200, class_weight=None, coef0=0.0,\n",
       "    decision_function_shape='ovr', degree=3, gamma='auto', kernel='rbf',\n",
       "    max_iter=-1, probability=False, random_state=None, shrinking=True,\n",
       "    tol=0.001, verbose=False),\n",
       "         fit_params=None, iid=True, n_jobs=1,\n",
       "         param_grid={'C': [1e-06, 1], 'gamma': [0.001, 1]},\n",
       "         pre_dispatch='2*n_jobs', refit=True, return_train_score='warn',\n",
       "         scoring=None, verbose=1)]]"
      ]
     },
     "execution_count": 5,
     "metadata": {},
     "output_type": "execute_result"
    }
   ],
   "source": [
    "#example to instantiate models\n",
    "instantiated_models = models_container.instantiate_models(RandomForestClassifier=None, SVM=None)"
   ]
  },
  {
   "cell_type": "code",
   "execution_count": null,
   "metadata": {
    "scrolled": false
   },
   "outputs": [],
   "source": [
    "modelling_strategies = models_container.create_models()\n",
    "trained_models, _ = experiments.run_experiments( X_train=X_train, y_train=np.array(y_train, dtype=int), model_container=modelling_strategies)"
   ]
  }
 ],
 "metadata": {
  "kernelspec": {
   "display_name": "Python 3",
   "language": "python",
   "name": "python3"
  },
  "language_info": {
   "codemirror_mode": {
    "name": "ipython",
    "version": 3
   },
   "file_extension": ".py",
   "mimetype": "text/x-python",
   "name": "python",
   "nbconvert_exporter": "python",
   "pygments_lexer": "ipython3",
   "version": "3.6.3"
  }
 },
 "nbformat": 4,
 "nbformat_minor": 2
}
