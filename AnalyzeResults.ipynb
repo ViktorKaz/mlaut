{
 "cells": [
  {
   "cell_type": "code",
   "execution_count": 1,
   "metadata": {
    "scrolled": false
   },
   "outputs": [
    {
     "name": "stderr",
     "output_type": "stream",
     "text": [
      "/media/viktor/Data/PhD/mlaut/py36/local/lib/python3.6/site-packages/h5py/__init__.py:36: FutureWarning: Conversion of the second argument of issubdtype from `float` to `np.floating` is deprecated. In future, it will be treated as `np.float64 == np.dtype(float).type`.\n",
      "  from ._conv import register_converters as _register_converters\n"
     ]
    }
   ],
   "source": [
    "from mlaut.analyze_results import AnalyseResults\n",
    "from mlaut.data import Data\n",
    "import pandas as pd\n",
    "from mlaut.estimators.estimators import instantiate_default_estimators\n",
    "from mlaut.analyze_results.scores import ScoreAccuracy\n",
    "\n",
    "import matplotlib.pyplot as plt\n",
    "pd.options.display.max_rows = 1000"
   ]
  },
  {
   "cell_type": "code",
   "execution_count": 2,
   "metadata": {},
   "outputs": [],
   "source": [
    "data = Data()\n",
    "input_io = data.open_hdf5('data/openml.h5', mode='r')\n",
    "out_io = data.open_hdf5('data/openml-classification.h5', mode='a')\n",
    "analyze = AnalyseResults(hdf5_output_io=out_io, \n",
    "                        hdf5_input_io=input_io, \n",
    "                        input_h5_original_datasets_group='openml/', \n",
    "                        output_h5_predictions_group='experiments/predictions/')\n"
   ]
  },
  {
   "cell_type": "markdown",
   "metadata": {},
   "source": [
    "### All datasets"
   ]
  },
  {
   "cell_type": "code",
   "execution_count": 3,
   "metadata": {},
   "outputs": [],
   "source": [
    "estimators = instantiate_default_estimators(['BaselineClassifier','NeuralNetworkDeepClassifier','K_Neighbours'])\n",
    "score_accuracy = ScoreAccuracy()\n",
    "\n",
    "# (errors_per_estimator, \n",
    "#  errors_per_dataset_per_estimator) = analyze.prediction_errors(metric=score_accuracy, estimators=estimators)\n",
    " \n",
    "(errors_per_estimator, \n",
    " errors_per_dataset_per_estimator, \n",
    " errors_per_dataset_per_estimator_df) = analyze.prediction_errors(score_accuracy, estimators)"
   ]
  },
  {
   "cell_type": "markdown",
   "metadata": {},
   "source": [
    "#### Simple average and standard error"
   ]
  },
  {
   "cell_type": "code",
   "execution_count": 4,
   "metadata": {
    "scrolled": true
   },
   "outputs": [
    {
     "data": {
      "text/html": [
       "<div>\n",
       "<style scoped>\n",
       "    .dataframe tbody tr th:only-of-type {\n",
       "        vertical-align: middle;\n",
       "    }\n",
       "\n",
       "    .dataframe tbody tr th {\n",
       "        vertical-align: top;\n",
       "    }\n",
       "\n",
       "    .dataframe thead th {\n",
       "        text-align: right;\n",
       "    }\n",
       "</style>\n",
       "<table border=\"1\" class=\"dataframe\">\n",
       "  <thead>\n",
       "    <tr style=\"text-align: right;\">\n",
       "      <th></th>\n",
       "      <th>avg_score</th>\n",
       "      <th>std_error</th>\n",
       "    </tr>\n",
       "  </thead>\n",
       "  <tbody>\n",
       "    <tr>\n",
       "      <th>NeuralNetworkDeepClassifier</th>\n",
       "      <td>0.489310</td>\n",
       "      <td>0.069318</td>\n",
       "    </tr>\n",
       "    <tr>\n",
       "      <th>BaselineClassifier</th>\n",
       "      <td>0.565476</td>\n",
       "      <td>0.030917</td>\n",
       "    </tr>\n",
       "    <tr>\n",
       "      <th>K_Neighbours</th>\n",
       "      <td>0.917092</td>\n",
       "      <td>0.009172</td>\n",
       "    </tr>\n",
       "  </tbody>\n",
       "</table>\n",
       "</div>"
      ],
      "text/plain": [
       "                             avg_score  std_error\n",
       "NeuralNetworkDeepClassifier   0.489310   0.069318\n",
       "BaselineClassifier            0.565476   0.030917\n",
       "K_Neighbours                  0.917092   0.009172"
      ]
     },
     "execution_count": 4,
     "metadata": {},
     "output_type": "execute_result"
    }
   ],
   "source": [
    "avg_and_std_error = analyze.average_and_std_error(errors_per_estimator)\n",
    "# avg_and_std_error.index.name='Estimator Name'\n",
    "avg_and_std_error"
   ]
  },
  {
   "cell_type": "markdown",
   "metadata": {},
   "source": [
    "#### Average Rank"
   ]
  },
  {
   "cell_type": "code",
   "execution_count": null,
   "metadata": {
    "scrolled": false
   },
   "outputs": [],
   "source": [
    "avg_rank = analyze.ranks(errors_per_estimator, ascending=False)\n",
    "avg_rank"
   ]
  },
  {
   "cell_type": "markdown",
   "metadata": {},
   "source": [
    "#### Training time"
   ]
  },
  {
   "cell_type": "code",
   "execution_count": null,
   "metadata": {
    "scrolled": true
   },
   "outputs": [],
   "source": [
    "avg_training_time, trainig_time_per_dataset = analyze.average_training_time(estimators)\n",
    "avg_training_time"
   ]
  },
  {
   "cell_type": "markdown",
   "metadata": {},
   "source": [
    "#### merge avg score, rank and training time"
   ]
  },
  {
   "cell_type": "code",
   "execution_count": null,
   "metadata": {},
   "outputs": [],
   "source": [
    "avg_metrics = pd.DataFrame.merge(avg_rank,avg_and_std_error, left_index=True, right_index=True)\n",
    "avg_metrics = pd.DataFrame.merge(avg_metrics, avg_training_time,left_index=True, right_index=True)\n",
    "avg_metrics\n"
   ]
  },
  {
   "cell_type": "markdown",
   "metadata": {},
   "source": [
    "#### Cohen's d"
   ]
  },
  {
   "cell_type": "code",
   "execution_count": null,
   "metadata": {
    "scrolled": true
   },
   "outputs": [],
   "source": [
    "cohens_d = analyze.cohens_d(errors_per_estimator)\n",
    "cohens_d"
   ]
  },
  {
   "cell_type": "markdown",
   "metadata": {},
   "source": [
    "#### t-test"
   ]
  },
  {
   "cell_type": "code",
   "execution_count": null,
   "metadata": {
    "scrolled": true
   },
   "outputs": [],
   "source": [
    "t_test, t_test_df = analyze.t_test(errors_per_estimator)\n",
    "t_test_df"
   ]
  },
  {
   "cell_type": "markdown",
   "metadata": {},
   "source": [
    "#### sign test"
   ]
  },
  {
   "cell_type": "code",
   "execution_count": null,
   "metadata": {},
   "outputs": [],
   "source": [
    "sign_test, sign_test_df = analyze.sign_test(errors_per_estimator)\n",
    "sign_test_df"
   ]
  },
  {
   "cell_type": "markdown",
   "metadata": {},
   "source": [
    "#### t-test with Bonferroni correction"
   ]
  },
  {
   "cell_type": "code",
   "execution_count": null,
   "metadata": {
    "scrolled": true
   },
   "outputs": [],
   "source": [
    "t_test_bonferroni_df = analyze.t_test_with_bonferroni_correction(errors_per_estimator)\n",
    "t_test_bonferroni_df"
   ]
  },
  {
   "cell_type": "markdown",
   "metadata": {},
   "source": [
    "#### Wilcoxon test"
   ]
  },
  {
   "cell_type": "code",
   "execution_count": null,
   "metadata": {
    "scrolled": true
   },
   "outputs": [],
   "source": [
    "_, wilcoxon_df_multiindex = analyze.wilcoxon_test(errors_per_estimator)\n",
    "wilcoxon_df_multiindex"
   ]
  },
  {
   "cell_type": "markdown",
   "metadata": {},
   "source": [
    "#### Friedman test"
   ]
  },
  {
   "cell_type": "code",
   "execution_count": null,
   "metadata": {},
   "outputs": [],
   "source": [
    "friedman_test, friedman_test_df = analyze.friedman_test(errors_per_estimator)\n",
    "friedman_test_df"
   ]
  },
  {
   "cell_type": "code",
   "execution_count": null,
   "metadata": {
    "scrolled": true
   },
   "outputs": [],
   "source": [
    "nemeniy_test = analyze.nemenyi(errors_per_estimator)\n",
    "nemeniy_test_df = pd.DataFrame(nemeniy_test)\n",
    "nemeniy_test_df"
   ]
  },
  {
   "cell_type": "markdown",
   "metadata": {},
   "source": [
    "### Per dataset"
   ]
  },
  {
   "cell_type": "code",
   "execution_count": 5,
   "metadata": {
    "scrolled": false
   },
   "outputs": [
    {
     "data": {
      "text/html": [
       "<div>\n",
       "<style scoped>\n",
       "    .dataframe tbody tr th:only-of-type {\n",
       "        vertical-align: middle;\n",
       "    }\n",
       "\n",
       "    .dataframe tbody tr th {\n",
       "        vertical-align: top;\n",
       "    }\n",
       "\n",
       "    .dataframe thead th {\n",
       "        text-align: right;\n",
       "    }\n",
       "</style>\n",
       "<table border=\"1\" class=\"dataframe\">\n",
       "  <thead>\n",
       "    <tr style=\"text-align: right;\">\n",
       "      <th></th>\n",
       "      <th></th>\n",
       "      <th>loss</th>\n",
       "      <th>std</th>\n",
       "    </tr>\n",
       "  </thead>\n",
       "  <tbody>\n",
       "    <tr>\n",
       "      <th rowspan=\"3\" valign=\"top\">AP_Breast_Colon</th>\n",
       "      <th>BaselineClassifier</th>\n",
       "      <td>0.524038</td>\n",
       "      <td>0.034629</td>\n",
       "    </tr>\n",
       "    <tr>\n",
       "      <th>K_Neighbours</th>\n",
       "      <td>0.086538</td>\n",
       "      <td>0.019495</td>\n",
       "    </tr>\n",
       "    <tr>\n",
       "      <th>NeuralNetworkDeepClassifier</th>\n",
       "      <td>0.528846</td>\n",
       "      <td>0.034611</td>\n",
       "    </tr>\n",
       "    <tr>\n",
       "      <th rowspan=\"3\" valign=\"top\">AP_Breast_Kidney</th>\n",
       "      <th>BaselineClassifier</th>\n",
       "      <td>0.435000</td>\n",
       "      <td>0.035055</td>\n",
       "    </tr>\n",
       "    <tr>\n",
       "      <th>K_Neighbours</th>\n",
       "      <td>0.045000</td>\n",
       "      <td>0.014659</td>\n",
       "    </tr>\n",
       "    <tr>\n",
       "      <th>NeuralNetworkDeepClassifier</th>\n",
       "      <td>0.410000</td>\n",
       "      <td>0.034778</td>\n",
       "    </tr>\n",
       "    <tr>\n",
       "      <th rowspan=\"3\" valign=\"top\">AP_Breast_Lung</th>\n",
       "      <th>BaselineClassifier</th>\n",
       "      <td>0.391026</td>\n",
       "      <td>0.039070</td>\n",
       "    </tr>\n",
       "    <tr>\n",
       "      <th>K_Neighbours</th>\n",
       "      <td>0.083333</td>\n",
       "      <td>0.022129</td>\n",
       "    </tr>\n",
       "    <tr>\n",
       "      <th>NeuralNetworkDeepClassifier</th>\n",
       "      <td>0.506410</td>\n",
       "      <td>0.040029</td>\n",
       "    </tr>\n",
       "    <tr>\n",
       "      <th rowspan=\"3\" valign=\"top\">AP_Breast_Omentum</th>\n",
       "      <th>BaselineClassifier</th>\n",
       "      <td>0.330935</td>\n",
       "      <td>0.039912</td>\n",
       "    </tr>\n",
       "    <tr>\n",
       "      <th>K_Neighbours</th>\n",
       "      <td>0.093525</td>\n",
       "      <td>0.024696</td>\n",
       "    </tr>\n",
       "    <tr>\n",
       "      <th>NeuralNetworkDeepClassifier</th>\n",
       "      <td>0.784173</td>\n",
       "      <td>0.034894</td>\n",
       "    </tr>\n",
       "    <tr>\n",
       "      <th rowspan=\"3\" valign=\"top\">AP_Breast_Ovary</th>\n",
       "      <th>BaselineClassifier</th>\n",
       "      <td>0.491620</td>\n",
       "      <td>0.037367</td>\n",
       "    </tr>\n",
       "    <tr>\n",
       "      <th>K_Neighbours</th>\n",
       "      <td>0.106145</td>\n",
       "      <td>0.023023</td>\n",
       "    </tr>\n",
       "    <tr>\n",
       "      <th>NeuralNetworkDeepClassifier</th>\n",
       "      <td>0.324022</td>\n",
       "      <td>0.034981</td>\n",
       "    </tr>\n",
       "  </tbody>\n",
       "</table>\n",
       "</div>"
      ],
      "text/plain": [
       "                                                   loss       std\n",
       "AP_Breast_Colon   BaselineClassifier           0.524038  0.034629\n",
       "                  K_Neighbours                 0.086538  0.019495\n",
       "                  NeuralNetworkDeepClassifier  0.528846  0.034611\n",
       "AP_Breast_Kidney  BaselineClassifier           0.435000  0.035055\n",
       "                  K_Neighbours                 0.045000  0.014659\n",
       "                  NeuralNetworkDeepClassifier  0.410000  0.034778\n",
       "AP_Breast_Lung    BaselineClassifier           0.391026  0.039070\n",
       "                  K_Neighbours                 0.083333  0.022129\n",
       "                  NeuralNetworkDeepClassifier  0.506410  0.040029\n",
       "AP_Breast_Omentum BaselineClassifier           0.330935  0.039912\n",
       "                  K_Neighbours                 0.093525  0.024696\n",
       "                  NeuralNetworkDeepClassifier  0.784173  0.034894\n",
       "AP_Breast_Ovary   BaselineClassifier           0.491620  0.037367\n",
       "                  K_Neighbours                 0.106145  0.023023\n",
       "                  NeuralNetworkDeepClassifier  0.324022  0.034981"
      ]
     },
     "execution_count": 5,
     "metadata": {},
     "output_type": "execute_result"
    }
   ],
   "source": [
    "errors_per_dataset_per_estimator_df"
   ]
  },
  {
   "cell_type": "markdown",
   "metadata": {},
   "source": [
    "## Save tables to $\\LaTeX$"
   ]
  },
  {
   "cell_type": "code",
   "execution_count": null,
   "metadata": {},
   "outputs": [],
   "source": [
    "#average and standard error\n",
    "with open('../mlaut_paper/tables/avg_and_st_error.tex', 'w') as tf:\n",
    "    tf.write(avg_and_std_error.to_latex())\n",
    "    \n",
    "#average rank\n",
    "with open('../mlaut_paper/tables/avg_rank.tex', 'w') as tf:\n",
    "    tf.write(avg_rank.to_latex())\n",
    "\n",
    "#average metrics\n",
    "with open('../mlaut_paper/tables/avg_metrics.tex', 'w') as tf:\n",
    "    tf.write(avg_metrics.to_latex())\n",
    "#Cohen's D\n",
    "with open('../mlaut_paper/tables/cohens_d.tex', 'w') as tf:\n",
    "    tf.write(cohens_d.to_latex())\n",
    "#t-test\n",
    "with open('../mlaut_paper/tables/t_test.tex', 'w') as tf:\n",
    "    tf.write(t_test_df.to_latex())\n",
    "with open('../mlaut_paper/tables/t_test_bonferroni.tex', 'w') as tf:\n",
    "    tf.write(t_test_bonferroni_df.to_latex())\n",
    "#sign test\n",
    "with open('../mlaut_paper/tables/sign_test.tex', 'w') as tf:\n",
    "    tf.write(sign_test_df.to_latex())\n",
    "#t-test with Bonferroni correction\n",
    "with open('../mlaut_paper/tables/t_test_bonferroni.tex', 'w') as tf:\n",
    "    tf.write(t_test_bonferroni_df.to_latex())\n",
    "#Wilcoxon\n",
    "with open('../mlaut_paper/tables/wilxocon_test.tex', 'w') as tf:\n",
    "    tf.write(wilcoxon_df_multiindex.to_latex())\n",
    "#Friedman test\n",
    "with open('../mlaut_paper/tables/friedman_test.tex', 'w') as tf:\n",
    "    tf.write(friedman_test_df.to_latex())\n",
    "#Nemeniy test\n",
    "with open('../mlaut_paper/tables/nemeniy_test.tex', 'w') as tf:\n",
    "    tf.write(nemeniy_test_df.to_latex())\n",
    "#Errors per dataset per estimator\n",
    "with open('../mlaut_paper/tables/errors_per_dataset_per_estimator.tex', 'w') as tf:\n",
    "    tf.write(errors_per_dataset_per_estimator_df.to_latex())"
   ]
  }
 ],
 "metadata": {
  "kernelspec": {
   "display_name": "Python 3",
   "language": "python",
   "name": "python3"
  },
  "language_info": {
   "codemirror_mode": {
    "name": "ipython",
    "version": 3
   },
   "file_extension": ".py",
   "mimetype": "text/x-python",
   "name": "python",
   "nbconvert_exporter": "python",
   "pygments_lexer": "ipython3",
   "version": "3.6.3"
  }
 },
 "nbformat": 4,
 "nbformat_minor": 2
}
