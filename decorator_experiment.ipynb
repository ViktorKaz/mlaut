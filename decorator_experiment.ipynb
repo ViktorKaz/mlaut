{
 "cells": [
  {
   "cell_type": "code",
   "execution_count": 1,
   "metadata": {
    "scrolled": false
   },
   "outputs": [
    {
     "name": "stderr",
     "output_type": "stream",
     "text": [
      "/media/viktor/Data/PhD/mlaut/py36/local/lib/python3.6/site-packages/h5py/__init__.py:36: FutureWarning: Conversion of the second argument of issubdtype from `float` to `np.floating` is deprecated. In future, it will be treated as `np.float64 == np.dtype(float).type`.\n",
      "  from ._conv import register_converters as _register_converters\n"
     ]
    }
   ],
   "source": [
    "from tensorflow.python.keras.models import Sequential, load_model\n",
    "from tensorflow.python.keras.layers import Dense, Activation, Dropout\n",
    "from tensorflow.python.keras.wrappers.scikit_learn import KerasRegressor, KerasClassifier\n",
    "from tensorflow.python.keras import optimizers\n",
    "import numpy as np\n",
    "from sklearn.preprocessing import OneHotEncoder"
   ]
  },
  {
   "cell_type": "code",
   "execution_count": 2,
   "metadata": {},
   "outputs": [],
   "source": [
    "from sklearn.datasets import load_iris, load_boston"
   ]
  },
  {
   "cell_type": "code",
   "execution_count": 3,
   "metadata": {},
   "outputs": [],
   "source": [
    "def build_decorator(architecture_funct):\n",
    "    def wrapper(num_classes, input_dim):\n",
    "        optimizer = 'Adam'\n",
    "        metrics = ['accuracy']\n",
    "        learning_rate = 0.001\n",
    "        loss = 'mean_squared_error'\n",
    "        if optimizer is 'Adam':\n",
    "            model_optimizer = optimizers.Adam(lr=learning_rate)\n",
    "        \n",
    "        model = architecture_funct(num_classes, input_dim)\n",
    "        model.compile(loss='mean_squared_error', optimizer=model_optimizer, metrics=metrics)\n",
    "        return model\n",
    "        \n",
    "    return wrapper"
   ]
  },
  {
   "cell_type": "code",
   "execution_count": 4,
   "metadata": {},
   "outputs": [],
   "source": [
    "@build_decorator\n",
    "def architecture(num_classes, input_dim):\n",
    "    nn_deep_model = Sequential()\n",
    "    nn_deep_model.add(Dense(288, input_dim=input_dim, activation='relu'))\n",
    "    nn_deep_model.add(Dense(144, activation='relu'))\n",
    "    nn_deep_model.add(Dropout(0.5))\n",
    "    nn_deep_model.add(Dense(12, activation='relu'))\n",
    "    nn_deep_model.add(Dense(num_classes, activation='softmax'))\n",
    "    return nn_deep_model\n",
    "    \n",
    "    "
   ]
  },
  {
   "cell_type": "code",
   "execution_count": 5,
   "metadata": {
    "scrolled": true
   },
   "outputs": [],
   "source": [
    "#no decorator example of architecture\n",
    "def build_archtecture(num_classes, input_dim):\n",
    "    optimizer = 'Adam'\n",
    "    metrics = ['accuracy']\n",
    "    learning_rate = 0.001\n",
    "    loss = 'categorical_crossentropy'\n",
    "    model_optimizer = optimizers.Adam(lr=learning_rate)\n",
    "\n",
    "    nn_deep_model = Sequential()\n",
    "    nn_deep_model.add(Dense(8, input_dim=input_dim, activation='relu'))\n",
    "    nn_deep_model.add(Dense(144, activation='relu'))\n",
    "    nn_deep_model.add(Dropout(0.5))\n",
    "    nn_deep_model.add(Dense(12, activation='relu'))\n",
    "    nn_deep_model.add(Dense(num_classes, activation='softmax'))\n",
    "    \n",
    "    nn_deep_model.compile(loss=loss, optimizer=model_optimizer, metrics=metrics)\n",
    "    return nn_deep_model"
   ]
  },
  {
   "cell_type": "code",
   "execution_count": 6,
   "metadata": {},
   "outputs": [],
   "source": [
    "data = load_iris()\n",
    "y_train=data.target\n",
    "x_train = data.data\n",
    "\n",
    "onehot_encoder = OneHotEncoder(sparse=False)\n",
    "len_y = len(y_train)\n",
    "reshaped_y = y_train.reshape(len_y, 1)\n",
    "y_train_onehot_encoded = onehot_encoder.fit_transform(reshaped_y)"
   ]
  },
  {
   "cell_type": "code",
   "execution_count": 7,
   "metadata": {},
   "outputs": [],
   "source": [
    "num_samples, input_dim = x_train.shape\n",
    "num_classes = np.max(y_train + 1)\n",
    "model = KerasClassifier(build_fn=architecture, \n",
    "                                num_classes=num_classes, \n",
    "                                input_dim=input_dim,\n",
    "                                verbose=0)"
   ]
  },
  {
   "cell_type": "code",
   "execution_count": 8,
   "metadata": {
    "scrolled": true
   },
   "outputs": [
    {
     "name": "stdout",
     "output_type": "stream",
     "text": [
      "WARNING:tensorflow:From /media/viktor/Data/PhD/mlaut/py36/local/lib/python3.6/site-packages/tensorflow/python/keras/_impl/keras/backend.py:1557: calling reduce_mean (from tensorflow.python.ops.math_ops) with keep_dims is deprecated and will be removed in a future version.\n",
      "Instructions for updating:\n",
      "keep_dims is deprecated, use keepdims instead\n"
     ]
    },
    {
     "data": {
      "text/plain": [
       "<tensorflow.python.keras._impl.keras.callbacks.History at 0x7efd5c8ea438>"
      ]
     },
     "execution_count": 8,
     "metadata": {},
     "output_type": "execute_result"
    }
   ],
   "source": [
    "model.fit(x=x_train,y=y_train_onehot_encoded)\n"
   ]
  },
  {
   "cell_type": "code",
   "execution_count": 9,
   "metadata": {
    "scrolled": true
   },
   "outputs": [
    {
     "data": {
      "text/plain": [
       "array([0, 0, 0, 0, 0, 0, 0, 0, 0, 0, 0, 0, 0, 0, 0, 0, 0, 0, 0, 0, 0, 0,\n",
       "       0, 0, 0, 0, 0, 0, 0, 0, 0, 0, 0, 0, 0, 0, 0, 0, 0, 0, 0, 0, 0, 0,\n",
       "       0, 0, 0, 0, 0, 0, 2, 2, 2, 2, 2, 2, 2, 0, 2, 2, 2, 2, 2, 2, 0, 0,\n",
       "       2, 0, 2, 2, 2, 2, 2, 2, 2, 2, 2, 2, 2, 0, 2, 0, 0, 2, 2, 2, 2, 2,\n",
       "       2, 2, 2, 2, 2, 0, 2, 0, 2, 2, 0, 2, 2, 2, 2, 2, 2, 2, 2, 2, 2, 2,\n",
       "       2, 2, 2, 2, 2, 2, 2, 2, 2, 2, 2, 2, 2, 2, 2, 2, 2, 2, 2, 2, 2, 2,\n",
       "       2, 2, 2, 2, 2, 2, 2, 2, 2, 2, 2, 2, 2, 2, 2, 2, 2, 2])"
      ]
     },
     "execution_count": 9,
     "metadata": {},
     "output_type": "execute_result"
    }
   ],
   "source": [
    "model.predict(x_train)"
   ]
  },
  {
   "cell_type": "code",
   "execution_count": 9,
   "metadata": {},
   "outputs": [],
   "source": [
    "a = np.array([1,89,90,8, 8, 90])"
   ]
  },
  {
   "cell_type": "code",
   "execution_count": 10,
   "metadata": {},
   "outputs": [
    {
     "data": {
      "text/plain": [
       "4"
      ]
     },
     "execution_count": 10,
     "metadata": {},
     "output_type": "execute_result"
    }
   ],
   "source": [
    "un = np.unique(a)\n",
    "len(un)"
   ]
  }
 ],
 "metadata": {
  "kernelspec": {
   "display_name": "Python 3",
   "language": "python",
   "name": "python3"
  },
  "language_info": {
   "codemirror_mode": {
    "name": "ipython",
    "version": 3
   },
   "file_extension": ".py",
   "mimetype": "text/x-python",
   "name": "python",
   "nbconvert_exporter": "python",
   "pygments_lexer": "ipython3",
   "version": "3.6.3"
  }
 },
 "nbformat": 4,
 "nbformat_minor": 2
}
