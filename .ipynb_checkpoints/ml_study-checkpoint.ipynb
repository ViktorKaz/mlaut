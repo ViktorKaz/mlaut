{
 "cells": [
  {
   "cell_type": "code",
   "execution_count": 1,
   "metadata": {},
   "outputs": [],
   "source": [
    "from src.static_variables import (HDF5_DATA_FILENAME, X_TRAIN_DIR, X_TEST_DIR, Y_TRAIN_DIR, Y_TEST_DIR, SPLIT_DATASETS_DIR)\n",
    "import numpy as np\n",
    "import pandas as pd\n",
    "from sklearn.model_selection import train_test_split\n",
    "import h5py\n",
    "import pickle\n",
    "from scipy.io import arff"
   ]
  },
  {
   "cell_type": "code",
   "execution_count": 2,
   "metadata": {
    "scrolled": true
   },
   "outputs": [],
   "source": [
    "from src.files_io import FilesIO\n",
    "from src.models_container import ModelsContainer\n",
    "from src.run_experiments import RunExperiments"
   ]
  },
  {
   "cell_type": "markdown",
   "metadata": {},
   "source": [
    "## Run experiments for one dataset only"
   ]
  },
  {
   "cell_type": "code",
   "execution_count": 3,
   "metadata": {},
   "outputs": [],
   "source": [
    "#load dataset\n",
    "abalone = arff.loadarff('Delgado_data/abalone/abalone.arff')\n",
    "abalone = pd.DataFrame(abalone[0])\n",
    "abalone['clase'] = pd.Series(abalone['clase'], dtype=int)"
   ]
  },
  {
   "cell_type": "code",
   "execution_count": 4,
   "metadata": {},
   "outputs": [],
   "source": [
    "#create new instance of FilesIO class\n",
    "f = FilesIO('data/test.hdf5')"
   ]
  },
  {
   "cell_type": "code",
   "execution_count": 5,
   "metadata": {
    "scrolled": true
   },
   "outputs": [],
   "source": [
    "#save original dataset in HDF5 database\n",
    "metadata = [\n",
    "    {'class_name':'clase', 'dataset_name':'abalone'},\n",
    "    {'class_name':'clase', 'dataset_name':'wine_quality'},       \n",
    "           ]\n",
    "f.save_datasets(datasets =[abalone], \n",
    "                dataset_names=['abalone'], \n",
    "                dts_metadata=metadata)"
   ]
  },
  {
   "cell_type": "code",
   "execution_count": 6,
   "metadata": {},
   "outputs": [],
   "source": [
    "#create train / test split\n",
    "X_train, X_test, y_train, y_test = f.split_dataset('abalone', test_size=0.33)\n",
    "y_train = np.array(y_train, dtype=int).ravel()\n",
    "y_test = np.array(y_test, dtype=int).ravel()"
   ]
  },
  {
   "cell_type": "code",
   "execution_count": 7,
   "metadata": {
    "scrolled": true
   },
   "outputs": [],
   "source": [
    "# optional: create train /test split and save to database\n",
    "#f.split_and_save(dataset_paths=['abalone','wine_quality'], save_loc='split_datasets')"
   ]
  },
  {
   "cell_type": "code",
   "execution_count": 8,
   "metadata": {
    "scrolled": true
   },
   "outputs": [],
   "source": [
    "# instantiate machine learning strategies\n",
    "models_container = ModelsContainer()\n",
    "instantiated_models = models_container.instantiate_models(RandomForestClassifier=None, SVM=None)"
   ]
  },
  {
   "cell_type": "code",
   "execution_count": 9,
   "metadata": {},
   "outputs": [
    {
     "name": "stdout",
     "output_type": "stream",
     "text": [
      "Fitting 3 folds for each of 36 candidates, totalling 108 fits\n"
     ]
    },
    {
     "name": "stderr",
     "output_type": "stream",
     "text": [
      "[Parallel(n_jobs=1)]: Done 108 out of 108 | elapsed:    9.8s finished\n"
     ]
    },
    {
     "name": "stdout",
     "output_type": "stream",
     "text": [
      "Fitting 3 folds for each of 4 candidates, totalling 12 fits\n"
     ]
    },
    {
     "name": "stderr",
     "output_type": "stream",
     "text": [
      "[Parallel(n_jobs=1)]: Done  12 out of  12 | elapsed:    3.1s finished\n"
     ]
    }
   ],
   "source": [
    "#run machine learning experiments\n",
    "experiments = RunExperiments()\n",
    "trained_models, _ = experiments.run_experiments( X_train=X_train, \n",
    "                                                y_train=y_train, \n",
    "                                                model_container=instantiated_models)"
   ]
  },
  {
   "cell_type": "markdown",
   "metadata": {
    "scrolled": false
   },
   "source": [
    "## Run experiments on multiple datasets"
   ]
  },
  {
   "cell_type": "code",
   "execution_count": 10,
   "metadata": {},
   "outputs": [],
   "source": [
    "from src.test_orchestrator import TestOrchestrator"
   ]
  },
  {
   "cell_type": "code",
   "execution_count": 11,
   "metadata": {},
   "outputs": [],
   "source": [
    "files_io = FilesIO('data/orchestrator_test.hdf5')"
   ]
  },
  {
   "cell_type": "code",
   "execution_count": 12,
   "metadata": {},
   "outputs": [],
   "source": [
    "#load datasets in pandas dataframes and save them in the hdf5 database\n",
    "abalone = arff.loadarff('Delgado_data/abalone/abalone.arff')\n",
    "abalone = pd.DataFrame(abalone[0])\n",
    "abalone['clase'] = pd.Series(abalone['clase'], dtype=int)\n",
    "\n",
    "wine_quality_red = arff.loadarff('Delgado_data/wine-quality-red/wine-quality-red.arff')\n",
    "wine_quality_red = pd.DataFrame(wine_quality_red[0])\n",
    "wine_quality_red['clase'] = pd.Series(wine_quality_red['clase'], dtype=int)\n",
    "\n",
    "wine_quality_white = arff.loadarff('Delgado_data/wine-quality-white/wine-quality-white.arff')\n",
    "wine_quality_white = pd.DataFrame(wine_quality_white[0])\n",
    "wine_quality_white['clase'] = pd.Series(wine_quality_white['clase'], dtype=int)\n",
    "\n",
    "metadata = [\n",
    "    {'class_name':'clase', 'dataset_name':'abalone'},\n",
    "    {'class_name':'clase', 'dataset_name':'wine_quality_red'},\n",
    "    {'class_name':'clase', 'dataset_name':'wine_quality_white'},       \n",
    "\n",
    "           ]\n",
    "files_io.save_datasets(datasets =[abalone, wine_quality_red,wine_quality_white ], \n",
    "                dataset_names=['abalone', 'wine_quality_red', 'wine_quality_white'], \n",
    "                dts_metadata=metadata)"
   ]
  },
  {
   "cell_type": "code",
   "execution_count": 13,
   "metadata": {},
   "outputs": [],
   "source": [
    "#split datasets to train and test\n",
    "files_io.split_and_save(dataset_paths=['abalone', 'wine_quality_white', 'wine_quality_red'],\n",
    "                        save_loc ='split_datasets')"
   ]
  },
  {
   "cell_type": "code",
   "execution_count": 14,
   "metadata": {},
   "outputs": [],
   "source": [
    "# instantiate machine learning strategies\n",
    "models_container = ModelsContainer()\n",
    "instantiated_models = models_container.instantiate_models(RandomForestClassifier=None, SVM=None, LogisticRegression=None)"
   ]
  },
  {
   "cell_type": "code",
   "execution_count": 15,
   "metadata": {},
   "outputs": [],
   "source": [
    "#run experiments\n",
    "f = FilesIO('data/orchestrator_test.hdf5')\n",
    "datasets = files_io.list_datasets('split_datasets')\n",
    "experiments = RunExperiments()\n",
    "test_orchestrator = TestOrchestrator('split_datasets', files_io, None, experiments, None)\n",
    "test_orchestrator.run_experiments(datasets, instantiated_models)\n"
   ]
  }
 ],
 "metadata": {
  "kernelspec": {
   "display_name": "Python 3",
   "language": "python",
   "name": "python3"
  },
  "language_info": {
   "codemirror_mode": {
    "name": "ipython",
    "version": 3
   },
   "file_extension": ".py",
   "mimetype": "text/x-python",
   "name": "python",
   "nbconvert_exporter": "python",
   "pygments_lexer": "ipython3",
   "version": "3.6.3"
  }
 },
 "nbformat": 4,
 "nbformat_minor": 2
}
