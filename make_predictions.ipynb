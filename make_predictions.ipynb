{
 "cells": [
  {
   "cell_type": "code",
   "execution_count": 1,
   "metadata": {
    "scrolled": false
   },
   "outputs": [
    {
     "name": "stderr",
     "output_type": "stream",
     "text": [
      "/media/viktor/Data/PhD/mlaut/py36/local/lib/python3.6/site-packages/h5py/__init__.py:36: FutureWarning: Conversion of the second argument of issubdtype from `float` to `np.floating` is deprecated. In future, it will be treated as `np.float64 == np.dtype(float).type`.\n",
      "  from ._conv import register_converters as _register_converters\n"
     ]
    }
   ],
   "source": [
    "from mlaut.analyze_results import AnalyseResults\n",
    "from mlaut.data import Data\n",
    "from mlaut.data.data import Data\n",
    "import pickle\n",
    "import numpy as np\n",
    "from sklearn.metrics import mean_squared_error\n",
    "from mlaut.experiments import Orchestrator\n",
    "from mlaut.estimators.estimators import instantiate_default_estimators\n",
    "import os"
   ]
  },
  {
   "cell_type": "code",
   "execution_count": 2,
   "metadata": {},
   "outputs": [],
   "source": [
    "data = Data()\n",
    "input_io = data.open_hdf5('data/openml.h5', mode='r')\n",
    "out_io = data.open_hdf5('data/openml-classification.h5', mode='a')"
   ]
  },
  {
   "cell_type": "code",
   "execution_count": 3,
   "metadata": {},
   "outputs": [],
   "source": [
    "dts_names = ['credit-g']\n",
    "orchest = Orchestrator(hdf5_input_io=input_io, \n",
    "                           hdf5_output_io=out_io,\n",
    "                           dts_names=dts_names,\n",
    "                           original_datasets_group_h5_path='/openml')"
   ]
  },
  {
   "cell_type": "code",
   "execution_count": 4,
   "metadata": {
    "scrolled": false
   },
   "outputs": [
    {
     "name": "stdout",
     "output_type": "stream",
     "text": [
      "WARNING:tensorflow:From /media/viktor/Data/PhD/mlaut/py36/local/lib/python3.6/site-packages/tensorflow/python/keras/_impl/keras/backend.py:1557: calling reduce_mean (from tensorflow.python.ops.math_ops) with keep_dims is deprecated and will be removed in a future version.\n",
      "Instructions for updating:\n",
      "keep_dims is deprecated, use keepdims instead\n"
     ]
    },
    {
     "name": "stderr",
     "output_type": "stream",
     "text": [
      "2018-05-28 15:23:01,810 [MainThread  ] [WARNI]  From /media/viktor/Data/PhD/mlaut/py36/local/lib/python3.6/site-packages/tensorflow/python/keras/_impl/keras/backend.py:1557: calling reduce_mean (from tensorflow.python.ops.math_ops) with keep_dims is deprecated and will be removed in a future version.\n",
      "Instructions for updating:\n",
      "keep_dims is deprecated, use keepdims instead\n",
      "2018-05-28 15:23:01,810 [MainThread  ] [WARNI]  From /media/viktor/Data/PhD/mlaut/py36/local/lib/python3.6/site-packages/tensorflow/python/keras/_impl/keras/backend.py:1557: calling reduce_mean (from tensorflow.python.ops.math_ops) with keep_dims is deprecated and will be removed in a future version.\n",
      "Instructions for updating:\n",
      "keep_dims is deprecated, use keepdims instead\n",
      "2018-05-28 15:23:01,810 [MainThread  ] [WARNI]  From /media/viktor/Data/PhD/mlaut/py36/local/lib/python3.6/site-packages/tensorflow/python/keras/_impl/keras/backend.py:1557: calling reduce_mean (from tensorflow.python.ops.math_ops) with keep_dims is deprecated and will be removed in a future version.\n",
      "Instructions for updating:\n",
      "keep_dims is deprecated, use keepdims instead\n",
      "2018-05-28 15:23:02,233 [MainThread  ] [INFO ]  Prediction of NeuralNetworkDeepClassifier on credit-g stored in database.\n",
      "2018-05-28 15:23:02,233 [MainThread  ] [INFO ]  Prediction of NeuralNetworkDeepClassifier on credit-g stored in database.\n",
      "2018-05-28 15:23:02,233 [MainThread  ] [INFO ]  Prediction of NeuralNetworkDeepClassifier on credit-g stored in database.\n",
      "2018-05-28 15:23:02,250 [MainThread  ] [INFO ]  Prediction of RandomForestClassifier on credit-g stored in database.\n",
      "2018-05-28 15:23:02,250 [MainThread  ] [INFO ]  Prediction of RandomForestClassifier on credit-g stored in database.\n",
      "2018-05-28 15:23:02,250 [MainThread  ] [INFO ]  Prediction of RandomForestClassifier on credit-g stored in database.\n",
      "2018-05-28 15:23:02,259 [MainThread  ] [INFO ]  Prediction of K_Means on credit-g stored in database.\n",
      "2018-05-28 15:23:02,259 [MainThread  ] [INFO ]  Prediction of K_Means on credit-g stored in database.\n",
      "2018-05-28 15:23:02,259 [MainThread  ] [INFO ]  Prediction of K_Means on credit-g stored in database.\n",
      "2018-05-28 15:23:02,276 [MainThread  ] [INFO ]  Prediction of SVC on credit-g stored in database.\n",
      "2018-05-28 15:23:02,276 [MainThread  ] [INFO ]  Prediction of SVC on credit-g stored in database.\n",
      "2018-05-28 15:23:02,276 [MainThread  ] [INFO ]  Prediction of SVC on credit-g stored in database.\n",
      "2018-05-28 15:23:02,309 [MainThread  ] [INFO ]  Prediction of BaggingClassifier on credit-g stored in database.\n",
      "2018-05-28 15:23:02,309 [MainThread  ] [INFO ]  Prediction of BaggingClassifier on credit-g stored in database.\n",
      "2018-05-28 15:23:02,309 [MainThread  ] [INFO ]  Prediction of BaggingClassifier on credit-g stored in database.\n",
      "2018-05-28 15:23:02,321 [MainThread  ] [INFO ]  Prediction of GradientBoostingClassifier on credit-g stored in database.\n",
      "2018-05-28 15:23:02,321 [MainThread  ] [INFO ]  Prediction of GradientBoostingClassifier on credit-g stored in database.\n",
      "2018-05-28 15:23:02,321 [MainThread  ] [INFO ]  Prediction of GradientBoostingClassifier on credit-g stored in database.\n",
      "2018-05-28 15:23:02,337 [MainThread  ] [INFO ]  Prediction of PassiveAggressiveClassifier on credit-g stored in database.\n",
      "2018-05-28 15:23:02,337 [MainThread  ] [INFO ]  Prediction of PassiveAggressiveClassifier on credit-g stored in database.\n",
      "2018-05-28 15:23:02,337 [MainThread  ] [INFO ]  Prediction of PassiveAggressiveClassifier on credit-g stored in database.\n",
      "2018-05-28 15:23:02,345 [MainThread  ] [INFO ]  Prediction of BernoulliNaiveBayes on credit-g stored in database.\n",
      "2018-05-28 15:23:02,345 [MainThread  ] [INFO ]  Prediction of BernoulliNaiveBayes on credit-g stored in database.\n",
      "2018-05-28 15:23:02,345 [MainThread  ] [INFO ]  Prediction of BernoulliNaiveBayes on credit-g stored in database.\n",
      "2018-05-28 15:23:02,359 [MainThread  ] [INFO ]  Prediction of BaselineClassifier on credit-g stored in database.\n",
      "2018-05-28 15:23:02,359 [MainThread  ] [INFO ]  Prediction of BaselineClassifier on credit-g stored in database.\n",
      "2018-05-28 15:23:02,359 [MainThread  ] [INFO ]  Prediction of BaselineClassifier on credit-g stored in database.\n",
      "2018-05-28 15:23:02,370 [MainThread  ] [INFO ]  Prediction of GaussianNaiveBayes on credit-g stored in database.\n",
      "2018-05-28 15:23:02,370 [MainThread  ] [INFO ]  Prediction of GaussianNaiveBayes on credit-g stored in database.\n",
      "2018-05-28 15:23:02,370 [MainThread  ] [INFO ]  Prediction of GaussianNaiveBayes on credit-g stored in database.\n"
     ]
    }
   ],
   "source": [
    "instantiated_models = instantiate_default_estimators(estimators=['Classification'], verbose=1)\n",
    "orchest.predict_all(trained_models_dir='data/trained_models', estimators=instantiated_models)"
   ]
  },
  {
   "cell_type": "markdown",
   "metadata": {},
   "source": [
    "### Debugging"
   ]
  },
  {
   "cell_type": "code",
   "execution_count": null,
   "metadata": {},
   "outputs": [],
   "source": [
    "from tensorflow.python.keras import models\n",
    "from tensorflow.python.keras.models import Sequential\n",
    "import os\n",
    "from sklearn.preprocessing import OneHotEncoder\n",
    "from mlaut.data import Data\n"
   ]
  },
  {
   "cell_type": "code",
   "execution_count": null,
   "metadata": {},
   "outputs": [],
   "source": [
    "data = Data()\n",
    "input_io = data.open_hdf5('data/openml.h5', mode='r')\n",
    "out_io = data.open_hdf5('data/openml-classification.h5', mode='a')"
   ]
  },
  {
   "cell_type": "code",
   "execution_count": null,
   "metadata": {},
   "outputs": [],
   "source": [
    "class OverwrittenSequentialClassifier(Sequential):\n",
    "    \"\"\"\n",
    "    Keras sequential model that overrides the default :func:`tensorflow.python.keras.models.fit` and :func:`tensorflow.python.keras.models.predict` methods.\n",
    "    \"\"\"\n",
    "\n",
    "\n",
    "\n",
    "    def fit(self, X_train, y_train):\n",
    "            \n",
    "        \"\"\"\n",
    "        Overrides the default :func:`tensorflow.python.keras.models.fit` and reshapes the `y_train` in one hot array. \n",
    "\n",
    "        Paremeters\n",
    "        ----------\n",
    "        X_train: training data\n",
    "        y_train: Labels that will be converted to onehot array.\n",
    "\n",
    "\n",
    "        Returns\n",
    "        -------\n",
    "        :func:`tensorflow.python.keras.models.fit` object\n",
    "\n",
    "        \"\"\"\n",
    "        onehot_encoder = OneHotEncoder(sparse=False)\n",
    "        len_y = len(y_train)\n",
    "        reshaped_y = y_train.reshape(len_y, 1)\n",
    "        y_train_onehot_encoded = onehot_encoder.fit_transform(reshaped_y)\n",
    "        \n",
    "        \n",
    "        return super().fit(X_train, y_train_onehot_encoded)\n",
    "\n",
    "    def pred(self, X_test):\n",
    "        \"\"\"\n",
    "        Overrides the default :func:`tensorflow.python.keras.models.predict` by replacing it with a :func:`tensorflow.python.keras.models.predict_classes`  \n",
    "\n",
    "        Returns\n",
    "        --------\n",
    "        :func:`tensorflow.python.keras.models.predict_classes`\n",
    "        \"\"\"\n",
    "\n",
    "        return Sequential.predict_classes(X_test)\n",
    "        # return super().predict_classes(X_test)"
   ]
  },
  {
   "cell_type": "code",
   "execution_count": null,
   "metadata": {},
   "outputs": [],
   "source": [
    "mn = models.load_model('data/trained_models/AP_Breast_Colon/NeuralNetworkDeepClassifier.h5',\n",
    "                  custom_objects={\n",
    "                               'OverwrittenSequentialClassifier':OverwrittenSequentialClassifier\n",
    "                               })"
   ]
  },
  {
   "cell_type": "code",
   "execution_count": null,
   "metadata": {},
   "outputs": [],
   "source": [
    "datasets = os.listdir('data/trained_models/')"
   ]
  },
  {
   "cell_type": "code",
   "execution_count": null,
   "metadata": {},
   "outputs": [],
   "source": [
    "(X_train, \n",
    " X_test, \n",
    " y_train, \n",
    " y_test) = data.load_test_train_dts(hdf5_out=out_io,\n",
    "                                    hdf5_in=input_io, \n",
    "                                    dts_name=datasets[0], \n",
    "                                    dts_grp_path='/openml')"
   ]
  },
  {
   "cell_type": "code",
   "execution_count": null,
   "metadata": {},
   "outputs": [],
   "source": [
    "mn.pred(X_test)"
   ]
  },
  {
   "cell_type": "code",
   "execution_count": null,
   "metadata": {},
   "outputs": [],
   "source": [
    "import numpy as np\n",
    "a = np.array([[1,0],[1,0],[0,1]])"
   ]
  },
  {
   "cell_type": "code",
   "execution_count": null,
   "metadata": {},
   "outputs": [],
   "source": [
    "a.argmax(axis=1)"
   ]
  }
 ],
 "metadata": {
  "kernelspec": {
   "display_name": "Python 3",
   "language": "python",
   "name": "python3"
  },
  "language_info": {
   "codemirror_mode": {
    "name": "ipython",
    "version": 3
   },
   "file_extension": ".py",
   "mimetype": "text/x-python",
   "name": "python",
   "nbconvert_exporter": "python",
   "pygments_lexer": "ipython3",
   "version": "3.6.3"
  }
 },
 "nbformat": 4,
 "nbformat_minor": 2
}
