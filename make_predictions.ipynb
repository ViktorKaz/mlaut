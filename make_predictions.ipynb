{
 "cells": [
  {
   "cell_type": "code",
   "execution_count": 1,
   "metadata": {
    "scrolled": false
   },
   "outputs": [],
   "source": [
    "from mlaut.analyze_results import AnalyseResults\n",
    "from mlaut.data import Data\n",
    "from mlaut.data.data import Data\n",
    "import pickle\n",
    "import numpy as np\n",
    "from sklearn.metrics import mean_squared_error\n",
    "from mlaut.experiments import Orchestrator\n",
    "from mlaut.estimators.estimators import instantiate_default_estimators\n",
    "import os"
   ]
  },
  {
   "cell_type": "code",
   "execution_count": 2,
   "metadata": {},
   "outputs": [],
   "source": [
    "data = Data()\n",
    "input_io = data.open_hdf5('data/delgado.h5', mode='r')\n",
    "out_io = data.open_hdf5('data/delgado-classification-deep.h5', mode='a')\n",
    "analyze = AnalyseResults(hdf5_output_io=out_io, \n",
    "                        hdf5_input_io=input_io, \n",
    "                        input_h5_original_datasets_group='openml/', \n",
    "                        output_h5_predictions_group='experiments/predictions/')"
   ]
  },
  {
   "cell_type": "code",
   "execution_count": 3,
   "metadata": {},
   "outputs": [],
   "source": [
    "dts = out_io.list_datasets('experiments/predictions')"
   ]
  },
  {
   "cell_type": "code",
   "execution_count": 6,
   "metadata": {},
   "outputs": [
    {
     "name": "stdout",
     "output_type": "stream",
     "text": [
      "Overriding: abalone/NN-12-layer_wide_with_dropout\n",
      "Overriding: abalone/NN-4-layer_thin_dropout\n",
      "Overriding: abalone/NN-4-layer_wide_no_dropout\n",
      "Overriding: abalone/NN-4-layer_wide_with_dropout\n",
      "Overriding: acute_inflammation/NN-12-layer_wide_with_dropout\n",
      "Overriding: acute_inflammation/NN-4-layer_thin_dropout\n",
      "Overriding: acute_inflammation/NN-4-layer_wide_no_dropout\n",
      "Overriding: acute_inflammation/NN-4-layer_wide_with_dropout\n",
      "Overriding: acute_nephritis/NN-12-layer_wide_with_dropout\n",
      "Overriding: acute_nephritis/NN-4-layer_thin_dropout\n",
      "Overriding: acute_nephritis/NN-4-layer_wide_no_dropout\n",
      "Overriding: acute_nephritis/NN-4-layer_wide_with_dropout\n",
      "Overriding: adult/NN-12-layer_wide_with_dropout\n",
      "Overriding: adult/NN-4-layer_thin_dropout\n",
      "Overriding: adult/NN-4-layer_wide_no_dropout\n",
      "Overriding: adult/NN-4-layer_wide_with_dropout\n",
      "Overriding: annealing/NN-12-layer_wide_with_dropout\n",
      "Overriding: annealing/NN-4-layer_thin_dropout\n",
      "Overriding: annealing/NN-4-layer_wide_no_dropout\n",
      "Overriding: annealing/NN-4-layer_wide_with_dropout\n",
      "Overriding: arrhythmia/NN-12-layer_wide_with_dropout\n",
      "Overriding: arrhythmia/NN-4-layer_thin_dropout\n",
      "Overriding: arrhythmia/NN-4-layer_wide_no_dropout\n",
      "Overriding: arrhythmia/NN-4-layer_wide_with_dropout\n",
      "Overriding: audiology_std/NN-12-layer_wide_with_dropout\n",
      "Overriding: audiology_std/NN-4-layer_thin_dropout\n",
      "Overriding: audiology_std/NN-4-layer_wide_no_dropout\n",
      "Overriding: audiology_std/NN-4-layer_wide_with_dropout\n",
      "Overriding: balance_scale/NN-12-layer_wide_with_dropout\n",
      "Overriding: balance_scale/NN-4-layer_thin_dropout\n",
      "Overriding: balance_scale/NN-4-layer_wide_no_dropout\n",
      "Overriding: balance_scale/NN-4-layer_wide_with_dropout\n",
      "Overriding: balloons/NN-12-layer_wide_with_dropout\n",
      "Overriding: balloons/NN-4-layer_thin_dropout\n",
      "Overriding: balloons/NN-4-layer_wide_no_dropout\n",
      "Overriding: balloons/NN-4-layer_wide_with_dropout\n",
      "Overriding: bank/NN-12-layer_wide_with_dropout\n",
      "Overriding: bank/NN-4-layer_thin_dropout\n",
      "Overriding: bank/NN-4-layer_wide_no_dropout\n",
      "Overriding: bank/NN-4-layer_wide_with_dropout\n",
      "Overriding: blood/NN-12-layer_wide_with_dropout\n",
      "Overriding: blood/NN-4-layer_thin_dropout\n",
      "Overriding: blood/NN-4-layer_wide_no_dropout\n",
      "Overriding: blood/NN-4-layer_wide_with_dropout\n",
      "Overriding: breast_cancer/NN-12-layer_wide_with_dropout\n",
      "Overriding: breast_cancer/NN-4-layer_thin_dropout\n",
      "Overriding: breast_cancer/NN-4-layer_wide_no_dropout\n",
      "Overriding: breast_cancer/NN-4-layer_wide_with_dropout\n",
      "Overriding: breast_cancer_wisc/NN-12-layer_wide_with_dropout\n",
      "Overriding: breast_cancer_wisc/NN-4-layer_thin_dropout\n",
      "Overriding: breast_cancer_wisc/NN-4-layer_wide_no_dropout\n",
      "Overriding: breast_cancer_wisc/NN-4-layer_wide_with_dropout\n",
      "Overriding: breast_cancer_wisc_diag/NN-12-layer_wide_with_dropout\n",
      "Overriding: breast_cancer_wisc_diag/NN-4-layer_thin_dropout\n",
      "Overriding: breast_cancer_wisc_diag/NN-4-layer_wide_no_dropout\n",
      "Overriding: breast_cancer_wisc_diag/NN-4-layer_wide_with_dropout\n",
      "Overriding: breast_cancer_wisc_prog/NN-12-layer_wide_with_dropout\n",
      "Overriding: breast_cancer_wisc_prog/NN-4-layer_thin_dropout\n",
      "Overriding: breast_cancer_wisc_prog/NN-4-layer_wide_no_dropout\n",
      "Overriding: breast_cancer_wisc_prog/NN-4-layer_wide_with_dropout\n",
      "Overriding: breast_tissue/NN-12-layer_wide_with_dropout\n",
      "Overriding: breast_tissue/NN-4-layer_thin_dropout\n",
      "Overriding: breast_tissue/NN-4-layer_wide_no_dropout\n",
      "Overriding: breast_tissue/NN-4-layer_wide_with_dropout\n",
      "Overriding: car/NN-12-layer_wide_with_dropout\n",
      "Overriding: car/NN-4-layer_thin_dropout\n",
      "Overriding: car/NN-4-layer_wide_no_dropout\n",
      "Overriding: car/NN-4-layer_wide_with_dropout\n",
      "Overriding: cardiotocography_10clases/NN-12-layer_wide_with_dropout\n",
      "Overriding: cardiotocography_10clases/NN-4-layer_thin_dropout\n",
      "Overriding: cardiotocography_10clases/NN-4-layer_wide_no_dropout\n",
      "Overriding: cardiotocography_10clases/NN-4-layer_wide_with_dropout\n",
      "Overriding: cardiotocography_3clases/NN-12-layer_wide_with_dropout\n",
      "Overriding: cardiotocography_3clases/NN-4-layer_thin_dropout\n",
      "Overriding: cardiotocography_3clases/NN-4-layer_wide_no_dropout\n",
      "Overriding: cardiotocography_3clases/NN-4-layer_wide_with_dropout\n",
      "Overriding: chess_krvk/NN-12-layer_wide_with_dropout\n",
      "Overriding: chess_krvk/NN-4-layer_thin_dropout\n",
      "Overriding: chess_krvk/NN-4-layer_wide_no_dropout\n",
      "Overriding: chess_krvk/NN-4-layer_wide_with_dropout\n",
      "Overriding: chess_krvkp/NN-12-layer_wide_with_dropout\n",
      "Overriding: chess_krvkp/NN-4-layer_thin_dropout\n",
      "Overriding: chess_krvkp/NN-4-layer_wide_no_dropout\n",
      "Overriding: chess_krvkp/NN-4-layer_wide_with_dropout\n",
      "Overriding: congressional_voting/NN-12-layer_wide_with_dropout\n",
      "Overriding: congressional_voting/NN-4-layer_thin_dropout\n",
      "Overriding: congressional_voting/NN-4-layer_wide_no_dropout\n",
      "Overriding: congressional_voting/NN-4-layer_wide_with_dropout\n",
      "Overriding: conn_bench_sonar_mines_rocks/NN-12-layer_wide_with_dropout\n",
      "Overriding: conn_bench_sonar_mines_rocks/NN-4-layer_thin_dropout\n",
      "Overriding: conn_bench_sonar_mines_rocks/NN-4-layer_wide_no_dropout\n",
      "Overriding: conn_bench_sonar_mines_rocks/NN-4-layer_wide_with_dropout\n",
      "Overriding: conn_bench_vowel_deterding/NN-12-layer_wide_with_dropout\n",
      "Overriding: conn_bench_vowel_deterding/NN-4-layer_thin_dropout\n",
      "Overriding: conn_bench_vowel_deterding/NN-4-layer_wide_no_dropout\n",
      "Overriding: conn_bench_vowel_deterding/NN-4-layer_wide_with_dropout\n",
      "Overriding: connect_4/NN-12-layer_wide_with_dropout\n",
      "Overriding: connect_4/NN-4-layer_thin_dropout\n",
      "Overriding: connect_4/NN-4-layer_wide_no_dropout\n",
      "Overriding: connect_4/NN-4-layer_wide_with_dropout\n"
     ]
    }
   ],
   "source": [
    "for d in dts:\n",
    "    estimaotrs_list = out_io.list_datasets(f'experiments/predictions/{d}')\n",
    "    for e in estimaotrs_list:\n",
    "        p = out_io.load_dataset_h5(f'experiments/predictions/{d}/{e}')\n",
    "        if p[0].ndim > 1:\n",
    "            new_p = p[0].argmax(axis=1)\n",
    "            out_io.save_prediction_to_db(predictions=new_p, dataset_name=d, strategy_name=e)\n",
    "            print(f'Overriding: {d}/{e}')\n",
    "                \n",
    "\n"
   ]
  },
  {
   "cell_type": "code",
   "execution_count": null,
   "metadata": {},
   "outputs": [],
   "source": [
    "p = out_io.load_dataset_h5(f'experiments/predictions/abalone/SVC')"
   ]
  },
  {
   "cell_type": "code",
   "execution_count": 7,
   "metadata": {},
   "outputs": [],
   "source": [
    "p = out_io.load_dataset_h5(f'experiments/predictions/abalone/NN-12-layer_wide_with_dropout')"
   ]
  },
  {
   "cell_type": "code",
   "execution_count": 8,
   "metadata": {},
   "outputs": [
    {
     "data": {
      "text/plain": [
       "array([0, 0, 0, ..., 0, 0, 0])"
      ]
     },
     "execution_count": 8,
     "metadata": {},
     "output_type": "execute_result"
    }
   ],
   "source": [
    "p[0]"
   ]
  },
  {
   "cell_type": "code",
   "execution_count": 9,
   "metadata": {},
   "outputs": [
    {
     "data": {
      "text/plain": [
       "1"
      ]
     },
     "execution_count": 9,
     "metadata": {},
     "output_type": "execute_result"
    }
   ],
   "source": [
    "p[0].ndim"
   ]
  },
  {
   "cell_type": "code",
   "execution_count": null,
   "metadata": {},
   "outputs": [],
   "source": [
    "len(p[0].argmax(axis=1))"
   ]
  }
 ],
 "metadata": {
  "kernelspec": {
   "display_name": "Python 3",
   "language": "python",
   "name": "python3"
  },
  "language_info": {
   "codemirror_mode": {
    "name": "ipython",
    "version": 3
   },
   "file_extension": ".py",
   "mimetype": "text/x-python",
   "name": "python",
   "nbconvert_exporter": "python",
   "pygments_lexer": "ipython3",
   "version": "3.6.3"
  }
 },
 "nbformat": 4,
 "nbformat_minor": 2
}
