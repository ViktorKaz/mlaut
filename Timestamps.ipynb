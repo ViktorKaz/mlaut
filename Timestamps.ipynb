{
 "cells": [
  {
   "cell_type": "code",
   "execution_count": 2,
   "metadata": {},
   "outputs": [],
   "source": [
    "from mlaut.analyze_results import AnalyseResults\n",
    "from mlaut.data import Data\n",
    "from mlaut.data.data import Data\n",
    "import pickle\n",
    "import numpy as np\n",
    "from sklearn.metrics import mean_squared_error\n",
    "from mlaut.experiments import Orchestrator\n",
    "from mlaut.estimators.estimators import instantiate_default_estimators\n",
    "import os"
   ]
  },
  {
   "cell_type": "code",
   "execution_count": 45,
   "metadata": {},
   "outputs": [],
   "source": [
    "data = Data()\n",
    "out_io = data.open_hdf5('data/delgado-classification-copy.h5', mode='r')\n",
    "out2_io = data.open_hdf5('data/delgado-classification-deep-backup.h5', mode='r')\n",
    "out3_io = data.open_hdf5('data/delgado-classification-deep.h5', mode='a')\n"
   ]
  },
  {
   "cell_type": "code",
   "execution_count": 47,
   "metadata": {},
   "outputs": [],
   "source": [
    "append_dts = out3_io.list_datasets('run_times')"
   ]
  },
  {
   "cell_type": "code",
   "execution_count": 49,
   "metadata": {},
   "outputs": [],
   "source": [
    "for d in append_dts:\n",
    "    dts1, meta = out_io.load_dataset_pd(f'run_times/{d}',  return_metadata=False)\n",
    "    dts2, meta = out2_io.load_dataset_pd(f'run_times/{d}',  return_metadata=False)\n",
    "    dts3, meta = out3_io.load_dataset_pd(f'run_times/{d}',  return_metadata=False)\n",
    "    \n",
    "    dts3 = dts3.append(dts1)\n",
    "    dts3 = dts3.append(dts2)\n",
    "    \n",
    "    out3_io.save_ml_strategy_timestamps(timestamps_df=dts3, dataset_name=d)"
   ]
  },
  {
   "cell_type": "code",
   "execution_count": 40,
   "metadata": {},
   "outputs": [],
   "source": [
    "\n"
   ]
  },
  {
   "cell_type": "code",
   "execution_count": 43,
   "metadata": {},
   "outputs": [],
   "source": [
    "dts3 = dts3.append(dts1)\n",
    "dts3 = dts3.append(dts2)"
   ]
  },
  {
   "cell_type": "code",
   "execution_count": 44,
   "metadata": {},
   "outputs": [
    {
     "data": {
      "text/plain": [
       "(24, 4)"
      ]
     },
     "execution_count": 44,
     "metadata": {},
     "output_type": "execute_result"
    }
   ],
   "source": [
    "dts3.shape"
   ]
  }
 ],
 "metadata": {
  "kernelspec": {
   "display_name": "Python 3",
   "language": "python",
   "name": "python3"
  },
  "language_info": {
   "codemirror_mode": {
    "name": "ipython",
    "version": 3
   },
   "file_extension": ".py",
   "mimetype": "text/x-python",
   "name": "python",
   "nbconvert_exporter": "python",
   "pygments_lexer": "ipython3",
   "version": "3.6.3"
  }
 },
 "nbformat": 4,
 "nbformat_minor": 2
}
