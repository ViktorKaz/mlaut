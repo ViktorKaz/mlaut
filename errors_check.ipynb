{
 "cells": [
  {
   "cell_type": "code",
   "execution_count": 6,
   "metadata": {
    "scrolled": true
   },
   "outputs": [],
   "source": [
    "from mlaut.data import Data\n",
    "from mlaut.experiments import Orchestrator\n",
    "from mlaut.estimators.estimators import instantiate_default_estimators\n",
    "import os\n",
    "import re"
   ]
  },
  {
   "cell_type": "code",
   "execution_count": 2,
   "metadata": {},
   "outputs": [],
   "source": [
    "data = Data()\n",
    "input_io = data.open_hdf5('data/delgado.h5', mode='r')\n",
    "out_io = data.open_hdf5('data/delgado-classification.h5', mode='a')\n",
    "\n",
    "dts_names = os.listdir('data/trained_models')\n"
   ]
  },
  {
   "cell_type": "code",
   "execution_count": 10,
   "metadata": {},
   "outputs": [],
   "source": [
    "p = re.compile('wine*')"
   ]
  },
  {
   "cell_type": "code",
   "execution_count": 17,
   "metadata": {},
   "outputs": [
    {
     "name": "stdout",
     "output_type": "stream",
     "text": [
      "7\n",
      "58\n",
      "81\n"
     ]
    }
   ],
   "source": [
    "for i in range(len(dts_names)):\n",
    "    name = dts_names[i]\n",
    "    m = p.match(name)\n",
    "    if m != None:\n",
    "        print(i)"
   ]
  },
  {
   "cell_type": "code",
   "execution_count": null,
   "metadata": {},
   "outputs": [],
   "source": [
    "orchest = Orchestrator(hdf5_input_io=input_io, \n",
    "                           hdf5_output_io=out_io,\n",
    "                           dts_names=dts_names[7],\n",
    "                           original_datasets_group_h5_path='/openml')\n",
    "\n",
    "instantiated_models = instantiate_default_estimators(estimators=['Classification'], verbose=1)\n",
    "orchest.predict_all(trained_models_dir='data/trained_models', estimators=instantiated_models, override=True)"
   ]
  }
 ],
 "metadata": {
  "kernelspec": {
   "display_name": "Python 3",
   "language": "python",
   "name": "python3"
  },
  "language_info": {
   "codemirror_mode": {
    "name": "ipython",
    "version": 3
   },
   "file_extension": ".py",
   "mimetype": "text/x-python",
   "name": "python",
   "nbconvert_exporter": "python",
   "pygments_lexer": "ipython3",
   "version": "3.6.3"
  }
 },
 "nbformat": 4,
 "nbformat_minor": 2
}
